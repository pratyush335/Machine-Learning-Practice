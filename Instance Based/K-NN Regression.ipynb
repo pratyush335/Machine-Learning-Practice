{
 "cells": [
  {
   "cell_type": "markdown",
   "id": "c0f49928",
   "metadata": {},
   "source": [
    "# K-NN Regression "
   ]
  },
  {
   "cell_type": "code",
   "execution_count": 23,
   "id": "88b43c6e",
   "metadata": {},
   "outputs": [],
   "source": [
    "import numpy as np\n",
    "from sklearn.neighbors import KNeighborsRegressor\n",
    "from sklearn.preprocessing import MinMaxScaler\n",
    "from sklearn.pipeline import Pipeline"
   ]
  },
  {
   "cell_type": "code",
   "execution_count": 24,
   "id": "e7dfc12e",
   "metadata": {},
   "outputs": [],
   "source": [
    "x_train = np.array([[1000,0.5],[2000,0.6],[1500,0.3],[990,1.0],[5400,0.7]])\n",
    "y_train = np.array([11,20,42,16,25])\n",
    "pipe = Pipeline([('scaler', MinMaxScaler()), \n",
    "                 ('knn', KNeighborsRegressor(n_neighbors=3))])"
   ]
  },
  {
   "cell_type": "code",
   "execution_count": 25,
   "id": "cc56117e",
   "metadata": {},
   "outputs": [
    {
     "data": {
      "text/plain": [
       "Pipeline(steps=[('scaler', MinMaxScaler()),\n",
       "                ('knn', KNeighborsRegressor(n_neighbors=3))])"
      ]
     },
     "execution_count": 25,
     "metadata": {},
     "output_type": "execute_result"
    }
   ],
   "source": [
    "pipe.fit(x_train,y_train)"
   ]
  },
  {
   "cell_type": "code",
   "execution_count": 32,
   "id": "8926f339",
   "metadata": {},
   "outputs": [
    {
     "name": "stdout",
     "output_type": "stream",
     "text": [
      "[24.33333333]\n"
     ]
    }
   ],
   "source": [
    "x_test = np.array([[1700,0.2]])\n",
    "y_pred = pipe.predict(x_test)\n",
    "print(y_pred)"
   ]
  }
 ],
 "metadata": {
  "kernelspec": {
   "display_name": "Python 3",
   "language": "python",
   "name": "python3"
  },
  "language_info": {
   "codemirror_mode": {
    "name": "ipython",
    "version": 3
   },
   "file_extension": ".py",
   "mimetype": "text/x-python",
   "name": "python",
   "nbconvert_exporter": "python",
   "pygments_lexer": "ipython3",
   "version": "3.8.8"
  }
 },
 "nbformat": 4,
 "nbformat_minor": 5
}
