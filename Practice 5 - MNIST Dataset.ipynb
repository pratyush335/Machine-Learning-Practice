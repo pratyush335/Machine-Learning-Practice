{
  "nbformat": 4,
  "nbformat_minor": 0,
  "metadata": {
    "colab": {
      "name": "Practice 5 - MNIST Dataset.ipynb",
      "provenance": [],
      "authorship_tag": "ABX9TyNqpcF5g5ISlgWXdCxbAMyE"
    },
    "kernelspec": {
      "name": "python3",
      "display_name": "Python 3"
    },
    "language_info": {
      "name": "python"
    }
  },
  "cells": [
    {
      "cell_type": "markdown",
      "source": [
        "Loading the MNIST dataset (mnist_784, version=1) from openml"
      ],
      "metadata": {
        "id": "JVUCUsVgmQ8j"
      }
    },
    {
      "cell_type": "code",
      "execution_count": 3,
      "metadata": {
        "id": "YY-eJ58tkAGs"
      },
      "outputs": [],
      "source": [
        "import pandas as pd\n",
        "import numpy as np\n",
        "from sklearn.datasets import fetch_openml"
      ]
    },
    {
      "cell_type": "code",
      "source": [
        "X,y = fetch_openml('mnist_784', version=1, return_X_y = True)"
      ],
      "metadata": {
        "id": "drGu9qK2kcni"
      },
      "execution_count": 6,
      "outputs": []
    },
    {
      "cell_type": "code",
      "source": [
        "X.shape"
      ],
      "metadata": {
        "colab": {
          "base_uri": "https://localhost:8080/"
        },
        "id": "qQuMDFUkloPd",
        "outputId": "04c00410-5447-47a6-e0c0-9d8745ad992a"
      },
      "execution_count": 7,
      "outputs": [
        {
          "output_type": "execute_result",
          "data": {
            "text/plain": [
              "(70000, 784)"
            ]
          },
          "metadata": {},
          "execution_count": 7
        }
      ]
    },
    {
      "cell_type": "markdown",
      "source": [
        "Index 2022 in features = (label,mean,num_zeros)"
      ],
      "metadata": {
        "id": "mhER0EHkqUr0"
      }
    },
    {
      "cell_type": "code",
      "source": [
        "y[2022], (X.iloc[2022]).mean(), (X.iloc[2022]==0).sum()"
      ],
      "metadata": {
        "colab": {
          "base_uri": "https://localhost:8080/"
        },
        "id": "ayCET_WmmMr8",
        "outputId": "e9c07d04-8248-487a-fb98-5c84fca922ae"
      },
      "execution_count": 49,
      "outputs": [
        {
          "output_type": "execute_result",
          "data": {
            "text/plain": [
              "('2', 27.761479591836736, 643)"
            ]
          },
          "metadata": {},
          "execution_count": 49
        }
      ]
    },
    {
      "cell_type": "code",
      "source": [
        ""
      ],
      "metadata": {
        "id": "fkO9F6NhqETz"
      },
      "execution_count": null,
      "outputs": []
    }
  ]
}