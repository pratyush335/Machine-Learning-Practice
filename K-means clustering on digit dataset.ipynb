{
  "nbformat": 4,
  "nbformat_minor": 0,
  "metadata": {
    "colab": {
      "name": "K-means clustering on digit dataset.ipynb",
      "provenance": [],
      "authorship_tag": "ABX9TyP1hC3TowFGi1B8eGVn66B5"
    },
    "kernelspec": {
      "name": "python3",
      "display_name": "Python 3"
    },
    "language_info": {
      "name": "python"
    }
  },
  "cells": [
    {
      "cell_type": "code",
      "source": [
        "import pandas as pd\n",
        "import numpy as np\n",
        "import matplotlib.pyplot as plt\n",
        "\n",
        "from sklearn.datasets import load_digits\n",
        "\n",
        "from sklearn.cluster import KMeans\n",
        "\n",
        "from sklearn.metrics import silhouette_score\n",
        "\n",
        "from sklearn.preprocessing import MinMaxScaler\n",
        "\n",
        "from sklearn.pipeline import Pipeline"
      ],
      "metadata": {
        "id": "RhWqeuoBMveN"
      },
      "execution_count": 20,
      "outputs": []
    },
    {
      "cell_type": "markdown",
      "source": [
        "# Digits dataset for clustering\n",
        "\n",
        "* `8x8` digit images with 180 samples per class\n",
        "* Form 10 classes it has 1797 images\n",
        "* Each pixel has values between 0 to 16\n"
      ],
      "metadata": {
        "id": "6O9zzgBJb6AM"
      }
    },
    {
      "cell_type": "code",
      "source": [
        "digits = load_digits()"
      ],
      "metadata": {
        "id": "iJx2RWkWb0ID"
      },
      "execution_count": 5,
      "outputs": []
    },
    {
      "cell_type": "markdown",
      "source": [
        "Random initialization \n",
        "\n",
        "n_init: running k means 50 times with different centroid seeds\n",
        "\n",
        "max_iter: in each iterations we will be running k means 500 times"
      ],
      "metadata": {
        "id": "Hd5Xyvf_cl4U"
      }
    },
    {
      "cell_type": "code",
      "source": [
        "kmeans_kwargs = {'init': 'random',\n",
        "                 'n_init': 50,\n",
        "                 'max_iter': 500,\n",
        "                 'random_state': 0}"
      ],
      "metadata": {
        "id": "-3d-06IHb3B-"
      },
      "execution_count": 16,
      "outputs": []
    },
    {
      "cell_type": "markdown",
      "source": [
        "**Pipeline** in two stages:\n",
        "* Preprocessing with MinMaxScaler\n",
        "* clustering with KMeans Custering Algorithm"
      ],
      "metadata": {
        "id": "DfVtiQtTcw6O"
      }
    },
    {
      "cell_type": "code",
      "source": [
        "digits.data"
      ],
      "metadata": {
        "colab": {
          "base_uri": "https://localhost:8080/"
        },
        "id": "YDgXIDQcdkYr",
        "outputId": "ec3ca3c4-d2f8-4be2-fbd5-daa74717ec57"
      },
      "execution_count": 17,
      "outputs": [
        {
          "output_type": "execute_result",
          "data": {
            "text/plain": [
              "array([[ 0.,  0.,  5., ...,  0.,  0.,  0.],\n",
              "       [ 0.,  0.,  0., ..., 10.,  0.,  0.],\n",
              "       [ 0.,  0.,  0., ..., 16.,  9.,  0.],\n",
              "       ...,\n",
              "       [ 0.,  0.,  1., ...,  6.,  0.,  0.],\n",
              "       [ 0.,  0.,  2., ..., 12.,  0.,  0.],\n",
              "       [ 0.,  0., 10., ..., 12.,  1.,  0.]])"
            ]
          },
          "metadata": {},
          "execution_count": 17
        }
      ]
    },
    {
      "cell_type": "code",
      "source": [
        "pipeline = Pipeline([('scaler',MinMaxScaler()),\n",
        "                     ('kmeans',KMeans(n_clusters=10, **kmeans_kwargs))])\n",
        "pipeline.fit(digits.data)"
      ],
      "metadata": {
        "colab": {
          "base_uri": "https://localhost:8080/"
        },
        "id": "rXba0VwKciKu",
        "outputId": "50638264-6ccf-4d4f-98f6-ecb10b26bab4"
      },
      "execution_count": 18,
      "outputs": [
        {
          "output_type": "execute_result",
          "data": {
            "text/plain": [
              "Pipeline(steps=[('scaler', MinMaxScaler()),\n",
              "                ('kmeans',\n",
              "                 KMeans(init='random', max_iter=500, n_clusters=10, n_init=50,\n",
              "                        random_state=0))])"
            ]
          },
          "metadata": {},
          "execution_count": 18
        }
      ]
    },
    {
      "cell_type": "markdown",
      "source": [
        "Cluster centroids can be accessed via: cluster_centers_"
      ],
      "metadata": {
        "id": "nG9KM-yLgUwo"
      }
    },
    {
      "cell_type": "code",
      "source": [
        "cluster_centers = pipeline[-1].cluster_centers_"
      ],
      "metadata": {
        "id": "6Z2vuLS6gMzS"
      },
      "execution_count": 23,
      "outputs": []
    },
    {
      "cell_type": "markdown",
      "source": [
        "Displaying Cluster Centroids:\n"
      ],
      "metadata": {
        "id": "xyejSy_igkB0"
      }
    },
    {
      "cell_type": "code",
      "source": [
        "fig, ax = plt.subplots(5,2,figsize=(4,4))\n",
        "for i, j in zip(ax.flat, cluster_centers.reshape(10,8,8)):\n",
        "  i.imshow(j)"
      ],
      "metadata": {
        "colab": {
          "base_uri": "https://localhost:8080/",
          "height": 267
        },
        "id": "UhV7IdZygibw",
        "outputId": "145035f7-cfa4-4922-c24e-8838886a84ff"
      },
      "execution_count": 25,
      "outputs": [
        {
          "output_type": "display_data",
          "data": {
            "text/plain": [
              "<Figure size 288x288 with 10 Axes>"
            ],
            "image/png": "[encoded data removed]"
          },
          "metadata": {
            "needs_background": "light"
          }
        }
      ]
    },
    {
      "cell_type": "markdown",
      "source": [
        "Discovering optimal number of clusters with **Elbow** and **Silhouette**"
      ],
      "metadata": {
        "id": "wQMJJVfehZ34"
      }
    },
    {
      "cell_type": "markdown",
      "source": [
        "## 1. Elbow Method\n",
        "\n",
        "Keeping track of SSE \n"
      ],
      "metadata": {
        "id": "_7DGO5rJhlF1"
      }
    },
    {
      "cell_type": "code",
      "source": [
        "sse_digit=[]\n",
        "\n",
        "scaled_digits= MinMaxScaler().fit_transform(digits.data)\n",
        "for k in range(1,12):\n",
        "  kmeans = KMeans(n_clusters=k, **kmeans_kwargs)\n",
        "  kmeans.fit(scaled_digits)\n",
        "  sse_digit.append(kmeans.inertia_)"
      ],
      "metadata": {
        "id": "RdU4gimmhFzW"
      },
      "execution_count": 26,
      "outputs": []
    },
    {
      "cell_type": "code",
      "source": [
        "plt.plot(range(1,12), sse_digit)\n",
        "plt.xticks(range(1,12))\n",
        "plt.xlabel('Number of Clusters')\n",
        "plt.ylabel('SSE')\n",
        "plt.show()"
      ],
      "metadata": {
        "colab": {
          "base_uri": "https://localhost:8080/",
          "height": 279
        },
        "id": "y4i9nZdKiilF",
        "outputId": "83132d46-425c-4630-cbda-69759d9420ee"
      },
      "execution_count": 28,
      "outputs": [
        {
          "output_type": "display_data",
          "data": {
            "text/plain": [
              "<Figure size 432x288 with 1 Axes>"
            ],
            "image/png": "[encoded data removed]"
          },
          "metadata": {
            "needs_background": "light"
          }
        }
      ]
    },
    {
      "cell_type": "markdown",
      "source": [
        "There is a slight elbow at `k=9` which could point to the fact that a few digits may have been merged in one cluster."
      ],
      "metadata": {
        "id": "Z7H0fyRtlcZh"
      }
    },
    {
      "cell_type": "markdown",
      "source": [
        "## 2. Silhouette Method"
      ],
      "metadata": {
        "id": "YFx9pFcFi6yG"
      }
    },
    {
      "cell_type": "code",
      "source": [
        "sil_coef_digits = []\n",
        "for k in range(2,15):\n",
        "  kmeans = KMeans(n_clusters=k, **kmeans_kwargs)\n",
        "  kmeans.fit(scaled_digits)\n",
        "  score = silhouette_score(digits.data, kmeans.labels_)\n",
        "  sil_coef_digits.append(score)"
      ],
      "metadata": {
        "id": "OYjj_XY7i1Jo"
      },
      "execution_count": 29,
      "outputs": []
    },
    {
      "cell_type": "code",
      "source": [
        "plt.plot(range(2,15), sil_coef_digits)\n",
        "plt.xticks(range(2,15))\n",
        "plt.xlabel('Number of Clusters')\n",
        "plt.ylabel('Silhouette Score')\n",
        "plt.grid(True)\n",
        "plt.show()"
      ],
      "metadata": {
        "colab": {
          "base_uri": "https://localhost:8080/",
          "height": 279
        },
        "id": "DWcCn4Gukgjg",
        "outputId": "8d7e36ed-b168-4406-9ec6-5af630c84888"
      },
      "execution_count": 30,
      "outputs": [
        {
          "output_type": "display_data",
          "data": {
            "text/plain": [
              "<Figure size 432x288 with 1 Axes>"
            ],
            "image/png": "[encoded data removed]"
          },
          "metadata": {
            "needs_background": "light"
          }
        }
      ]
    },
    {
      "cell_type": "markdown",
      "source": [
        "This graph points to the fact that `k=9`; this could be because some of the digits like 1 and 7 may have striking similarity"
      ],
      "metadata": {
        "id": "OP1oRSMhlLlh"
      }
    },
    {
      "cell_type": "code",
      "source": [
        "#Get the value of K for which the Silhouette Score is highest\n",
        "print(np.argmax(sil_coef_digits)+2)"
      ],
      "metadata": {
        "colab": {
          "base_uri": "https://localhost:8080/"
        },
        "id": "j3td2ynkk8ff",
        "outputId": "3862306e-64ce-4455-edaf-19c19a59077e"
      },
      "execution_count": 32,
      "outputs": [
        {
          "output_type": "stream",
          "name": "stdout",
          "text": [
            "9\n"
          ]
        }
      ]
    }
  ]
}