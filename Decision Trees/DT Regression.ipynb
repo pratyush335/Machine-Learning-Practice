{
 "cells": [
  {
   "cell_type": "markdown",
   "id": "526a3676",
   "metadata": {},
   "source": [
    "# Decision Trees Regressor\n",
    "\n",
    "Demonstrating the decision trees model with the california housing dataset and DecisionTreeRegressor class in sklearn"
   ]
  },
  {
   "cell_type": "code",
   "execution_count": 15,
   "id": "23b5d41d",
   "metadata": {},
   "outputs": [],
   "source": [
    "#importing important libraries\n",
    "\n",
    "import pandas as pd\n",
    "import numpy as np\n",
    "import matplotlib.pyplot as plt\n",
    "import seaborn as sns\n",
    "\n",
    "from sklearn.model_selection import ShuffleSplit\n",
    "from sklearn.preprocessing import StandardScaler\n",
    "from sklearn.datasets import fetch_california_housing\n",
    "from sklearn.model_selection import train_test_split\n",
    "from sklearn.pipeline import Pipeline\n",
    "from sklearn.model_selection import cross_validate\n",
    "\n",
    "#Decision Tree Regressor\n",
    "from sklearn.tree import DecisionTreeRegressor\n",
    "\n",
    "#to visualize the tree\n",
    "from sklearn import tree\n",
    "from sklearn.tree import export_text"
   ]
  },
  {
   "cell_type": "code",
   "execution_count": 4,
   "id": "7f9fe09f",
   "metadata": {},
   "outputs": [],
   "source": [
    "np.random.seed(306)"
   ]
  },
  {
   "cell_type": "code",
   "execution_count": 8,
   "id": "bd1d1efb",
   "metadata": {},
   "outputs": [],
   "source": [
    "# Using shuffle split as the cross validation strategy\n",
    "cv = ShuffleSplit(n_splits=10, test_size=0.2, random_state=42)"
   ]
  },
  {
   "cell_type": "markdown",
   "id": "ce7b52e5",
   "metadata": {},
   "source": [
    "## Loading the dataset"
   ]
  },
  {
   "cell_type": "code",
   "execution_count": 14,
   "id": "0f365d12",
   "metadata": {},
   "outputs": [],
   "source": [
    "# fetch dataset\n",
    "features, labels = fetch_california_housing(return_X_y=True, as_frame=True)\n",
    "\n",
    "#train-test split (combined training set)\n",
    "com_train_features, test_features, com_train_labels, test_labels = train_test_split(features, labels)\n",
    "\n",
    "#Further splitting of train set into train and development set\n",
    "train_features, dev_features, train_labels, dev_labels = train_test_split(com_train_features, com_train_labels)"
   ]
  },
  {
   "cell_type": "markdown",
   "id": "a87eb0cb",
   "metadata": {},
   "source": [
    "## Model Setup"
   ]
  },
  {
   "cell_type": "code",
   "execution_count": 34,
   "id": "45f3edec",
   "metadata": {},
   "outputs": [
    {
     "name": "stdout",
     "output_type": "stream",
     "text": [
      "Mean absolute error on the train set: 0.656 +/- 0.002\n",
      "\n",
      "Mean absolute error on the train set: 0.656 +/- 0.002\n",
      "\n"
     ]
    }
   ],
   "source": [
    "dt_reg_pipeline = Pipeline([ ('feature_scaling', StandardScaler()),\n",
    "                            ('dt_reg', DecisionTreeRegressor(max_depth=2, random_state=2)) ])\n",
    "\n",
    "dt_reg_cv_results = cross_validate(dt_reg_pipeline, \n",
    "                                   com_train_features, \n",
    "                                   com_train_labels,\n",
    "                                  cv = cv,\n",
    "                                  scoring='neg_mean_absolute_error',\n",
    "                                  return_train_score=True,\n",
    "                                  return_estimator=True)\n",
    "\n",
    "dt_reg_train_error = -1 * dt_reg_cv_results['train_score']\n",
    "dt_reg_test_error = -1 * dt_reg_cv_results['test_score']\n",
    "\n",
    "print('Mean absolute error on the train set: {:.3f} +/- {:.3f}\\n'.format(dt_reg_train_error.mean(),dt_reg_train_error.std()))\n",
    "print('Mean absolute error on the train set: {:.3f} +/- {:.3f}\\n'.format(dt_reg_train_error.mean(),dt_reg_train_error.std()))"
   ]
  },
  {
   "cell_type": "markdown",
   "id": "9ed853a6",
   "metadata": {},
   "source": [
    "<b>sklearn.model_selection.cross_validate</b> returns a dictionary containing fit-times, score-times (and optionally training scores as well as fitted estimators) in addition to the test score."
   ]
  },
  {
   "cell_type": "markdown",
   "id": "62c8a202",
   "metadata": {},
   "source": [
    "## Visualizing the tree"
   ]
  },
  {
   "cell_type": "code",
   "execution_count": null,
   "id": "292a5626",
   "metadata": {},
   "outputs": [],
   "source": []
  }
 ],
 "metadata": {
  "kernelspec": {
   "display_name": "Python 3",
   "language": "python",
   "name": "python3"
  },
  "language_info": {
   "codemirror_mode": {
    "name": "ipython",
    "version": 3
   },
   "file_extension": ".py",
   "mimetype": "text/x-python",
   "name": "python",
   "nbconvert_exporter": "python",
   "pygments_lexer": "ipython3",
   "version": "3.8.8"
  }
 },
 "nbformat": 4,
 "nbformat_minor": 5
}
