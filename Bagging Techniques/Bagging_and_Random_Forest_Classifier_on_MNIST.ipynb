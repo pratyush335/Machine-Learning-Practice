{
  "nbformat": 4,
  "nbformat_minor": 0,
  "metadata": {
    "colab": {
      "name": "Bagging and Random Forest Classifier on MNIST.ipynb",
      "provenance": [],
      "authorship_tag": "ABX9TyPWOYXaSKdDrq26I4zMKsaq"
    },
    "kernelspec": {
      "name": "python3",
      "display_name": "Python 3"
    },
    "language_info": {
      "name": "python"
    }
  },
  "cells": [
    {
      "cell_type": "markdown",
      "source": [
        "# Bagging and Random Forest Classifier on MNIST dataset"
      ],
      "metadata": {
        "id": "f0NCRQKspGw6"
      }
    },
    {
      "cell_type": "code",
      "source": [
        "from keras.datasets import mnist\n",
        "\n",
        "import pandas as pd\n",
        "import numpy as np\n",
        "import matplotlib.pyplot as plt\n",
        "\n",
        "\n",
        "from sklearn.model_selection import ShuffleSplit\n",
        "from sklearn.model_selection import cross_val_score\n",
        "from sklearn.metrics import classification_report, confusion_matrix, ConfusionMatrixDisplay\n",
        "\n",
        "from sklearn.tree import DecisionTreeClassifier\n",
        "\n",
        "from sklearn.pipeline import Pipeline"
      ],
      "metadata": {
        "id": "YJDn5ANjmz9N"
      },
      "execution_count": 4,
      "outputs": []
    },
    {
      "cell_type": "markdown",
      "source": [
        "## Loading the MNIST dataset"
      ],
      "metadata": {
        "id": "ctUA46YzpBso"
      }
    },
    {
      "cell_type": "code",
      "execution_count": 6,
      "metadata": {
        "colab": {
          "base_uri": "https://localhost:8080/"
        },
        "id": "0afMOhTPlw4D",
        "outputId": "cb20a0a8-8103-474a-ed74-3002593e413a"
      },
      "outputs": [
        {
          "output_type": "stream",
          "name": "stdout",
          "text": [
            "Downloading data from https://storage.googleapis.com/tensorflow/tf-keras-datasets/mnist.npz\n",
            "11493376/11490434 [==============================] - 1s 0us/step\n",
            "11501568/11490434 [==============================] - 1s 0us/step\n"
          ]
        }
      ],
      "source": [
        "(X_train,y_train),(X_test,y_test) = mnist.load_data()"
      ]
    },
    {
      "cell_type": "code",
      "source": [
        "print(X_train.shape)\n",
        "print(y_train.shape)\n",
        "print(X_test.shape)\n",
        "print(y_test.shape)"
      ],
      "metadata": {
        "colab": {
          "base_uri": "https://localhost:8080/"
        },
        "id": "TgYyfjGumpR9",
        "outputId": "d3a47357-5ba0-4cc4-a99c-d5f0c9ed4fee"
      },
      "execution_count": 7,
      "outputs": [
        {
          "output_type": "stream",
          "name": "stdout",
          "text": [
            "(60000, 28, 28)\n",
            "(60000,)\n",
            "(10000, 28, 28)\n",
            "(10000,)\n"
          ]
        }
      ]
    },
    {
      "cell_type": "code",
      "source": [
        "# reshaping the data \n",
        "X_train = X_train.reshape(60000, 28*28)\n",
        "X_test = X_test.reshape(10000, 28*28)"
      ],
      "metadata": {
        "id": "G_0fqy51nYLj"
      },
      "execution_count": 8,
      "outputs": []
    },
    {
      "cell_type": "code",
      "source": [
        "pd.DataFrame(X_train[0]).max()"
      ],
      "metadata": {
        "colab": {
          "base_uri": "https://localhost:8080/"
        },
        "id": "zuMCkZtpojm_",
        "outputId": "e286966a-1e4a-4f3c-8dae-4dd614ac7bf1"
      },
      "execution_count": 9,
      "outputs": [
        {
          "output_type": "execute_result",
          "data": {
            "text/plain": [
              "0    255\n",
              "dtype: uint8"
            ]
          },
          "metadata": {},
          "execution_count": 9
        }
      ]
    },
    {
      "cell_type": "markdown",
      "source": [
        "The maximum value of a pixel is 255. The row feature vectors can be normalized by dividing each of them by 255."
      ],
      "metadata": {
        "id": "UJa2fHFioqQ_"
      }
    },
    {
      "cell_type": "code",
      "source": [
        "# normalizing the data\n",
        "X_train = X_train/255\n",
        "X_test = X_test/255"
      ],
      "metadata": {
        "id": "OHtFZcegomrP"
      },
      "execution_count": 10,
      "outputs": []
    },
    {
      "cell_type": "code",
      "source": [
        "# Shuffle Split cross validation with 10 splits and 20% data set aside for model evaluation as a test data\n",
        "cv = ShuffleSplit(n_splits=10, test_size=0.2, random_state=42)"
      ],
      "metadata": {
        "id": "iyJ6Es_Po8vn"
      },
      "execution_count": 11,
      "outputs": []
    },
    {
      "cell_type": "code",
      "source": [
        "def train_classifiers(estimator, X_train, y_train, cv, name):\n",
        "  estimator.fit(X_train, y_train)\n",
        "  cv_train_score = cross_val_score(estimator, X_train, y_train, cv=cv, scoring='f1_macro')\n",
        "\n",
        "  print(f'On an average {name} model has an average score of {cv_train_score.mean():.3f} +- {cv_train_score.std():.3f} on the training set')"
      ],
      "metadata": {
        "id": "cnbrxvZ-p_W5"
      },
      "execution_count": 12,
      "outputs": []
    },
    {
      "cell_type": "code",
      "source": [
        "def eval(estimator, X_test, y_test):\n",
        "  y_pred = estimator.predict(X_test)\n",
        "\n",
        "  print (f'# Classification report: ')\n",
        "  print(classification_report(y_test, y_pred))\n",
        "  \n",
        "  print(f'# Confusion matrix display: ')\n",
        "  disp = ConfusionMatrixDisplay(confusion_matrix=confusion_matrix(y_test,y_pred))\n",
        "  disp.plot()\n",
        "  plt.title('Condusion Matrix')\n",
        "  plt.show"
      ],
      "metadata": {
        "id": "AAHzSrpqq8Sy"
      },
      "execution_count": 13,
      "outputs": []
    },
    {
      "cell_type": "markdown",
      "source": [
        "## Decison Tree for MNIST classification\n",
        "\n",
        "The `train_classifiers` function will print the mean of cross validated accuracy and standard deviation of the classifier on the training dataset. "
      ],
      "metadata": {
        "id": "vftJM8wRtdc4"
      }
    },
    {
      "cell_type": "code",
      "source": [
        "decision_tree_pipeline = Pipeline( [ ('classifier', DecisionTreeClassifier()) ])\n",
        "train_classifiers(decision_tree_pipeline, X_train, y_train, cv, 'decision tree')"
      ],
      "metadata": {
        "colab": {
          "base_uri": "https://localhost:8080/"
        },
        "id": "Kj4jH1ias4cN",
        "outputId": "daf9709f-b45d-4f40-9a5d-aa16710adaf6"
      },
      "execution_count": 80,
      "outputs": [
        {
          "output_type": "stream",
          "name": "stdout",
          "text": [
            "On an average decision tree model has an average score of 0.867 +- 0.004 on the training set\n"
          ]
        }
      ]
    },
    {
      "cell_type": "code",
      "source": [
        "eval(decision_tree_pipeline, X_test, y_test)"
      ],
      "metadata": {
        "colab": {
          "base_uri": "https://localhost:8080/",
          "height": 625
        },
        "id": "eXQhAzHtuvgZ",
        "outputId": "96f0c9f5-5946-49cc-f56f-57673cdbc034"
      },
      "execution_count": 79,
      "outputs": [
        {
          "output_type": "stream",
          "name": "stdout",
          "text": [
            "# classification report: \n",
            "              precision    recall  f1-score   support\n",
            "\n",
            "           0       0.92      0.94      0.93       980\n",
            "           1       0.95      0.96      0.96      1135\n",
            "           2       0.87      0.86      0.86      1032\n",
            "           3       0.83      0.85      0.84      1010\n",
            "           4       0.88      0.88      0.88       982\n",
            "           5       0.82      0.83      0.83       892\n",
            "           6       0.90      0.88      0.89       958\n",
            "           7       0.91      0.90      0.91      1028\n",
            "           8       0.82      0.80      0.81       974\n",
            "           9       0.86      0.86      0.86      1009\n",
            "\n",
            "    accuracy                           0.88     10000\n",
            "   macro avg       0.88      0.88      0.88     10000\n",
            "weighted avg       0.88      0.88      0.88     10000\n",
            "\n",
            "# Confusion matrix display: \n"
          ]
        },
        {
          "output_type": "display_data",
          "data": {
            "text/plain": [
              "<Figure size 432x288 with 2 Axes>"
            ],
            "image/png": "[encoded data removed]"
          },
          "metadata": {
            "needs_background": "light"
          }
        }
      ]
    },
    {
      "cell_type": "markdown",
      "source": [
        "We got the accuracy of $0.88$ with Decison Tree Classifier"
      ],
      "metadata": {
        "id": "gFSMdDJS8DBZ"
      }
    },
    {
      "cell_type": "markdown",
      "source": [
        "# MNIST Classification with Bagging\n",
        "\n"
      ],
      "metadata": {
        "id": "-uxC3tLY8Uvu"
      }
    },
    {
      "cell_type": "code",
      "source": [
        "from sklearn.ensemble import BaggingClassifier"
      ],
      "metadata": {
        "id": "D3RaH_1SZtNc"
      },
      "execution_count": 2,
      "outputs": []
    },
    {
      "cell_type": "code",
      "source": [
        "bagging_pipeline = Pipeline( [ ('bagging', BaggingClassifier()) ])\n",
        "\n",
        "train_classifiers(bagging_pipeline, X_train, y_train, cv, 'bagging')"
      ],
      "metadata": {
        "colab": {
          "base_uri": "https://localhost:8080/"
        },
        "id": "yZjzo_v08UC_",
        "outputId": "15df3f26-b195-4307-be73-0a530a7851a6"
      },
      "execution_count": 15,
      "outputs": [
        {
          "output_type": "stream",
          "name": "stdout",
          "text": [
            "On an average bagging model has an average score of 0.938 +- 0.004 on the training set\n"
          ]
        }
      ]
    },
    {
      "cell_type": "code",
      "source": [
        "eval(bagging_pipeline, X_test, y_test)"
      ],
      "metadata": {
        "colab": {
          "base_uri": "https://localhost:8080/",
          "height": 625
        },
        "id": "ZxmQX_GsaZ79",
        "outputId": "8280b24d-750e-4b82-e6d6-50ed274eb6e9"
      },
      "execution_count": 16,
      "outputs": [
        {
          "output_type": "stream",
          "name": "stdout",
          "text": [
            "# classification report: \n",
            "              precision    recall  f1-score   support\n",
            "\n",
            "           0       0.95      0.99      0.97       980\n",
            "           1       0.96      0.99      0.98      1135\n",
            "           2       0.93      0.95      0.94      1032\n",
            "           3       0.94      0.93      0.93      1010\n",
            "           4       0.95      0.95      0.95       982\n",
            "           5       0.93      0.91      0.92       892\n",
            "           6       0.97      0.95      0.96       958\n",
            "           7       0.95      0.95      0.95      1028\n",
            "           8       0.92      0.91      0.92       974\n",
            "           9       0.94      0.92      0.93      1009\n",
            "\n",
            "    accuracy                           0.95     10000\n",
            "   macro avg       0.95      0.94      0.94     10000\n",
            "weighted avg       0.95      0.95      0.95     10000\n",
            "\n",
            "# Confusion matrix display: \n"
          ]
        },
        {
          "output_type": "display_data",
          "data": {
            "text/plain": [
              "<Figure size 432x288 with 2 Axes>"
            ],
            "image/png": "[encoded data removed]"
          },
          "metadata": {
            "needs_background": "light"
          }
        }
      ]
    },
    {
      "cell_type": "markdown",
      "source": [
        "We got the accuracy of  $0.95$  with Bagging Classifier"
      ],
      "metadata": {
        "id": "evSzjPfshkcG"
      }
    },
    {
      "cell_type": "markdown",
      "source": [
        "# Random Forest for MNIST multi-class Classifier"
      ],
      "metadata": {
        "id": "dD0YkzLGbD1u"
      }
    },
    {
      "cell_type": "code",
      "source": [
        "from sklearn.ensemble import RandomForestClassifier"
      ],
      "metadata": {
        "id": "BFjVEdzZbCIm"
      },
      "execution_count": 17,
      "outputs": []
    },
    {
      "cell_type": "code",
      "source": [
        "random_forest_pipeline = Pipeline( [ ('classifier', RandomForestClassifier()) ])\n",
        "\n",
        "train_classifiers(random_forest_pipeline, X_train, y_train, cv, 'random_forest')"
      ],
      "metadata": {
        "colab": {
          "base_uri": "https://localhost:8080/"
        },
        "id": "2Fa4x1ctb1Mb",
        "outputId": "e29516a3-a01d-4383-859d-65181df510f4"
      },
      "execution_count": 18,
      "outputs": [
        {
          "output_type": "stream",
          "name": "stdout",
          "text": [
            "On an average random_forest model has an average score of 0.967 +- 0.002 on the training set\n"
          ]
        }
      ]
    },
    {
      "cell_type": "code",
      "source": [
        "eval(random_forest_pipeline, X_test, y_test)"
      ],
      "metadata": {
        "colab": {
          "base_uri": "https://localhost:8080/",
          "height": 625
        },
        "id": "SbDXu-HhcOXx",
        "outputId": "e63ea872-b95e-48e6-bea6-645249d3fb53"
      },
      "execution_count": 19,
      "outputs": [
        {
          "output_type": "stream",
          "name": "stdout",
          "text": [
            "# classification report: \n",
            "              precision    recall  f1-score   support\n",
            "\n",
            "           0       0.97      0.99      0.98       980\n",
            "           1       0.99      0.99      0.99      1135\n",
            "           2       0.96      0.97      0.96      1032\n",
            "           3       0.96      0.96      0.96      1010\n",
            "           4       0.97      0.97      0.97       982\n",
            "           5       0.97      0.96      0.97       892\n",
            "           6       0.97      0.98      0.98       958\n",
            "           7       0.97      0.96      0.97      1028\n",
            "           8       0.96      0.96      0.96       974\n",
            "           9       0.96      0.95      0.96      1009\n",
            "\n",
            "    accuracy                           0.97     10000\n",
            "   macro avg       0.97      0.97      0.97     10000\n",
            "weighted avg       0.97      0.97      0.97     10000\n",
            "\n",
            "# Confusion matrix display: \n"
          ]
        },
        {
          "output_type": "display_data",
          "data": {
            "text/plain": [
              "<Figure size 432x288 with 2 Axes>"
            ],
            "image/png": "[encoded data removed]"
          },
          "metadata": {
            "needs_background": "light"
          }
        }
      ]
    },
    {
      "cell_type": "markdown",
      "source": [
        "The accuracy jumped by 2 percentage points to $0.97$ with Random Forest Classifier "
      ],
      "metadata": {
        "id": "ww3BVQhoh-QV"
      }
    },
    {
      "cell_type": "code",
      "source": [
        ""
      ],
      "metadata": {
        "id": "P0DXtu5WiCE1"
      },
      "execution_count": null,
      "outputs": []
    }
  ]
}