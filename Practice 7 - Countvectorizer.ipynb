{
  "nbformat": 4,
  "nbformat_minor": 0,
  "metadata": {
    "colab": {
      "name": "Practice 7 - Countvectorizer.ipynb",
      "provenance": [],
      "authorship_tag": "ABX9TyP5PYEPAg/iRWkdwbKzPd+S"
    },
    "kernelspec": {
      "name": "python3",
      "display_name": "Python 3"
    },
    "language_info": {
      "name": "python"
    }
  },
  "cells": [
    {
      "cell_type": "code",
      "source": [
        "import numpy as np\n",
        "import pandas as pd"
      ],
      "metadata": {
        "id": "3j_OBM6tmlPD"
      },
      "execution_count": 27,
      "outputs": []
    },
    {
      "cell_type": "code",
      "execution_count": 2,
      "metadata": {
        "id": "UEGWy9fgi_vj"
      },
      "outputs": [],
      "source": [
        "text_data=['A metaverse is a network of 3D virtual worlds focused on social connection.',\n",
        "           'In futurism and science fiction, the term is often described as a hypothetical iteration of the Internet as a single', \n",
        "           'universal virtual world that is facilitated by the use of virtual and augmented reality headsets.',\n",
        "           'The term \"metaverse\" has its origins  the 1992 science fiction novel Snow Crash as a portmanteau of \"meta\" and \"universe.\"',\n",
        "           'Various metaverses have been developed for popular use such as virtual world platforms like Second Life.',\n",
        "           'Some metaverse iterations involve integration between virtual and physical spaces and virtual economies',\n",
        "           'often including a significant interest in advancing virtual reality technology.', \n",
        "           'The term has seen considerable use as a buzzword for public relations purposes to exaggerate development progress for various related technologies and projects.[10] Information privacy and user addiction are concerns within metaverses',\n",
        "           'stemming from challenges facing the social media and video game industries as a whole.']"
      ]
    },
    {
      "cell_type": "code",
      "source": [
        "from sklearn.feature_extraction.text import CountVectorizer"
      ],
      "metadata": {
        "id": "x2e7xFypjDDx"
      },
      "execution_count": 3,
      "outputs": []
    },
    {
      "cell_type": "code",
      "source": [
        "cvc = CountVectorizer()"
      ],
      "metadata": {
        "id": "fkAcLpHrjNwJ"
      },
      "execution_count": 4,
      "outputs": []
    },
    {
      "cell_type": "code",
      "source": [
        "a = cvc.fit_transform(text_data)"
      ],
      "metadata": {
        "id": "VRZCpGpyjSOS"
      },
      "execution_count": 5,
      "outputs": []
    },
    {
      "cell_type": "code",
      "source": [
        "a.shape"
      ],
      "metadata": {
        "colab": {
          "base_uri": "https://localhost:8080/"
        },
        "id": "0EEB8GoojZ0b",
        "outputId": "fc3ef1c2-4ea1-4d21-e0c0-53a853603128"
      },
      "execution_count": 6,
      "outputs": [
        {
          "output_type": "execute_result",
          "data": {
            "text/plain": [
              "(9, 99)"
            ]
          },
          "metadata": {},
          "execution_count": 6
        }
      ]
    },
    {
      "cell_type": "markdown",
      "source": [
        "![image.png](data:image/png;base64,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)"
      ],
      "metadata": {
        "id": "bx3rJ6w2lL4O"
      }
    },
    {
      "cell_type": "markdown",
      "source": [
        "Converting the countvectorizer object in array"
      ],
      "metadata": {
        "id": "N4ww4xmWlc2Q"
      }
    },
    {
      "cell_type": "code",
      "source": [
        "cvc_arr = a.toarray()"
      ],
      "metadata": {
        "id": "5r_R652dlO8Q"
      },
      "execution_count": 7,
      "outputs": []
    },
    {
      "cell_type": "code",
      "source": [
        "cvc_arr[:2]"
      ],
      "metadata": {
        "colab": {
          "base_uri": "https://localhost:8080/"
        },
        "id": "g7NOqdshluc5",
        "outputId": "cb2bdebd-e46e-4549-b0dc-6adc0ea1dbb9"
      },
      "execution_count": 8,
      "outputs": [
        {
          "output_type": "execute_result",
          "data": {
            "text/plain": [
              "array([[0, 0, 1, 0, 0, 0, 0, 0, 0, 0, 0, 0, 0, 0, 0, 1, 0, 0, 0, 0, 0, 0,\n",
              "        0, 0, 0, 0, 1, 0, 0, 0, 0, 0, 0, 0, 0, 0, 0, 0, 0, 0, 0, 0, 0, 1,\n",
              "        0, 0, 0, 0, 0, 0, 0, 1, 0, 1, 0, 1, 0, 1, 0, 0, 0, 0, 0, 0, 0, 0,\n",
              "        0, 0, 0, 0, 0, 0, 0, 0, 0, 0, 0, 1, 0, 0, 0, 0, 0, 0, 0, 0, 0, 0,\n",
              "        0, 0, 0, 0, 0, 0, 1, 0, 0, 0, 1],\n",
              "       [0, 0, 0, 0, 0, 1, 0, 2, 0, 0, 0, 0, 0, 0, 0, 0, 0, 0, 1, 0, 0, 0,\n",
              "        0, 0, 0, 1, 0, 0, 0, 1, 0, 0, 0, 0, 1, 1, 0, 0, 0, 0, 0, 1, 0, 1,\n",
              "        1, 0, 0, 0, 0, 0, 0, 0, 0, 0, 0, 1, 1, 0, 0, 0, 0, 0, 0, 0, 0, 0,\n",
              "        0, 0, 0, 0, 0, 1, 0, 0, 0, 1, 0, 0, 0, 0, 0, 0, 0, 0, 1, 0, 2, 0,\n",
              "        0, 0, 0, 0, 0, 0, 0, 0, 0, 0, 0]])"
            ]
          },
          "metadata": {},
          "execution_count": 8
        }
      ]
    },
    {
      "cell_type": "markdown",
      "source": [
        "Now question is to find that distinct word which appeared more than in 2 documents ( you have think in reverse order based on question)\n",
        "np.sum(np.where(np.sum(a,axis=0)>=2,1,0))\n",
        "\n",
        "a. First find which word are used in more than 1 document and it can be done by summation on column wise np.sum(a,axis=0) and apply condition more than 2 document using np.where\n",
        "\n",
        "b. than sum to get the total of columns = 20"
      ],
      "metadata": {
        "id": "MeLGIHf0mMrD"
      }
    },
    {
      "cell_type": "code",
      "source": [
        "np.sum(cvc_arr,axis=0)>=2,1,0"
      ],
      "metadata": {
        "colab": {
          "base_uri": "https://localhost:8080/"
        },
        "id": "wRG_dsynmNew",
        "outputId": "d2dbc788-510a-491d-badc-a4a20db8e751"
      },
      "execution_count": 9,
      "outputs": [
        {
          "output_type": "execute_result",
          "data": {
            "text/plain": [
              "(array([False, False, False, False, False,  True, False,  True, False,\n",
              "        False, False, False, False, False, False, False, False, False,\n",
              "        False, False, False, False, False, False, False,  True, False,\n",
              "         True, False, False, False,  True, False, False, False,  True,\n",
              "        False, False, False, False, False, False, False,  True, False,\n",
              "        False, False, False, False, False, False,  True,  True, False,\n",
              "        False,  True,  True, False, False, False, False, False, False,\n",
              "        False, False, False, False, False,  True, False, False,  True,\n",
              "        False, False, False, False, False,  True, False, False, False,\n",
              "        False, False, False,  True, False,  True, False, False, False,\n",
              "         True, False,  True, False,  True, False, False,  True, False]), 1, 0)"
            ]
          },
          "metadata": {},
          "execution_count": 9
        }
      ]
    },
    {
      "cell_type": "code",
      "source": [
        "np.sum(np.where(np.sum(cvc_arr,axis=0)>=2,1,0))"
      ],
      "metadata": {
        "colab": {
          "base_uri": "https://localhost:8080/"
        },
        "id": "v6ZZAV4Amtmm",
        "outputId": "bd1b8209-5b6c-422d-810b-83c4285a6ad7"
      },
      "execution_count": 10,
      "outputs": [
        {
          "output_type": "execute_result",
          "data": {
            "text/plain": [
              "20"
            ]
          },
          "metadata": {},
          "execution_count": 10
        }
      ]
    },
    {
      "cell_type": "markdown",
      "source": [
        "hence the answer is (9,20)"
      ],
      "metadata": {
        "id": "Iy06rDJlngUf"
      }
    },
    {
      "cell_type": "markdown",
      "source": [
        "![image.png](data:image/png;base64,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)"
      ],
      "metadata": {
        "id": "umn8bvG0nux8"
      }
    },
    {
      "cell_type": "code",
      "source": [
        "# apply on vectorizer\n",
        "\n",
        "cvc.vocabulary_"
      ],
      "metadata": {
        "colab": {
          "base_uri": "https://localhost:8080/"
        },
        "id": "xjQ2mrwdnkZU",
        "outputId": "413702b8-811d-4f2f-bfbf-65f1f8da5185"
      },
      "execution_count": 11,
      "outputs": [
        {
          "output_type": "execute_result",
          "data": {
            "text/plain": [
              "{'10': 0,\n",
              " '1992': 1,\n",
              " '3d': 2,\n",
              " 'addiction': 3,\n",
              " 'advancing': 4,\n",
              " 'and': 5,\n",
              " 'are': 6,\n",
              " 'as': 7,\n",
              " 'augmented': 8,\n",
              " 'been': 9,\n",
              " 'between': 10,\n",
              " 'buzzword': 11,\n",
              " 'by': 12,\n",
              " 'challenges': 13,\n",
              " 'concerns': 14,\n",
              " 'connection': 15,\n",
              " 'considerable': 16,\n",
              " 'crash': 17,\n",
              " 'described': 18,\n",
              " 'developed': 19,\n",
              " 'development': 20,\n",
              " 'economies': 21,\n",
              " 'exaggerate': 22,\n",
              " 'facilitated': 23,\n",
              " 'facing': 24,\n",
              " 'fiction': 25,\n",
              " 'focused': 26,\n",
              " 'for': 27,\n",
              " 'from': 28,\n",
              " 'futurism': 29,\n",
              " 'game': 30,\n",
              " 'has': 31,\n",
              " 'have': 32,\n",
              " 'headsets': 33,\n",
              " 'hypothetical': 34,\n",
              " 'in': 35,\n",
              " 'including': 36,\n",
              " 'industries': 37,\n",
              " 'information': 38,\n",
              " 'integration': 39,\n",
              " 'interest': 40,\n",
              " 'internet': 41,\n",
              " 'involve': 42,\n",
              " 'is': 43,\n",
              " 'iteration': 44,\n",
              " 'iterations': 45,\n",
              " 'its': 46,\n",
              " 'life': 47,\n",
              " 'like': 48,\n",
              " 'media': 49,\n",
              " 'meta': 50,\n",
              " 'metaverse': 51,\n",
              " 'metaverses': 52,\n",
              " 'network': 53,\n",
              " 'novel': 54,\n",
              " 'of': 55,\n",
              " 'often': 56,\n",
              " 'on': 57,\n",
              " 'origins': 58,\n",
              " 'physical': 59,\n",
              " 'platforms': 60,\n",
              " 'popular': 61,\n",
              " 'portmanteau': 62,\n",
              " 'privacy': 63,\n",
              " 'progress': 64,\n",
              " 'projects': 65,\n",
              " 'public': 66,\n",
              " 'purposes': 67,\n",
              " 'reality': 68,\n",
              " 'related': 69,\n",
              " 'relations': 70,\n",
              " 'science': 71,\n",
              " 'second': 72,\n",
              " 'seen': 73,\n",
              " 'significant': 74,\n",
              " 'single': 75,\n",
              " 'snow': 76,\n",
              " 'social': 77,\n",
              " 'some': 78,\n",
              " 'spaces': 79,\n",
              " 'stemming': 80,\n",
              " 'such': 81,\n",
              " 'technologies': 82,\n",
              " 'technology': 83,\n",
              " 'term': 84,\n",
              " 'that': 85,\n",
              " 'the': 86,\n",
              " 'to': 87,\n",
              " 'universal': 88,\n",
              " 'universe': 89,\n",
              " 'use': 90,\n",
              " 'user': 91,\n",
              " 'various': 92,\n",
              " 'video': 93,\n",
              " 'virtual': 94,\n",
              " 'whole': 95,\n",
              " 'within': 96,\n",
              " 'world': 97,\n",
              " 'worlds': 98}"
            ]
          },
          "metadata": {},
          "execution_count": 11
        }
      ]
    },
    {
      "cell_type": "code",
      "source": [
        "Docs = ['This is the first question.', 'This document is the second document.', 'And this is the third one' ]\n",
        "\n",
        "cvc2 = CountVectorizer(max_features=10)\n",
        "mat = cvc2.fit_transform(Docs)"
      ],
      "metadata": {
        "id": "vkXXaRuhEz5u"
      },
      "execution_count": 12,
      "outputs": []
    },
    {
      "cell_type": "code",
      "source": [
        "print(mat.todense())"
      ],
      "metadata": {
        "colab": {
          "base_uri": "https://localhost:8080/"
        },
        "id": "OkDPsE8zGMhF",
        "outputId": "9c704e76-63d9-4917-b7d8-5ad27e339b04"
      },
      "execution_count": 13,
      "outputs": [
        {
          "output_type": "stream",
          "name": "stdout",
          "text": [
            "[[0 0 1 1 0 1 0 1 0 1]\n",
            " [0 2 0 1 0 0 1 1 0 1]\n",
            " [1 0 0 1 1 0 0 1 1 1]]\n"
          ]
        }
      ]
    },
    {
      "cell_type": "code",
      "source": [
        "X = np.asarray([[72, 69 ,82], [ 9 ,79, 99], [20 ,47, 88], [80 ,64, 49]]) \n",
        "p= np.asarray([[0,0,0]])\n",
        "k=1\n",
        "from sklearn.neighbors import NearestNeighbors\n",
        "def k_closest(X,p,k=1):\n",
        "  nn = NearestNeighbors(n_neighbors=k)\n",
        "  nn.fit(X)\n",
        "  # print(nn.kneighbors(p))\n",
        "  closest_vec = X[nn.kneighbors(np.atleast_2d(p))[1][0,0]]\n",
        "  print(closest_vec)\n",
        "\n",
        "k_closest(X,p)"
      ],
      "metadata": {
        "colab": {
          "base_uri": "https://localhost:8080/"
        },
        "id": "ylhLSkmgHEDH",
        "outputId": "539af214-aaab-4db5-f51d-7ad704de2263"
      },
      "execution_count": 14,
      "outputs": [
        {
          "output_type": "stream",
          "name": "stdout",
          "text": [
            "[20 47 88]\n"
          ]
        }
      ]
    },
    {
      "cell_type": "code",
      "source": [
        "from sklearn.datasets import load_digits"
      ],
      "metadata": {
        "id": "eOZqX1dUPd8o"
      },
      "execution_count": 15,
      "outputs": []
    },
    {
      "cell_type": "code",
      "source": [
        "X,y = load_digits(return_X_y=True)"
      ],
      "metadata": {
        "id": "_bdgby9ma9ss"
      },
      "execution_count": 16,
      "outputs": []
    },
    {
      "cell_type": "code",
      "source": [
        "from sklearn.model_selection import train_test_split\n",
        "X_train,X_test,y_train,y_test = train_test_split(X,y,test_size=0.2)"
      ],
      "metadata": {
        "id": "HQoxaA6tbQ-z"
      },
      "execution_count": 18,
      "outputs": []
    },
    {
      "cell_type": "code",
      "source": [
        "from sklearn.preprocessing import StandardScaler\n",
        "from sklearn.linear_model import LogisticRegression\n",
        "from sklearn.pipeline import Pipeline\n",
        "\n",
        "pipe = Pipeline([('scale', StandardScaler()),\n",
        "                 ('log',LogisticRegression(multi_class='multinomial',solver='sag'))])"
      ],
      "metadata": {
        "id": "E_i4pgMxbbZE"
      },
      "execution_count": 20,
      "outputs": []
    },
    {
      "cell_type": "code",
      "source": [
        "X.shape,y.shape"
      ],
      "metadata": {
        "colab": {
          "base_uri": "https://localhost:8080/"
        },
        "id": "IL8ywDdhdeL5",
        "outputId": "993d2f88-468a-45cf-f896-bad12d5f979c"
      },
      "execution_count": 21,
      "outputs": [
        {
          "output_type": "execute_result",
          "data": {
            "text/plain": [
              "((1797, 64), (1797,))"
            ]
          },
          "metadata": {},
          "execution_count": 21
        }
      ]
    },
    {
      "cell_type": "code",
      "source": [
        "np.unique(y)"
      ],
      "metadata": {
        "colab": {
          "base_uri": "https://localhost:8080/"
        },
        "id": "VafQs1wPdkXD",
        "outputId": "861c1831-00e9-489b-8b26-ecc9ed8f54af"
      },
      "execution_count": 24,
      "outputs": [
        {
          "output_type": "execute_result",
          "data": {
            "text/plain": [
              "array([0, 1, 2, 3, 4, 5, 6, 7, 8, 9])"
            ]
          },
          "metadata": {},
          "execution_count": 24
        }
      ]
    },
    {
      "cell_type": "code",
      "source": [
        "(pd.DataFrame(y)).value_counts()"
      ],
      "metadata": {
        "colab": {
          "base_uri": "https://localhost:8080/"
        },
        "id": "lC7CpGjhdrQR",
        "outputId": "f0176e28-f723-47d1-f9b0-b21fed751d76"
      },
      "execution_count": 28,
      "outputs": [
        {
          "output_type": "execute_result",
          "data": {
            "text/plain": [
              "3    183\n",
              "1    182\n",
              "5    182\n",
              "4    181\n",
              "6    181\n",
              "9    180\n",
              "7    179\n",
              "0    178\n",
              "2    177\n",
              "8    174\n",
              "dtype: int64"
            ]
          },
          "metadata": {},
          "execution_count": 28
        }
      ]
    },
    {
      "cell_type": "code",
      "source": [
        "pipe.fit(X_train,y_train)\n",
        "pipe.score(X_test,y_test)"
      ],
      "metadata": {
        "colab": {
          "base_uri": "https://localhost:8080/"
        },
        "id": "xGYO-ly6d0q5",
        "outputId": "9977dfab-d6cc-41a3-d79c-d634557f1af9"
      },
      "execution_count": 30,
      "outputs": [
        {
          "output_type": "stream",
          "name": "stderr",
          "text": [
            "/usr/local/lib/python3.7/dist-packages/sklearn/linear_model/_sag.py:354: ConvergenceWarning: The max_iter was reached which means the coef_ did not converge\n",
            "  ConvergenceWarning,\n"
          ]
        },
        {
          "output_type": "execute_result",
          "data": {
            "text/plain": [
              "0.9666666666666667"
            ]
          },
          "metadata": {},
          "execution_count": 30
        }
      ]
    },
    {
      "cell_type": "code",
      "source": [
        "y_pred = pipe.predict(X_test)"
      ],
      "metadata": {
        "id": "3YvRQtGHeJ1x"
      },
      "execution_count": 31,
      "outputs": []
    },
    {
      "cell_type": "code",
      "source": [
        "from sklearn.metrics import f1_score\n",
        "\n",
        "f1_score(y_test, y_pred, average='weighted')"
      ],
      "metadata": {
        "colab": {
          "base_uri": "https://localhost:8080/"
        },
        "id": "3GZbCYMyeRcO",
        "outputId": "2547b624-655e-4fb3-ff89-7871ccae039c"
      },
      "execution_count": 34,
      "outputs": [
        {
          "output_type": "execute_result",
          "data": {
            "text/plain": [
              "0.9666287538198058"
            ]
          },
          "metadata": {},
          "execution_count": 34
        }
      ]
    }
  ]
}