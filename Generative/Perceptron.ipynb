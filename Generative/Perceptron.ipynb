{
 "cells": [
  {
   "cell_type": "code",
   "execution_count": null,
   "id": "90211342",
   "metadata": {},
   "outputs": [],
   "source": [
    "#perceptron wt update with history of weights\n",
    "def update(x,w,y,epoch):\n",
    "  history = []\n",
    "  wnew = w\n",
    "  history.append(wnew)\n",
    "  for i in range(epoch):\n",
    "    for xi,target in zip(x,y):\n",
    "      z = np.where((xi@wnew)>=0,1,-1)\n",
    "      wnew = wnew + (target-z)*xi\n",
    "      history.append(wnew)\n",
    "  return history"
   ]
  }
 ],
 "metadata": {
  "kernelspec": {
   "display_name": "Python 3",
   "language": "python",
   "name": "python3"
  },
  "language_info": {
   "codemirror_mode": {
    "name": "ipython",
    "version": 3
   },
   "file_extension": ".py",
   "mimetype": "text/x-python",
   "name": "python",
   "nbconvert_exporter": "python",
   "pygments_lexer": "ipython3",
   "version": "3.8.8"
  }
 },
 "nbformat": 4,
 "nbformat_minor": 5
}
