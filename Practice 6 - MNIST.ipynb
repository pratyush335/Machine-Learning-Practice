{
  "nbformat": 4,
  "nbformat_minor": 0,
  "metadata": {
    "colab": {
      "name": "Practice 6 - MNIST.ipynb",
      "provenance": [],
      "collapsed_sections": [],
      "authorship_tag": "ABX9TyOeyzjK8+LbUkDRCMWzMMLj"
    },
    "kernelspec": {
      "name": "python3",
      "display_name": "Python 3"
    },
    "language_info": {
      "name": "python"
    }
  },
  "cells": [
    {
      "cell_type": "code",
      "execution_count": 127,
      "metadata": {
        "id": "7o2GqUs8OxvC"
      },
      "outputs": [],
      "source": [
        "import pandas as pd\n",
        "import numpy as np\n",
        "import matplotlib.pyplot as plt\n",
        "from sklearn.datasets import fetch_openml"
      ]
    },
    {
      "cell_type": "code",
      "source": [
        "X,y = fetch_openml('mnist_784', version=1, return_X_y=True)"
      ],
      "metadata": {
        "id": "I5bSXF2aPLJx"
      },
      "execution_count": 128,
      "outputs": []
    },
    {
      "cell_type": "code",
      "source": [
        "np.random.seed(42)"
      ],
      "metadata": {
        "id": "fEfXgww6kLA3"
      },
      "execution_count": 129,
      "outputs": []
    },
    {
      "cell_type": "code",
      "source": [
        "X.shape"
      ],
      "metadata": {
        "colab": {
          "base_uri": "https://localhost:8080/"
        },
        "id": "z5xdefrkkQrx",
        "outputId": "93a02771-2c85-4ae2-daae-f2e6aff631c9"
      },
      "execution_count": 130,
      "outputs": [
        {
          "output_type": "execute_result",
          "data": {
            "text/plain": [
              "(70000, 784)"
            ]
          },
          "metadata": {},
          "execution_count": 130
        }
      ]
    },
    {
      "cell_type": "code",
      "source": [
        "X = X.to_numpy()\n",
        "y = y.to_numpy()"
      ],
      "metadata": {
        "id": "1UFe_cwZk7yE"
      },
      "execution_count": 131,
      "outputs": []
    },
    {
      "cell_type": "code",
      "source": [
        "from sklearn.model_selection import train_test_split\n",
        "X_train,X_test, y_train,y_test = train_test_split(X,y,test_size=0.3, shuffle=False)\n",
        "y_train[-1]"
      ],
      "metadata": {
        "colab": {
          "base_uri": "https://localhost:8080/",
          "height": 36
        },
        "id": "pUh4ApxO6Z6B",
        "outputId": "6455a7a1-5892-4906-9b65-1c17981bef11"
      },
      "execution_count": 132,
      "outputs": [
        {
          "output_type": "execute_result",
          "data": {
            "text/plain": [
              "'6'"
            ],
            "application/vnd.google.colaboratory.intrinsic+json": {
              "type": "string"
            }
          },
          "metadata": {},
          "execution_count": 132
        }
      ]
    },
    {
      "cell_type": "code",
      "source": [
        "y_train[-1]"
      ],
      "metadata": {
        "colab": {
          "base_uri": "https://localhost:8080/",
          "height": 36
        },
        "id": "Ew7nDkqykrM_",
        "outputId": "281bb64c-cf1a-4d84-d50c-536290ca9856"
      },
      "execution_count": 133,
      "outputs": [
        {
          "output_type": "execute_result",
          "data": {
            "text/plain": [
              "'6'"
            ],
            "application/vnd.google.colaboratory.intrinsic+json": {
              "type": "string"
            }
          },
          "metadata": {},
          "execution_count": 133
        }
      ]
    },
    {
      "cell_type": "code",
      "source": [
        "y_train_6 = np.ones(len(y_train[y_train=='6']))\n",
        "y_train_9 = np.zeros(len(y_train[y_train=='9']))\n",
        "y_train_69 = np.concatenate((y_train_6,y_train_9),axis=0)"
      ],
      "metadata": {
        "id": "DIHWh3pGlBza"
      },
      "execution_count": 134,
      "outputs": []
    },
    {
      "cell_type": "code",
      "source": [
        "idx6 = np.where(y_train=='6')\n",
        "idx9 = np.where(y_train=='9')\n",
        "\n",
        "X_train_6 = X_train[idx6]\n",
        "X_train_9 = X_train[idx9]\n",
        "X_train_69 = np.concatenate ( (X_train_6, X_train_9),axis=0)"
      ],
      "metadata": {
        "id": "kWzTG6YlmKnu"
      },
      "execution_count": 135,
      "outputs": []
    },
    {
      "cell_type": "code",
      "source": [
        "X_train_69.shape,y_train_69.shape"
      ],
      "metadata": {
        "colab": {
          "base_uri": "https://localhost:8080/"
        },
        "id": "oz-omxAKmLeK",
        "outputId": "0c55022e-b020-4c1c-e674-7521adb4fc4a"
      },
      "execution_count": 136,
      "outputs": [
        {
          "output_type": "execute_result",
          "data": {
            "text/plain": [
              "((9746, 784), (9746,))"
            ]
          },
          "metadata": {},
          "execution_count": 136
        }
      ]
    },
    {
      "cell_type": "code",
      "source": [
        "from sklearn.utils import shuffle\n",
        "X_train_69,y_train_69=shuffle(X_train_69,y_train_69,random_state=1729)"
      ],
      "metadata": {
        "id": "waxLtP5_oZng"
      },
      "execution_count": 137,
      "outputs": []
    },
    {
      "cell_type": "code",
      "source": [
        "y_test_6 = np.ones(len(y_test[y_test=='6']))\n",
        "y_test_9 = np.zeros(len(y_test[y_test=='9']))\n",
        "y_test_69 = np.concatenate((y_test_6,y_test_9))\n",
        "\n",
        "idx6 = np.where(y_test=='6')\n",
        "idx9 = np.where(y_test=='9')\n",
        "\n",
        "X_test_6 = X_test[idx6]\n",
        "X_test_9 = X_test[idx9]\n",
        "X_test_69 = np.concatenate ( (X_test_6, X_test_9),axis=0)"
      ],
      "metadata": {
        "id": "-CMWU2ryo-_7"
      },
      "execution_count": 138,
      "outputs": []
    },
    {
      "cell_type": "markdown",
      "source": [
        " sum of all the labels in the vector (y_train_69)"
      ],
      "metadata": {
        "id": "sZJqL9LMpm8W"
      }
    },
    {
      "cell_type": "code",
      "source": [
        "y_train_69.sum()"
      ],
      "metadata": {
        "colab": {
          "base_uri": "https://localhost:8080/"
        },
        "id": "XNAkejwEphDj",
        "outputId": "edb31ac6-4eb8-4006-d66d-e41079b37d56"
      },
      "execution_count": 139,
      "outputs": [
        {
          "output_type": "execute_result",
          "data": {
            "text/plain": [
              "4855.0"
            ]
          },
          "metadata": {},
          "execution_count": 139
        }
      ]
    },
    {
      "cell_type": "code",
      "source": [
        "y_test_69.sum()"
      ],
      "metadata": {
        "colab": {
          "base_uri": "https://localhost:8080/"
        },
        "id": "emX4DbjBps2w",
        "outputId": "e3c05942-e050-431e-f319-2571a01efef6"
      },
      "execution_count": 140,
      "outputs": [
        {
          "output_type": "execute_result",
          "data": {
            "text/plain": [
              "2021.0"
            ]
          },
          "metadata": {},
          "execution_count": 140
        }
      ]
    },
    {
      "cell_type": "markdown",
      "source": [
        "Apply StandardScaler to all the training samples in x_train_69"
      ],
      "metadata": {
        "id": "RyUpnV9Bp3HQ"
      }
    },
    {
      "cell_type": "code",
      "source": [
        "from sklearn.preprocessing import StandardScaler\n",
        "\n",
        "scaler = StandardScaler()\n",
        "X_train_69Tf = scaler.fit_transform(X_train_69)\n",
        "\n",
        "X_train_69Tf[0].mean(),X_train_69Tf[:,0].mean() ,X_train_69Tf[0].std(), X_train_69Tf[:,0].std()"
      ],
      "metadata": {
        "id": "U98e40H2rNQf",
        "colab": {
          "base_uri": "https://localhost:8080/"
        },
        "outputId": "695e89d4-e2f6-4f36-ca75-c6f01406d8fe"
      },
      "execution_count": 141,
      "outputs": [
        {
          "output_type": "execute_result",
          "data": {
            "text/plain": [
              "(0.08128379559427823, 0.0, 0.7358823226037738, 0.0)"
            ]
          },
          "metadata": {},
          "execution_count": 141
        }
      ]
    },
    {
      "cell_type": "code",
      "source": [
        "from warnings import filterwarnings\n",
        "filterwarnings('ignore')"
      ],
      "metadata": {
        "id": "81Xrrpjt0K6R"
      },
      "execution_count": 142,
      "outputs": []
    },
    {
      "cell_type": "code",
      "source": [
        "from sklearn.linear_model import SGDClassifier\n",
        "from sklearn.metrics import log_loss\n",
        "clfA = SGDClassifier(loss='log', random_state=10, max_iter=1, eta0=0.01, warm_start=True, learning_rate='constant')\n",
        "\n",
        "lossA =[]\n",
        "iterations = 10\n",
        "for i in range (iterations):\n",
        "  clfA.fit(X_train_69,y_train_69)\n",
        "  y_pred = clfA.predict_proba(X_train_69)\n",
        "  lossA.append(log_loss(y_train_69,y_pred))\n",
        "\n",
        "plt.plot(lossA)"
      ],
      "metadata": {
        "id": "EJCZC2xOqdz_",
        "colab": {
          "base_uri": "https://localhost:8080/",
          "height": 283
        },
        "outputId": "fa6c1567-98b0-4414-a209-baab83c73861"
      },
      "execution_count": 143,
      "outputs": [
        {
          "output_type": "execute_result",
          "data": {
            "text/plain": [
              "[<matplotlib.lines.Line2D at 0x7f081b7d5290>]"
            ]
          },
          "metadata": {},
          "execution_count": 143
        },
        {
          "output_type": "display_data",
          "data": {
            "text/plain": [
              "<Figure size 432x288 with 1 Axes>"
            ],
            "image/png": "[encoded data removed]"
          },
          "metadata": {
            "needs_background": "light"
          }
        }
      ]
    },
    {
      "cell_type": "code",
      "source": [
        "from sklearn.linear_model import SGDClassifier\n",
        "from sklearn.metrics import log_loss\n",
        "clfB = SGDClassifier(loss='log', random_state=10, max_iter=1, eta0=0.000001, warm_start=True, learning_rate='constant' )\n",
        "\n",
        "lossB =[]\n",
        "iterations = 10\n",
        "for i in range (iterations):\n",
        "  clfB.fit(X_train_69,y_train_69)\n",
        "  y_pred = clfB.predict_proba(X_train_69)\n",
        "  lossB.append(log_loss(y_train_69,y_pred))\n",
        "\n",
        "plt.plot(lossB)"
      ],
      "metadata": {
        "colab": {
          "base_uri": "https://localhost:8080/",
          "height": 283
        },
        "id": "GQQZ6xJB0mqU",
        "outputId": "30a8f233-391b-44dd-e2dc-e982125b0f76"
      },
      "execution_count": 144,
      "outputs": [
        {
          "output_type": "execute_result",
          "data": {
            "text/plain": [
              "[<matplotlib.lines.Line2D at 0x7f080b371390>]"
            ]
          },
          "metadata": {},
          "execution_count": 144
        },
        {
          "output_type": "display_data",
          "data": {
            "text/plain": [
              "<Figure size 432x288 with 1 Axes>"
            ],
            "image/png": "[encoded data removed]"
          },
          "metadata": {
            "needs_background": "light"
          }
        }
      ]
    },
    {
      "cell_type": "code",
      "source": [
        "X_train_69_scaled = StandardScaler().fit_transform(X_train_69)\n",
        "clfC = SGDClassifier(loss='log', random_state=10, max_iter=1, eta0=0.01, warm_start=True, learning_rate='constant')\n",
        "\n",
        "lossC =[]\n",
        "iterations = 10\n",
        "for i in range (iterations):\n",
        "  clfC.fit(X_train_69_scaled,y_train_69)\n",
        "  y_pred = clfC.predict_proba(X_train_69_scaled)\n",
        "  lossC.append(log_loss(y_train_69,y_pred))\n",
        "\n",
        "plt.plot(lossC)"
      ],
      "metadata": {
        "colab": {
          "base_uri": "https://localhost:8080/",
          "height": 284
        },
        "id": "tFBpSuNn1LMB",
        "outputId": "76cccdad-faba-4b56-d4ed-1d6b1f4633d2"
      },
      "execution_count": 145,
      "outputs": [
        {
          "output_type": "execute_result",
          "data": {
            "text/plain": [
              "[<matplotlib.lines.Line2D at 0x7f0876c34c50>]"
            ]
          },
          "metadata": {},
          "execution_count": 145
        },
        {
          "output_type": "display_data",
          "data": {
            "text/plain": [
              "<Figure size 432x288 with 1 Axes>"
            ],
            "image/png": "[encoded data removed]"
          },
          "metadata": {
            "needs_background": "light"
          }
        }
      ]
    },
    {
      "cell_type": "code",
      "source": [
        "from sklearn.linear_model import SGDClassifier\n",
        "from sklearn.metrics import log_loss\n",
        "clfD = SGDClassifier(loss='log', random_state=10, max_iter=1, warm_start=True, eta0=0.01,learning_rate='invscaling', power_t=1)\n",
        "\n",
        "lossD =[]\n",
        "iterations = 10\n",
        "for i in range (iterations):\n",
        "  clfD.fit(X_train_69,y_train_69)\n",
        "  y_pred = clfD.predict_proba(X_train_69)\n",
        "  lossD.append(log_loss(y_train_69,y_pred))\n",
        "\n",
        "plt.plot(lossD)"
      ],
      "metadata": {
        "colab": {
          "base_uri": "https://localhost:8080/",
          "height": 283
        },
        "id": "9_Mmv8v71_3w",
        "outputId": "49a145be-bd9f-4977-9bfb-6ebb88f33148"
      },
      "execution_count": 146,
      "outputs": [
        {
          "output_type": "execute_result",
          "data": {
            "text/plain": [
              "[<matplotlib.lines.Line2D at 0x7f0876c68650>]"
            ]
          },
          "metadata": {},
          "execution_count": 146
        },
        {
          "output_type": "display_data",
          "data": {
            "text/plain": [
              "<Figure size 432x288 with 1 Axes>"
            ],
            "image/png": "[encoded data removed]"
          },
          "metadata": {
            "needs_background": "light"
          }
        }
      ]
    },
    {
      "cell_type": "markdown",
      "source": [
        "# Graded"
      ],
      "metadata": {
        "id": "ChDi8teH_zWF"
      }
    },
    {
      "cell_type": "code",
      "source": [
        "clf2A = SGDClassifier(loss='log', random_state=10, max_iter=1, warm_start=True, eta0=0.01,learning_rate='constant')\n",
        "\n",
        "loss2A =[]\n",
        "iterations = 30\n",
        "for i in range (iterations):\n",
        "  clf2A.fit(X_train_69,y_train_69)\n",
        "  y_pred = clf2A.predict_proba(X_train_69)\n",
        "  loss2A.append(log_loss(y_train_69,y_pred))\n",
        "\n",
        "plt.plot(loss2A)"
      ],
      "metadata": {
        "colab": {
          "base_uri": "https://localhost:8080/",
          "height": 283
        },
        "id": "LFtT0l-Z_0Ha",
        "outputId": "135205e2-ecc6-497d-d047-1ca205160aef"
      },
      "execution_count": 148,
      "outputs": [
        {
          "output_type": "execute_result",
          "data": {
            "text/plain": [
              "[<matplotlib.lines.Line2D at 0x7f087522c590>]"
            ]
          },
          "metadata": {},
          "execution_count": 148
        },
        {
          "output_type": "display_data",
          "data": {
            "text/plain": [
              "<Figure size 432x288 with 1 Axes>"
            ],
            "image/png": "[encoded data removed]"
          },
          "metadata": {
            "needs_background": "light"
          }
        }
      ]
    },
    {
      "cell_type": "code",
      "source": [
        "clf2B = SGDClassifier(loss='log', random_state=10, max_iter=1, warm_start=True, eta0=0.000001,learning_rate='constant')\n",
        "\n",
        "loss2B =[]\n",
        "iterations = 30\n",
        "for i in range (iterations):\n",
        "  clf2B.fit(X_train_69,y_train_69)\n",
        "  y_pred = clf2B.predict_proba(X_train_69)\n",
        "  loss2B.append(log_loss(y_train_69,y_pred))\n",
        "\n",
        "plt.plot(loss2B)"
      ],
      "metadata": {
        "colab": {
          "base_uri": "https://localhost:8080/",
          "height": 283
        },
        "id": "icylbHtBAQts",
        "outputId": "2336c7b5-e0a8-4493-b401-3e900229756c"
      },
      "execution_count": 149,
      "outputs": [
        {
          "output_type": "execute_result",
          "data": {
            "text/plain": [
              "[<matplotlib.lines.Line2D at 0x7f080b3a4250>]"
            ]
          },
          "metadata": {},
          "execution_count": 149
        },
        {
          "output_type": "display_data",
          "data": {
            "text/plain": [
              "<Figure size 432x288 with 1 Axes>"
            ],
            "image/png": "[encoded data removed]"
          },
          "metadata": {
            "needs_background": "light"
          }
        }
      ]
    },
    {
      "cell_type": "code",
      "source": [
        "X_train_69_scaled = StandardScaler().fit_transform(X_train_69)\n",
        "clf2C = SGDClassifier(loss='log', random_state=10, max_iter=1, eta0=0.01, warm_start=True, learning_rate='constant')\n",
        "\n",
        "loss2C =[]\n",
        "iterations = 30\n",
        "for i in range (iterations):\n",
        "  clf2C.fit(X_train_69_scaled,y_train_69)\n",
        "  y_pred = clf2C.predict_proba(X_train_69_scaled)\n",
        "  loss2C.append(log_loss(y_train_69,y_pred))\n",
        "\n",
        "plt.plot(loss2C)"
      ],
      "metadata": {
        "colab": {
          "base_uri": "https://localhost:8080/",
          "height": 284
        },
        "id": "Qb9yFmLyAqFJ",
        "outputId": "0ca368ea-7189-4277-8682-3da2470954c1"
      },
      "execution_count": 151,
      "outputs": [
        {
          "output_type": "execute_result",
          "data": {
            "text/plain": [
              "[<matplotlib.lines.Line2D at 0x7f08751c1510>]"
            ]
          },
          "metadata": {},
          "execution_count": 151
        },
        {
          "output_type": "display_data",
          "data": {
            "text/plain": [
              "<Figure size 432x288 with 1 Axes>"
            ],
            "image/png": "[encoded data removed]"
          },
          "metadata": {
            "needs_background": "light"
          }
        }
      ]
    },
    {
      "cell_type": "code",
      "source": [
        "clf2D = SGDClassifier(loss='log', random_state=10, max_iter=1, warm_start=True, eta0=0.01,learning_rate='invscaling', power_t=1)\n",
        "\n",
        "loss2D =[]\n",
        "iterations = 30\n",
        "for i in range (iterations):\n",
        "  clf2D.fit(X_train_69,y_train_69)\n",
        "  y_pred = clf2D.predict_proba(X_train_69)\n",
        "  loss2D.append(log_loss(y_train_69,y_pred))\n",
        "\n",
        "plt.plot(loss2D)"
      ],
      "metadata": {
        "colab": {
          "base_uri": "https://localhost:8080/",
          "height": 283
        },
        "id": "0zplgmwpA8ac",
        "outputId": "19f5c60c-2ad7-41a9-c556-4ab0662d3b80"
      },
      "execution_count": 152,
      "outputs": [
        {
          "output_type": "execute_result",
          "data": {
            "text/plain": [
              "[<matplotlib.lines.Line2D at 0x7f0876bc7550>]"
            ]
          },
          "metadata": {},
          "execution_count": 152
        },
        {
          "output_type": "display_data",
          "data": {
            "text/plain": [
              "<Figure size 432x288 with 1 Axes>"
            ],
            "image/png": "[encoded data removed]"
          },
          "metadata": {
            "needs_background": "light"
          }
        }
      ]
    },
    {
      "cell_type": "code",
      "source": [
        "for i in range(len(loss2A)):\n",
        "  print(f'{i}, {loss2A[i]:.2f}')\n",
        "  if round(loss2A[i], 2)==0:\n",
        "    break"
      ],
      "metadata": {
        "colab": {
          "base_uri": "https://localhost:8080/"
        },
        "id": "xHGlQLG9BSbz",
        "outputId": "49aed3f4-3c70-4594-fd00-5a93b1b9f9aa"
      },
      "execution_count": 159,
      "outputs": [
        {
          "output_type": "stream",
          "name": "stdout",
          "text": [
            "0, 0.07\n",
            "1, 0.04\n",
            "2, 0.09\n",
            "3, 0.05\n",
            "4, 0.05\n",
            "5, 0.01\n",
            "6, 0.09\n",
            "7, 0.01\n",
            "8, 0.02\n",
            "9, 0.01\n",
            "10, 0.02\n",
            "11, 0.04\n",
            "12, 0.04\n",
            "13, 0.03\n",
            "14, 0.00\n"
          ]
        }
      ]
    },
    {
      "cell_type": "code",
      "source": [
        "from sklearn.metrics import confusion_matrix, ConfusionMatrixDisplay\n",
        "clf3 = SGDClassifier(loss='log', random_state=10, max_iter=10, eta0=0.5,alpha=0,learning_rate='invscaling', power_t=0.5, shuffle=True)\n",
        "\n",
        "clf3.fit(X_train_69,y_train_69)\n",
        "y_pred3 = clf3.predict(X_train_69)\n",
        "\n",
        "cm3 = confusion_matrix(y_train_69,y_pred3)\n",
        "disp = ConfusionMatrixDisplay(cm3)\n",
        "disp.plot()"
      ],
      "metadata": {
        "colab": {
          "base_uri": "https://localhost:8080/",
          "height": 297
        },
        "id": "ByknQ4PEBqib",
        "outputId": "c0f5b4a9-2543-4225-dab8-a56178f88419"
      },
      "execution_count": 164,
      "outputs": [
        {
          "output_type": "execute_result",
          "data": {
            "text/plain": [
              "<sklearn.metrics._plot.confusion_matrix.ConfusionMatrixDisplay at 0x7f08752bdd10>"
            ]
          },
          "metadata": {},
          "execution_count": 164
        },
        {
          "output_type": "display_data",
          "data": {
            "text/plain": [
              "<Figure size 432x288 with 2 Axes>"
            ],
            "image/png": "[encoded data removed]"
          },
          "metadata": {
            "needs_background": "light"
          }
        }
      ]
    },
    {
      "cell_type": "code",
      "source": [
        "FPidx = []\n",
        "for i in range(len(y_train_69)):\n",
        "  if y_pred3[i]==1 and y_train_69[i]==0:\n",
        "    FPidx.append(i)\n",
        "FPidx[0]"
      ],
      "metadata": {
        "colab": {
          "base_uri": "https://localhost:8080/"
        },
        "id": "XtCarOebEKhg",
        "outputId": "f03de521-be40-480f-a96a-33d69af38ba5"
      },
      "execution_count": 172,
      "outputs": [
        {
          "output_type": "execute_result",
          "data": {
            "text/plain": [
              "2167"
            ]
          },
          "metadata": {},
          "execution_count": 172
        }
      ]
    },
    {
      "cell_type": "code",
      "source": [
        "from sklearn.datasets import fetch_20newsgroups"
      ],
      "metadata": {
        "id": "xtYS2TmJFpiP"
      },
      "execution_count": 176,
      "outputs": []
    },
    {
      "cell_type": "code",
      "source": [
        "X,y = fetch_20newsgroups(return_X_y=True)"
      ],
      "metadata": {
        "id": "DBrW9jGRF6w8"
      },
      "execution_count": 195,
      "outputs": []
    },
    {
      "cell_type": "code",
      "source": [
        "type(X),type(y)"
      ],
      "metadata": {
        "colab": {
          "base_uri": "https://localhost:8080/"
        },
        "id": "ZpgObZ8xGgAg",
        "outputId": "23f6cbb1-9650-4cb0-d60c-c4f90cee9b26"
      },
      "execution_count": 198,
      "outputs": [
        {
          "output_type": "execute_result",
          "data": {
            "text/plain": [
              "(list, numpy.ndarray)"
            ]
          },
          "metadata": {},
          "execution_count": 198
        }
      ]
    },
    {
      "cell_type": "code",
      "source": [
        "len(X),y.size"
      ],
      "metadata": {
        "colab": {
          "base_uri": "https://localhost:8080/"
        },
        "id": "W4TWzFG1IMcE",
        "outputId": "dde7f78e-671b-454d-e476-73e7dde5634a"
      },
      "execution_count": 199,
      "outputs": [
        {
          "output_type": "execute_result",
          "data": {
            "text/plain": [
              "(11314, 11314)"
            ]
          },
          "metadata": {},
          "execution_count": 199
        }
      ]
    },
    {
      "cell_type": "code",
      "source": [
        "X_train,X_test,y_train,y_test = train_test_split(X,y,test_size=0.3, random_state=0)"
      ],
      "metadata": {
        "id": "0mut3Cw7J26h"
      },
      "execution_count": 200,
      "outputs": []
    },
    {
      "cell_type": "code",
      "source": [
        "from sklearn.naive_bayes import MultinomialNB\n",
        "from sklearn.feature_extraction.text import TfidfVectorizer"
      ],
      "metadata": {
        "id": "cMA_iCyDKFUP"
      },
      "execution_count": 206,
      "outputs": []
    },
    {
      "cell_type": "code",
      "source": [
        "from sklearn.pipeline import Pipeline\n",
        "nb = Pipeline([('tfid', TfidfVectorizer()),('mnb',MultinomialNB())])\n",
        "\n",
        "nb.fit(X_train,y_train)\n",
        "nb.score(X_test,y_test)"
      ],
      "metadata": {
        "colab": {
          "base_uri": "https://localhost:8080/"
        },
        "id": "WxVmj8n9KTlF",
        "outputId": "8645e838-9c31-42f6-f4d1-5d37e217713f"
      },
      "execution_count": 214,
      "outputs": [
        {
          "output_type": "execute_result",
          "data": {
            "text/plain": [
              "0.845360824742268"
            ]
          },
          "metadata": {},
          "execution_count": 214
        }
      ]
    }
  ]
}