{
  "nbformat": 4,
  "nbformat_minor": 0,
  "metadata": {
    "colab": {
      "name": "Practice 6 - MNIST.ipynb",
      "provenance": [],
      "collapsed_sections": [],
      "authorship_tag": "ABX9TyPQO/K8hYlokTxgHJ4XovNS"
    },
    "kernelspec": {
      "name": "python3",
      "display_name": "Python 3"
    },
    "language_info": {
      "name": "python"
    }
  },
  "cells": [
    {
      "cell_type": "code",
      "execution_count": 127,
      "metadata": {
        "id": "7o2GqUs8OxvC"
      },
      "outputs": [],
      "source": [
        "import pandas as pd\n",
        "import numpy as np\n",
        "import matplotlib.pyplot as plt\n",
        "from sklearn.datasets import fetch_openml"
      ]
    },
    {
      "cell_type": "code",
      "source": [
        "X,y = fetch_openml('mnist_784', version=1, return_X_y=True)"
      ],
      "metadata": {
        "id": "I5bSXF2aPLJx"
      },
      "execution_count": 128,
      "outputs": []
    },
    {
      "cell_type": "code",
      "source": [
        "np.random.seed(42)"
      ],
      "metadata": {
        "id": "fEfXgww6kLA3"
      },
      "execution_count": 129,
      "outputs": []
    },
    {
      "cell_type": "code",
      "source": [
        "X.shape"
      ],
      "metadata": {
        "colab": {
          "base_uri": "https://localhost:8080/"
        },
        "id": "z5xdefrkkQrx",
        "outputId": "93a02771-2c85-4ae2-daae-f2e6aff631c9"
      },
      "execution_count": 130,
      "outputs": [
        {
          "output_type": "execute_result",
          "data": {
            "text/plain": [
              "(70000, 784)"
            ]
          },
          "metadata": {},
          "execution_count": 130
        }
      ]
    },
    {
      "cell_type": "code",
      "source": [
        "X = X.to_numpy()\n",
        "y = y.to_numpy()"
      ],
      "metadata": {
        "id": "1UFe_cwZk7yE"
      },
      "execution_count": 131,
      "outputs": []
    },
    {
      "cell_type": "code",
      "source": [
        "from sklearn.model_selection import train_test_split\n",
        "X_train,X_test, y_train,y_test = train_test_split(X,y,test_size=0.3, shuffle=False)\n",
        "y_train[-1]"
      ],
      "metadata": {
        "colab": {
          "base_uri": "https://localhost:8080/",
          "height": 36
        },
        "id": "pUh4ApxO6Z6B",
        "outputId": "6455a7a1-5892-4906-9b65-1c17981bef11"
      },
      "execution_count": 132,
      "outputs": [
        {
          "output_type": "execute_result",
          "data": {
            "text/plain": [
              "'6'"
            ],
            "application/vnd.google.colaboratory.intrinsic+json": {
              "type": "string"
            }
          },
          "metadata": {},
          "execution_count": 132
        }
      ]
    },
    {
      "cell_type": "code",
      "source": [
        "y_train[-1]"
      ],
      "metadata": {
        "colab": {
          "base_uri": "https://localhost:8080/",
          "height": 36
        },
        "id": "Ew7nDkqykrM_",
        "outputId": "281bb64c-cf1a-4d84-d50c-536290ca9856"
      },
      "execution_count": 133,
      "outputs": [
        {
          "output_type": "execute_result",
          "data": {
            "text/plain": [
              "'6'"
            ],
            "application/vnd.google.colaboratory.intrinsic+json": {
              "type": "string"
            }
          },
          "metadata": {},
          "execution_count": 133
        }
      ]
    },
    {
      "cell_type": "code",
      "source": [
        "y_train_6 = np.ones(len(y_train[y_train=='6']))\n",
        "y_train_9 = np.zeros(len(y_train[y_train=='9']))\n",
        "y_train_69 = np.concatenate((y_train_6,y_train_9),axis=0)"
      ],
      "metadata": {
        "id": "DIHWh3pGlBza"
      },
      "execution_count": 134,
      "outputs": []
    },
    {
      "cell_type": "code",
      "source": [
        "idx6 = np.where(y_train=='6')\n",
        "idx9 = np.where(y_train=='9')\n",
        "\n",
        "X_train_6 = X_train[idx6]\n",
        "X_train_9 = X_train[idx9]\n",
        "X_train_69 = np.concatenate ( (X_train_6, X_train_9),axis=0)"
      ],
      "metadata": {
        "id": "kWzTG6YlmKnu"
      },
      "execution_count": 135,
      "outputs": []
    },
    {
      "cell_type": "code",
      "source": [
        "X_train_69.shape,y_train_69.shape"
      ],
      "metadata": {
        "colab": {
          "base_uri": "https://localhost:8080/"
        },
        "id": "oz-omxAKmLeK",
        "outputId": "0c55022e-b020-4c1c-e674-7521adb4fc4a"
      },
      "execution_count": 136,
      "outputs": [
        {
          "output_type": "execute_result",
          "data": {
            "text/plain": [
              "((9746, 784), (9746,))"
            ]
          },
          "metadata": {},
          "execution_count": 136
        }
      ]
    },
    {
      "cell_type": "code",
      "source": [
        "from sklearn.utils import shuffle\n",
        "X_train_69,y_train_69=shuffle(X_train_69,y_train_69,random_state=1729)"
      ],
      "metadata": {
        "id": "waxLtP5_oZng"
      },
      "execution_count": 137,
      "outputs": []
    },
    {
      "cell_type": "code",
      "source": [
        "y_test_6 = np.ones(len(y_test[y_test=='6']))\n",
        "y_test_9 = np.zeros(len(y_test[y_test=='9']))\n",
        "y_test_69 = np.concatenate((y_test_6,y_test_9))\n",
        "\n",
        "idx6 = np.where(y_test=='6')\n",
        "idx9 = np.where(y_test=='9')\n",
        "\n",
        "X_test_6 = X_test[idx6]\n",
        "X_test_9 = X_test[idx9]\n",
        "X_test_69 = np.concatenate ( (X_test_6, X_test_9),axis=0)"
      ],
      "metadata": {
        "id": "-CMWU2ryo-_7"
      },
      "execution_count": 138,
      "outputs": []
    },
    {
      "cell_type": "markdown",
      "source": [
        " sum of all the labels in the vector (y_train_69)"
      ],
      "metadata": {
        "id": "sZJqL9LMpm8W"
      }
    },
    {
      "cell_type": "code",
      "source": [
        "y_train_69.sum()"
      ],
      "metadata": {
        "colab": {
          "base_uri": "https://localhost:8080/"
        },
        "id": "XNAkejwEphDj",
        "outputId": "edb31ac6-4eb8-4006-d66d-e41079b37d56"
      },
      "execution_count": 139,
      "outputs": [
        {
          "output_type": "execute_result",
          "data": {
            "text/plain": [
              "4855.0"
            ]
          },
          "metadata": {},
          "execution_count": 139
        }
      ]
    },
    {
      "cell_type": "code",
      "source": [
        "y_test_69.sum()"
      ],
      "metadata": {
        "colab": {
          "base_uri": "https://localhost:8080/"
        },
        "id": "emX4DbjBps2w",
        "outputId": "e3c05942-e050-431e-f319-2571a01efef6"
      },
      "execution_count": 140,
      "outputs": [
        {
          "output_type": "execute_result",
          "data": {
            "text/plain": [
              "2021.0"
            ]
          },
          "metadata": {},
          "execution_count": 140
        }
      ]
    },
    {
      "cell_type": "markdown",
      "source": [
        "Apply StandardScaler to all the training samples in x_train_69"
      ],
      "metadata": {
        "id": "RyUpnV9Bp3HQ"
      }
    },
    {
      "cell_type": "code",
      "source": [
        "from sklearn.preprocessing import StandardScaler\n",
        "\n",
        "scaler = StandardScaler()\n",
        "X_train_69Tf = scaler.fit_transform(X_train_69)\n",
        "\n",
        "X_train_69Tf[0].mean(),X_train_69Tf[:,0].mean() ,X_train_69Tf[0].std(), X_train_69Tf[:,0].std()"
      ],
      "metadata": {
        "id": "U98e40H2rNQf",
        "colab": {
          "base_uri": "https://localhost:8080/"
        },
        "outputId": "695e89d4-e2f6-4f36-ca75-c6f01406d8fe"
      },
      "execution_count": 141,
      "outputs": [
        {
          "output_type": "execute_result",
          "data": {
            "text/plain": [
              "(0.08128379559427823, 0.0, 0.7358823226037738, 0.0)"
            ]
          },
          "metadata": {},
          "execution_count": 141
        }
      ]
    },
    {
      "cell_type": "code",
      "source": [
        "from warnings import filterwarnings\n",
        "filterwarnings('ignore')"
      ],
      "metadata": {
        "id": "81Xrrpjt0K6R"
      },
      "execution_count": 142,
      "outputs": []
    },
    {
      "cell_type": "code",
      "source": [
        "from sklearn.linear_model import SGDClassifier\n",
        "from sklearn.metrics import log_loss\n",
        "clfA = SGDClassifier(loss='log', random_state=10, max_iter=1, eta0=0.01, warm_start=True, learning_rate='constant')\n",
        "\n",
        "lossA =[]\n",
        "iterations = 10\n",
        "for i in range (iterations):\n",
        "  clfA.fit(X_train_69,y_train_69)\n",
        "  y_pred = clfA.predict_proba(X_train_69)\n",
        "  lossA.append(log_loss(y_train_69,y_pred))\n",
        "\n",
        "plt.plot(lossA)"
      ],
      "metadata": {
        "id": "EJCZC2xOqdz_",
        "colab": {
          "base_uri": "https://localhost:8080/",
          "height": 283
        },
        "outputId": "fa6c1567-98b0-4414-a209-baab83c73861"
      },
      "execution_count": 143,
      "outputs": [
        {
          "output_type": "execute_result",
          "data": {
            "text/plain": [
              "[<matplotlib.lines.Line2D at 0x7f081b7d5290>]"
            ]
          },
          "metadata": {},
          "execution_count": 143
        },
        {
          "output_type": "display_data",
          "data": {
            "text/plain": [
              "<Figure size 432x288 with 1 Axes>"
            ],
            "image/png": "[encoded data removed]"
          },
          "metadata": {
            "needs_background": "light"
          }
        }
      ]
    },
    {
      "cell_type": "code",
      "source": [
        "from sklearn.linear_model import SGDClassifier\n",
        "from sklearn.metrics import log_loss\n",
        "clfB = SGDClassifier(loss='log', random_state=10, max_iter=1, eta0=0.000001, warm_start=True, learning_rate='constant' )\n",
        "\n",
        "lossB =[]\n",
        "iterations = 10\n",
        "for i in range (iterations):\n",
        "  clfB.fit(X_train_69,y_train_69)\n",
        "  y_pred = clfB.predict_proba(X_train_69)\n",
        "  lossB.append(log_loss(y_train_69,y_pred))\n",
        "\n",
        "plt.plot(lossB)"
      ],
      "metadata": {
        "colab": {
          "base_uri": "https://localhost:8080/",
          "height": 283
        },
        "id": "GQQZ6xJB0mqU",
        "outputId": "30a8f233-391b-44dd-e2dc-e982125b0f76"
      },
      "execution_count": 144,
      "outputs": [
        {
          "output_type": "execute_result",
          "data": {
            "text/plain": [
              "[<matplotlib.lines.Line2D at 0x7f080b371390>]"
            ]
          },
          "metadata": {},
          "execution_count": 144
        },
        {
          "output_type": "display_data",
          "data": {
            "text/plain": [
              "<Figure size 432x288 with 1 Axes>"
            ],
            "image/png": "[encoded data removed]"
          },
          "metadata": {
            "needs_background": "light"
          }
        }
      ]
    },
    {
      "cell_type": "code",
      "source": [
        "X_train_69_scaled = StandardScaler().fit_transform(X_train_69)\n",
        "clfC = SGDClassifier(loss='log', random_state=10, max_iter=1, eta0=0.01, warm_start=True, learning_rate='constant')\n",
        "\n",
        "lossC =[]\n",
        "iterations = 10\n",
        "for i in range (iterations):\n",
        "  clfC.fit(X_train_69_scaled,y_train_69)\n",
        "  y_pred = clfC.predict_proba(X_train_69_scaled)\n",
        "  lossC.append(log_loss(y_train_69,y_pred))\n",
        "\n",
        "plt.plot(lossC)"
      ],
      "metadata": {
        "colab": {
          "base_uri": "https://localhost:8080/",
          "height": 284
        },
        "id": "tFBpSuNn1LMB",
        "outputId": "76cccdad-faba-4b56-d4ed-1d6b1f4633d2"
      },
      "execution_count": 145,
      "outputs": [
        {
          "output_type": "execute_result",
          "data": {
            "text/plain": [
              "[<matplotlib.lines.Line2D at 0x7f0876c34c50>]"
            ]
          },
          "metadata": {},
          "execution_count": 145
        },
        {
          "output_type": "display_data",
          "data": {
            "text/plain": [
              "<Figure size 432x288 with 1 Axes>"
            ],
            "image/png": "[encoded data removed]"
          },
          "metadata": {
            "needs_background": "light"
          }
        }
      ]
    },
    {
      "cell_type": "code",
      "source": [
        "from sklearn.linear_model import SGDClassifier\n",
        "from sklearn.metrics import log_loss\n",
        "clfD = SGDClassifier(loss='log', random_state=10, max_iter=1, warm_start=True, eta0=0.01,learning_rate='invscaling', power_t=1)\n",
        "\n",
        "lossD =[]\n",
        "iterations = 10\n",
        "for i in range (iterations):\n",
        "  clfD.fit(X_train_69,y_train_69)\n",
        "  y_pred = clfD.predict_proba(X_train_69)\n",
        "  lossD.append(log_loss(y_train_69,y_pred))\n",
        "\n",
        "plt.plot(lossD)"
      ],
      "metadata": {
        "colab": {
          "base_uri": "https://localhost:8080/",
          "height": 283
        },
        "id": "9_Mmv8v71_3w",
        "outputId": "49a145be-bd9f-4977-9bfb-6ebb88f33148"
      },
      "execution_count": 146,
      "outputs": [
        {
          "output_type": "execute_result",
          "data": {
            "text/plain": [
              "[<matplotlib.lines.Line2D at 0x7f0876c68650>]"
            ]
          },
          "metadata": {},
          "execution_count": 146
        },
        {
          "output_type": "display_data",
          "data": {
            "text/plain": [
              "<Figure size 432x288 with 1 Axes>"
            ],
            "image/png": "[encoded data removed]"
          },
          "metadata": {
            "needs_background": "light"
          }
        }
      ]
    }
  ]
}