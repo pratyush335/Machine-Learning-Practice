{
  "nbformat": 4,
  "nbformat_minor": 0,
  "metadata": {
    "colab": {
      "name": "AdaBoost , GradientBoost and XGBoost.ipynb",
      "provenance": [],
      "authorship_tag": "ABX9TyM6+ZIULzqi23hgXfjWFdNE"
    },
    "kernelspec": {
      "name": "python3",
      "display_name": "Python 3"
    },
    "language_info": {
      "name": "python"
    }
  },
  "cells": [
    {
      "cell_type": "markdown",
      "source": [
        "# Importing important libraries "
      ],
      "metadata": {
        "id": "HLKZHvj-zIw6"
      }
    },
    {
      "cell_type": "code",
      "execution_count": 15,
      "metadata": {
        "id": "ujO7RCB3y3W4"
      },
      "outputs": [],
      "source": [
        "from keras.datasets import mnist\n",
        "\n",
        "import pandas as pd\n",
        "import numpy as np\n",
        "import matplotlib.pyplot as plt\n",
        "\n",
        "\n",
        "from sklearn.model_selection import ShuffleSplit\n",
        "from sklearn.model_selection import cross_val_score\n",
        "from sklearn.metrics import classification_report, confusion_matrix, ConfusionMatrixDisplay\n",
        "\n",
        "from sklearn.ensemble import AdaBoostClassifier, GradientBoostingClassifier\n",
        "from xgboost import XGBClassifier\n",
        "\n",
        "from sklearn.pipeline import Pipeline"
      ]
    },
    {
      "cell_type": "markdown",
      "source": [
        "## Loading the MNIST dataset"
      ],
      "metadata": {
        "id": "UeCf3MB7zP79"
      }
    },
    {
      "cell_type": "code",
      "source": [
        "(X_train,y_train),(X_test,y_test) = mnist.load_data()"
      ],
      "metadata": {
        "colab": {
          "base_uri": "https://localhost:8080/"
        },
        "id": "WoHZBDAgzR1y",
        "outputId": "edeb3823-7cfe-40a1-ebed-8399ef8dda78"
      },
      "execution_count": null,
      "outputs": [
        {
          "output_type": "stream",
          "name": "stdout",
          "text": [
            "Downloading data from https://storage.googleapis.com/tensorflow/tf-keras-datasets/mnist.npz\n",
            "11493376/11490434 [==============================] - 0s 0us/step\n",
            "11501568/11490434 [==============================] - 0s 0us/step\n"
          ]
        }
      ]
    },
    {
      "cell_type": "code",
      "source": [
        "# reshaping the data \n",
        "X_train = X_train.reshape(60000, 28*28)\n",
        "X_test = X_test.reshape(10000, 28*28)"
      ],
      "metadata": {
        "id": "SA3gA6fxzU4j"
      },
      "execution_count": null,
      "outputs": []
    },
    {
      "cell_type": "code",
      "source": [
        "# normalizing the data\n",
        "X_train = X_train/255\n",
        "X_test = X_test/255"
      ],
      "metadata": {
        "id": "8M7Xv6wfzWts"
      },
      "execution_count": null,
      "outputs": []
    },
    {
      "cell_type": "code",
      "source": [
        "# Shuffle Split cross validation with 10 splits and 20% data set aside for model evaluation as a test data\n",
        "cv = ShuffleSplit(n_splits=10, test_size=0.2, random_state=42)"
      ],
      "metadata": {
        "id": "wg_Qtu50zcOS"
      },
      "execution_count": null,
      "outputs": []
    },
    {
      "cell_type": "code",
      "source": [
        "def train_classifiers(estimator, X_train, y_train, cv, name):\n",
        "  estimator.fit(X_train, y_train)\n",
        "  cv_train_score = cross_val_score(estimator, X_train, y_train, cv=cv, scoring='f1_macro')\n",
        "\n",
        "  print(f'On an average {name} model has an average f1 score of {cv_train_score.mean():.3f} +- {cv_train_score.std():.3f} on the training set')"
      ],
      "metadata": {
        "id": "onDDISmBzdfA"
      },
      "execution_count": null,
      "outputs": []
    },
    {
      "cell_type": "code",
      "source": [
        "def eval(estimator, X_test, y_test):\n",
        "  y_pred = estimator.predict(X_test)\n",
        "\n",
        "  print (f'# Classification report: ')\n",
        "  print(classification_report(y_test, y_pred))\n",
        "  \n",
        "  print(f'# Confusion matrix display: ')\n",
        "  disp = ConfusionMatrixDisplay(confusion_matrix=confusion_matrix(y_test,y_pred))\n",
        "  disp.plot()\n",
        "  plt.title('Confusion Matrix')\n",
        "  plt.show"
      ],
      "metadata": {
        "id": "c7Z8jf0hzubb"
      },
      "execution_count": null,
      "outputs": []
    },
    {
      "cell_type": "markdown",
      "source": [
        "## AdaBoost for MNIST multiclass classification:"
      ],
      "metadata": {
        "id": "Z7dQu9J80Arl"
      }
    },
    {
      "cell_type": "code",
      "source": [
        "abc_pipeline = Pipeline( [('classifier', AdaBoostClassifier()) ])\n",
        "train_classifiers(abc_pipeline,X_train,y_train,cv, \"AdaBoost Classifier\")"
      ],
      "metadata": {
        "colab": {
          "base_uri": "https://localhost:8080/"
        },
        "id": "AUIzt3yoz5WH",
        "outputId": "3caaaf85-a182-4407-fc45-2ab22e37bb39"
      },
      "execution_count": null,
      "outputs": [
        {
          "output_type": "stream",
          "name": "stdout",
          "text": [
            "On an average AdaBoost Classifier model has an average f1 score of 0.712 +- 0.016 on the training set\n"
          ]
        }
      ]
    },
    {
      "cell_type": "code",
      "source": [
        "eval(abc_pipeline, X_test, y_test)"
      ],
      "metadata": {
        "colab": {
          "base_uri": "https://localhost:8080/",
          "height": 646
        },
        "id": "D7Vnhy8W1USS",
        "outputId": "82fe0763-de88-4204-f868-986585e98e3f"
      },
      "execution_count": null,
      "outputs": [
        {
          "output_type": "stream",
          "name": "stdout",
          "text": [
            "# Classification report: \n",
            "              precision    recall  f1-score   support\n",
            "\n",
            "           0       0.84      0.90      0.87       980\n",
            "           1       0.85      0.94      0.90      1135\n",
            "           2       0.79      0.58      0.67      1032\n",
            "           3       0.68      0.67      0.68      1010\n",
            "           4       0.72      0.72      0.72       982\n",
            "           5       0.69      0.59      0.64       892\n",
            "           6       0.72      0.86      0.78       958\n",
            "           7       0.68      0.78      0.73      1028\n",
            "           8       0.66      0.68      0.67       974\n",
            "           9       0.62      0.55      0.58      1009\n",
            "\n",
            "    accuracy                           0.73     10000\n",
            "   macro avg       0.73      0.73      0.72     10000\n",
            "weighted avg       0.73      0.73      0.73     10000\n",
            "\n",
            "# Confusion matrix display: \n"
          ]
        },
        {
          "output_type": "display_data",
          "data": {
            "text/plain": [
              "<Figure size 432x288 with 2 Axes>"
            ],
            "image/png": "[encoded data removed]"
          },
          "metadata": {
            "needs_background": "light"
          }
        }
      ]
    },
    {
      "cell_type": "markdown",
      "source": [
        "## Gradient Boost for MNIST multiclass classification:"
      ],
      "metadata": {
        "id": "hawfxJcM1fb_"
      }
    },
    {
      "cell_type": "code",
      "source": [
        "gbc_pipeline = Pipeline( [('classifier', GradientBoostingClassifier()) ])\n",
        "train_classifiers(gbc_pipeline,X_train,y_train,cv, \"GradientBoosting Classifier\")"
      ],
      "metadata": {
        "id": "nb-ZpLXz1aiy"
      },
      "execution_count": null,
      "outputs": []
    },
    {
      "cell_type": "code",
      "source": [
        "eval(gbc_pipeline, X_test, y_test)"
      ],
      "metadata": {
        "id": "M91j3Wtw1rja"
      },
      "execution_count": null,
      "outputs": []
    },
    {
      "cell_type": "markdown",
      "source": [
        "## XGBoost for MNIST multiclass classification:"
      ],
      "metadata": {
        "id": "4aJoIFLl1vMQ"
      }
    },
    {
      "cell_type": "code",
      "source": [
        "xbc_pipeline = Pipeline( [('classifier', XGBClassifier()) ])\n",
        "train_classifiers(xbc_pipeline,X_train,y_train,cv, \"XGBoost Classifier\")"
      ],
      "metadata": {
        "id": "BWIvpSqz1uuA"
      },
      "execution_count": null,
      "outputs": []
    },
    {
      "cell_type": "code",
      "source": [
        "eval(xbc_pipeline, X_test, y_test)"
      ],
      "metadata": {
        "id": "O0onJxfk2QUn"
      },
      "execution_count": null,
      "outputs": []
    }
  ]
}