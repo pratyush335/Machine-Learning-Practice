{
  "nbformat": 4,
  "nbformat_minor": 0,
  "metadata": {
    "colab": {
      "name": "OPPE 1.ipynb",
      "provenance": [],
      "collapsed_sections": [],
      "authorship_tag": "ABX9TyN82WM3EaFNAsP3F5BFVleF"
    },
    "kernelspec": {
      "name": "python3",
      "display_name": "Python 3"
    },
    "language_info": {
      "name": "python"
    }
  },
  "cells": [
    {
      "cell_type": "code",
      "execution_count": 33,
      "metadata": {
        "id": "bQvu6mi-RUQF"
      },
      "outputs": [],
      "source": [
        "import pandas as pd\n",
        "import numpy as np\n",
        "import matplotlib.pyplot as plt\n",
        "import seaborn as sns\n",
        "\n",
        "from sklearn.model_selection import train_test_split\n",
        "from sklearn.preprocessing import PolynomialFeatures, StandardScaler, OneHotEncoder\n",
        "from sklearn.impute import SimpleImputer\n",
        "\n",
        "from sklearn.pipeline import Pipeline"
      ]
    },
    {
      "cell_type": "code",
      "source": [
        "df = pd.read_csv('v2.csv')"
      ],
      "metadata": {
        "id": "3tUin_bSYrqQ"
      },
      "execution_count": 2,
      "outputs": []
    },
    {
      "cell_type": "code",
      "source": [
        "df.head()"
      ],
      "metadata": {
        "colab": {
          "base_uri": "https://localhost:8080/",
          "height": 322
        },
        "id": "IeMxRwD7Y6FN",
        "outputId": "3bb3c5ae-3cc6-4ae3-9952-93336e457791"
      },
      "execution_count": 3,
      "outputs": [
        {
          "output_type": "execute_result",
          "data": {
            "text/plain": [
              "                    Country      Status  Life_expectancy  Adult_Mortality  \\\n",
              "0                   Ecuador  Developing             75.1            137.0   \n",
              "1                  Suriname  Developing             70.0            196.0   \n",
              "2                      Togo  Developing             59.7            285.0   \n",
              "3  United States of America   Developed             79.1             14.0   \n",
              "4               Philippines  Developing             67.2            217.0   \n",
              "\n",
              "   infant_deaths  Alcohol  percentage_expenditure  Hepatitis_B  Measles   BMI  \\\n",
              "0              7     3.87              282.144007         91.0        0   5.0   \n",
              "1              0     5.13              885.073977         87.0        0  54.1   \n",
              "2             13     0.01                4.877350         87.0      577  23.7   \n",
              "3             23     8.82                0.000000         92.0      667  69.1   \n",
              "4             67     4.44                0.901149         52.0    10511  19.2   \n",
              "\n",
              "   under-five_deaths  Polio  Total_expenditure  Diphtheria  HIV_AIDS  \\\n",
              "0                  8   91.0               5.58        94.0       0.1   \n",
              "1                  0   85.0               6.14        87.0       0.6   \n",
              "2                 20   85.0               5.25        87.0       1.0   \n",
              "3                 27   93.0              17.14        95.0       0.1   \n",
              "4                 87   85.0               3.25        84.0       0.1   \n",
              "\n",
              "           GDP  Population  Income_composition_of_resources  Schooling  \n",
              "0  4255.565710  14691275.0                            0.702       13.1  \n",
              "1  7443.851780     52619.0                            0.696       12.1  \n",
              "2    62.131849   7228915.0                            0.475       12.0  \n",
              "3          NaN         NaN                              NaN        NaN  \n",
              "4    11.553196   8331954.0                            0.631       11.6  "
            ],
            "text/html": [
              "\n",
              "  <div id=\"df-d2c95c42-6a3d-4692-98dd-9a4784095073\">\n",
              "    <div class=\"colab-df-container\">\n",
              "      <div>\n",
              "<style scoped>\n",
              "    .dataframe tbody tr th:only-of-type {\n",
              "        vertical-align: middle;\n",
              "    }\n",
              "\n",
              "    .dataframe tbody tr th {\n",
              "        vertical-align: top;\n",
              "    }\n",
              "\n",
              "    .dataframe thead th {\n",
              "        text-align: right;\n",
              "    }\n",
              "</style>\n",
              "<table border=\"1\" class=\"dataframe\">\n",
              "  <thead>\n",
              "    <tr style=\"text-align: right;\">\n",
              "      <th></th>\n",
              "      <th>Country</th>\n",
              "      <th>Status</th>\n",
              "      <th>Life_expectancy</th>\n",
              "      <th>Adult_Mortality</th>\n",
              "      <th>infant_deaths</th>\n",
              "      <th>Alcohol</th>\n",
              "      <th>percentage_expenditure</th>\n",
              "      <th>Hepatitis_B</th>\n",
              "      <th>Measles</th>\n",
              "      <th>BMI</th>\n",
              "      <th>under-five_deaths</th>\n",
              "      <th>Polio</th>\n",
              "      <th>Total_expenditure</th>\n",
              "      <th>Diphtheria</th>\n",
              "      <th>HIV_AIDS</th>\n",
              "      <th>GDP</th>\n",
              "      <th>Population</th>\n",
              "      <th>Income_composition_of_resources</th>\n",
              "      <th>Schooling</th>\n",
              "    </tr>\n",
              "  </thead>\n",
              "  <tbody>\n",
              "    <tr>\n",
              "      <th>0</th>\n",
              "      <td>Ecuador</td>\n",
              "      <td>Developing</td>\n",
              "      <td>75.1</td>\n",
              "      <td>137.0</td>\n",
              "      <td>7</td>\n",
              "      <td>3.87</td>\n",
              "      <td>282.144007</td>\n",
              "      <td>91.0</td>\n",
              "      <td>0</td>\n",
              "      <td>5.0</td>\n",
              "      <td>8</td>\n",
              "      <td>91.0</td>\n",
              "      <td>5.58</td>\n",
              "      <td>94.0</td>\n",
              "      <td>0.1</td>\n",
              "      <td>4255.565710</td>\n",
              "      <td>14691275.0</td>\n",
              "      <td>0.702</td>\n",
              "      <td>13.1</td>\n",
              "    </tr>\n",
              "    <tr>\n",
              "      <th>1</th>\n",
              "      <td>Suriname</td>\n",
              "      <td>Developing</td>\n",
              "      <td>70.0</td>\n",
              "      <td>196.0</td>\n",
              "      <td>0</td>\n",
              "      <td>5.13</td>\n",
              "      <td>885.073977</td>\n",
              "      <td>87.0</td>\n",
              "      <td>0</td>\n",
              "      <td>54.1</td>\n",
              "      <td>0</td>\n",
              "      <td>85.0</td>\n",
              "      <td>6.14</td>\n",
              "      <td>87.0</td>\n",
              "      <td>0.6</td>\n",
              "      <td>7443.851780</td>\n",
              "      <td>52619.0</td>\n",
              "      <td>0.696</td>\n",
              "      <td>12.1</td>\n",
              "    </tr>\n",
              "    <tr>\n",
              "      <th>2</th>\n",
              "      <td>Togo</td>\n",
              "      <td>Developing</td>\n",
              "      <td>59.7</td>\n",
              "      <td>285.0</td>\n",
              "      <td>13</td>\n",
              "      <td>0.01</td>\n",
              "      <td>4.877350</td>\n",
              "      <td>87.0</td>\n",
              "      <td>577</td>\n",
              "      <td>23.7</td>\n",
              "      <td>20</td>\n",
              "      <td>85.0</td>\n",
              "      <td>5.25</td>\n",
              "      <td>87.0</td>\n",
              "      <td>1.0</td>\n",
              "      <td>62.131849</td>\n",
              "      <td>7228915.0</td>\n",
              "      <td>0.475</td>\n",
              "      <td>12.0</td>\n",
              "    </tr>\n",
              "    <tr>\n",
              "      <th>3</th>\n",
              "      <td>United States of America</td>\n",
              "      <td>Developed</td>\n",
              "      <td>79.1</td>\n",
              "      <td>14.0</td>\n",
              "      <td>23</td>\n",
              "      <td>8.82</td>\n",
              "      <td>0.000000</td>\n",
              "      <td>92.0</td>\n",
              "      <td>667</td>\n",
              "      <td>69.1</td>\n",
              "      <td>27</td>\n",
              "      <td>93.0</td>\n",
              "      <td>17.14</td>\n",
              "      <td>95.0</td>\n",
              "      <td>0.1</td>\n",
              "      <td>NaN</td>\n",
              "      <td>NaN</td>\n",
              "      <td>NaN</td>\n",
              "      <td>NaN</td>\n",
              "    </tr>\n",
              "    <tr>\n",
              "      <th>4</th>\n",
              "      <td>Philippines</td>\n",
              "      <td>Developing</td>\n",
              "      <td>67.2</td>\n",
              "      <td>217.0</td>\n",
              "      <td>67</td>\n",
              "      <td>4.44</td>\n",
              "      <td>0.901149</td>\n",
              "      <td>52.0</td>\n",
              "      <td>10511</td>\n",
              "      <td>19.2</td>\n",
              "      <td>87</td>\n",
              "      <td>85.0</td>\n",
              "      <td>3.25</td>\n",
              "      <td>84.0</td>\n",
              "      <td>0.1</td>\n",
              "      <td>11.553196</td>\n",
              "      <td>8331954.0</td>\n",
              "      <td>0.631</td>\n",
              "      <td>11.6</td>\n",
              "    </tr>\n",
              "  </tbody>\n",
              "</table>\n",
              "</div>\n",
              "      <button class=\"colab-df-convert\" onclick=\"convertToInteractive('df-d2c95c42-6a3d-4692-98dd-9a4784095073')\"\n",
              "              title=\"Convert this dataframe to an interactive table.\"\n",
              "              style=\"display:none;\">\n",
              "        \n",
              "  <svg xmlns=\"http://www.w3.org/2000/svg\" height=\"24px\"viewBox=\"0 0 24 24\"\n",
              "       width=\"24px\">\n",
              "    <path d=\"M0 0h24v24H0V0z\" fill=\"none\"/>\n",
              "    <path d=\"M18.56 5.44l.94 2.06.94-2.06 2.06-.94-2.06-.94-.94-2.06-.94 2.06-2.06.94zm-11 1L8.5 8.5l.94-2.06 2.06-.94-2.06-.94L8.5 2.5l-.94 2.06-2.06.94zm10 10l.94 2.06.94-2.06 2.06-.94-2.06-.94-.94-2.06-.94 2.06-2.06.94z\"/><path d=\"M17.41 7.96l-1.37-1.37c-.4-.4-.92-.59-1.43-.59-.52 0-1.04.2-1.43.59L10.3 9.45l-7.72 7.72c-.78.78-.78 2.05 0 2.83L4 21.41c.39.39.9.59 1.41.59.51 0 1.02-.2 1.41-.59l7.78-7.78 2.81-2.81c.8-.78.8-2.07 0-2.86zM5.41 20L4 18.59l7.72-7.72 1.47 1.35L5.41 20z\"/>\n",
              "  </svg>\n",
              "      </button>\n",
              "      \n",
              "  <style>\n",
              "    .colab-df-container {\n",
              "      display:flex;\n",
              "      flex-wrap:wrap;\n",
              "      gap: 12px;\n",
              "    }\n",
              "\n",
              "    .colab-df-convert {\n",
              "      background-color: #E8F0FE;\n",
              "      border: none;\n",
              "      border-radius: 50%;\n",
              "      cursor: pointer;\n",
              "      display: none;\n",
              "      fill: #1967D2;\n",
              "      height: 32px;\n",
              "      padding: 0 0 0 0;\n",
              "      width: 32px;\n",
              "    }\n",
              "\n",
              "    .colab-df-convert:hover {\n",
              "      background-color: #E2EBFA;\n",
              "      box-shadow: 0px 1px 2px rgba(60, 64, 67, 0.3), 0px 1px 3px 1px rgba(60, 64, 67, 0.15);\n",
              "      fill: #174EA6;\n",
              "    }\n",
              "\n",
              "    [theme=dark] .colab-df-convert {\n",
              "      background-color: #3B4455;\n",
              "      fill: #D2E3FC;\n",
              "    }\n",
              "\n",
              "    [theme=dark] .colab-df-convert:hover {\n",
              "      background-color: #434B5C;\n",
              "      box-shadow: 0px 1px 3px 1px rgba(0, 0, 0, 0.15);\n",
              "      filter: drop-shadow(0px 1px 2px rgba(0, 0, 0, 0.3));\n",
              "      fill: #FFFFFF;\n",
              "    }\n",
              "  </style>\n",
              "\n",
              "      <script>\n",
              "        const buttonEl =\n",
              "          document.querySelector('#df-d2c95c42-6a3d-4692-98dd-9a4784095073 button.colab-df-convert');\n",
              "        buttonEl.style.display =\n",
              "          google.colab.kernel.accessAllowed ? 'block' : 'none';\n",
              "\n",
              "        async function convertToInteractive(key) {\n",
              "          const element = document.querySelector('#df-d2c95c42-6a3d-4692-98dd-9a4784095073');\n",
              "          const dataTable =\n",
              "            await google.colab.kernel.invokeFunction('convertToInteractive',\n",
              "                                                     [key], {});\n",
              "          if (!dataTable) return;\n",
              "\n",
              "          const docLinkHtml = 'Like what you see? Visit the ' +\n",
              "            '<a target=\"_blank\" href=https://colab.research.google.com/notebooks/data_table.ipynb>data table notebook</a>'\n",
              "            + ' to learn more about interactive tables.';\n",
              "          element.innerHTML = '';\n",
              "          dataTable['output_type'] = 'display_data';\n",
              "          await google.colab.output.renderOutput(dataTable, element);\n",
              "          const docLink = document.createElement('div');\n",
              "          docLink.innerHTML = docLinkHtml;\n",
              "          element.appendChild(docLink);\n",
              "        }\n",
              "      </script>\n",
              "    </div>\n",
              "  </div>\n",
              "  "
            ]
          },
          "metadata": {},
          "execution_count": 3
        }
      ]
    },
    {
      "cell_type": "code",
      "source": [
        "df.shape"
      ],
      "metadata": {
        "colab": {
          "base_uri": "https://localhost:8080/"
        },
        "id": "NFJhtqV3Y_8X",
        "outputId": "fa4b668d-de10-4b6c-d125-cb2c1dd1cd2b"
      },
      "execution_count": 4,
      "outputs": [
        {
          "output_type": "execute_result",
          "data": {
            "text/plain": [
              "(1000, 19)"
            ]
          },
          "metadata": {},
          "execution_count": 4
        }
      ]
    },
    {
      "cell_type": "code",
      "source": [
        "df.describe()"
      ],
      "metadata": {
        "colab": {
          "base_uri": "https://localhost:8080/",
          "height": 382
        },
        "id": "1apKNNjMZPoi",
        "outputId": "4027f639-12cf-453b-9043-fd533339b724"
      },
      "execution_count": 5,
      "outputs": [
        {
          "output_type": "execute_result",
          "data": {
            "text/plain": [
              "       Life_expectancy  Adult_Mortality  infant_deaths     Alcohol  \\\n",
              "count       998.000000       998.000000    1000.000000  935.000000   \n",
              "mean         69.187976       162.061122      31.518000    4.646706   \n",
              "std           9.697537       121.590402     130.364453    4.019612   \n",
              "min          36.300000         1.000000       0.000000    0.010000   \n",
              "25%          62.925000        72.000000       0.000000    0.985000   \n",
              "50%          72.250000       138.000000       3.000000    3.890000   \n",
              "75%          75.975000       228.000000      21.250000    7.875000   \n",
              "max          89.000000       715.000000    1800.000000   16.990000   \n",
              "\n",
              "       percentage_expenditure  Hepatitis_B        Measles         BMI  \\\n",
              "count             1000.000000   805.000000    1000.000000  988.000000   \n",
              "mean               790.778326    81.592547    2700.690000   37.114575   \n",
              "std               2146.407292    24.738944   12188.513379   20.168075   \n",
              "min                  0.000000     2.000000       0.000000    1.400000   \n",
              "25%                  4.838161    77.000000       0.000000   18.600000   \n",
              "50%                 59.339419    93.000000      14.000000   41.300000   \n",
              "75%                429.926278    97.000000     350.500000   55.625000   \n",
              "max              18961.348600    99.000000  141258.000000   77.600000   \n",
              "\n",
              "       under-five_deaths       Polio  Total_expenditure  Diphtheria  \\\n",
              "count        1000.000000  994.000000         925.000000  994.000000   \n",
              "mean           43.612000   83.237425           5.790108   83.324950   \n",
              "std           175.756661   22.767133           2.331503   22.709205   \n",
              "min             0.000000    3.000000           0.740000    3.000000   \n",
              "25%             0.000000   78.000000           4.240000   79.000000   \n",
              "50%             4.000000   93.000000           5.700000   93.000000   \n",
              "75%            27.000000   97.000000           7.260000   97.000000   \n",
              "max          2400.000000   99.000000          17.140000   99.000000   \n",
              "\n",
              "          HIV_AIDS            GDP    Population  \\\n",
              "count  1000.000000     850.000000  7.690000e+02   \n",
              "mean      1.799900    7740.205569  1.332692e+07   \n",
              "std       5.121504   15235.959630  6.722767e+07   \n",
              "min       0.100000       4.613575  1.230000e+02   \n",
              "25%       0.100000     452.685183  2.343190e+05   \n",
              "50%       0.100000    1641.136536  1.381599e+06   \n",
              "75%       0.800000    5807.797280  6.555829e+06   \n",
              "max      50.600000  119172.741800  1.293859e+09   \n",
              "\n",
              "       Income_composition_of_resources   Schooling  \n",
              "count                       947.000000  947.000000  \n",
              "mean                          0.624231   11.950053  \n",
              "std                           0.216665    3.428032  \n",
              "min                           0.000000    0.000000  \n",
              "25%                           0.487500    9.900000  \n",
              "50%                           0.680000   12.300000  \n",
              "75%                           0.779500   14.300000  \n",
              "max                           0.948000   20.600000  "
            ],
            "text/html": [
              "\n",
              "  <div id=\"df-e33e61c1-16e4-43e3-9d5c-e33ea5aa7994\">\n",
              "    <div class=\"colab-df-container\">\n",
              "      <div>\n",
              "<style scoped>\n",
              "    .dataframe tbody tr th:only-of-type {\n",
              "        vertical-align: middle;\n",
              "    }\n",
              "\n",
              "    .dataframe tbody tr th {\n",
              "        vertical-align: top;\n",
              "    }\n",
              "\n",
              "    .dataframe thead th {\n",
              "        text-align: right;\n",
              "    }\n",
              "</style>\n",
              "<table border=\"1\" class=\"dataframe\">\n",
              "  <thead>\n",
              "    <tr style=\"text-align: right;\">\n",
              "      <th></th>\n",
              "      <th>Life_expectancy</th>\n",
              "      <th>Adult_Mortality</th>\n",
              "      <th>infant_deaths</th>\n",
              "      <th>Alcohol</th>\n",
              "      <th>percentage_expenditure</th>\n",
              "      <th>Hepatitis_B</th>\n",
              "      <th>Measles</th>\n",
              "      <th>BMI</th>\n",
              "      <th>under-five_deaths</th>\n",
              "      <th>Polio</th>\n",
              "      <th>Total_expenditure</th>\n",
              "      <th>Diphtheria</th>\n",
              "      <th>HIV_AIDS</th>\n",
              "      <th>GDP</th>\n",
              "      <th>Population</th>\n",
              "      <th>Income_composition_of_resources</th>\n",
              "      <th>Schooling</th>\n",
              "    </tr>\n",
              "  </thead>\n",
              "  <tbody>\n",
              "    <tr>\n",
              "      <th>count</th>\n",
              "      <td>998.000000</td>\n",
              "      <td>998.000000</td>\n",
              "      <td>1000.000000</td>\n",
              "      <td>935.000000</td>\n",
              "      <td>1000.000000</td>\n",
              "      <td>805.000000</td>\n",
              "      <td>1000.000000</td>\n",
              "      <td>988.000000</td>\n",
              "      <td>1000.000000</td>\n",
              "      <td>994.000000</td>\n",
              "      <td>925.000000</td>\n",
              "      <td>994.000000</td>\n",
              "      <td>1000.000000</td>\n",
              "      <td>850.000000</td>\n",
              "      <td>7.690000e+02</td>\n",
              "      <td>947.000000</td>\n",
              "      <td>947.000000</td>\n",
              "    </tr>\n",
              "    <tr>\n",
              "      <th>mean</th>\n",
              "      <td>69.187976</td>\n",
              "      <td>162.061122</td>\n",
              "      <td>31.518000</td>\n",
              "      <td>4.646706</td>\n",
              "      <td>790.778326</td>\n",
              "      <td>81.592547</td>\n",
              "      <td>2700.690000</td>\n",
              "      <td>37.114575</td>\n",
              "      <td>43.612000</td>\n",
              "      <td>83.237425</td>\n",
              "      <td>5.790108</td>\n",
              "      <td>83.324950</td>\n",
              "      <td>1.799900</td>\n",
              "      <td>7740.205569</td>\n",
              "      <td>1.332692e+07</td>\n",
              "      <td>0.624231</td>\n",
              "      <td>11.950053</td>\n",
              "    </tr>\n",
              "    <tr>\n",
              "      <th>std</th>\n",
              "      <td>9.697537</td>\n",
              "      <td>121.590402</td>\n",
              "      <td>130.364453</td>\n",
              "      <td>4.019612</td>\n",
              "      <td>2146.407292</td>\n",
              "      <td>24.738944</td>\n",
              "      <td>12188.513379</td>\n",
              "      <td>20.168075</td>\n",
              "      <td>175.756661</td>\n",
              "      <td>22.767133</td>\n",
              "      <td>2.331503</td>\n",
              "      <td>22.709205</td>\n",
              "      <td>5.121504</td>\n",
              "      <td>15235.959630</td>\n",
              "      <td>6.722767e+07</td>\n",
              "      <td>0.216665</td>\n",
              "      <td>3.428032</td>\n",
              "    </tr>\n",
              "    <tr>\n",
              "      <th>min</th>\n",
              "      <td>36.300000</td>\n",
              "      <td>1.000000</td>\n",
              "      <td>0.000000</td>\n",
              "      <td>0.010000</td>\n",
              "      <td>0.000000</td>\n",
              "      <td>2.000000</td>\n",
              "      <td>0.000000</td>\n",
              "      <td>1.400000</td>\n",
              "      <td>0.000000</td>\n",
              "      <td>3.000000</td>\n",
              "      <td>0.740000</td>\n",
              "      <td>3.000000</td>\n",
              "      <td>0.100000</td>\n",
              "      <td>4.613575</td>\n",
              "      <td>1.230000e+02</td>\n",
              "      <td>0.000000</td>\n",
              "      <td>0.000000</td>\n",
              "    </tr>\n",
              "    <tr>\n",
              "      <th>25%</th>\n",
              "      <td>62.925000</td>\n",
              "      <td>72.000000</td>\n",
              "      <td>0.000000</td>\n",
              "      <td>0.985000</td>\n",
              "      <td>4.838161</td>\n",
              "      <td>77.000000</td>\n",
              "      <td>0.000000</td>\n",
              "      <td>18.600000</td>\n",
              "      <td>0.000000</td>\n",
              "      <td>78.000000</td>\n",
              "      <td>4.240000</td>\n",
              "      <td>79.000000</td>\n",
              "      <td>0.100000</td>\n",
              "      <td>452.685183</td>\n",
              "      <td>2.343190e+05</td>\n",
              "      <td>0.487500</td>\n",
              "      <td>9.900000</td>\n",
              "    </tr>\n",
              "    <tr>\n",
              "      <th>50%</th>\n",
              "      <td>72.250000</td>\n",
              "      <td>138.000000</td>\n",
              "      <td>3.000000</td>\n",
              "      <td>3.890000</td>\n",
              "      <td>59.339419</td>\n",
              "      <td>93.000000</td>\n",
              "      <td>14.000000</td>\n",
              "      <td>41.300000</td>\n",
              "      <td>4.000000</td>\n",
              "      <td>93.000000</td>\n",
              "      <td>5.700000</td>\n",
              "      <td>93.000000</td>\n",
              "      <td>0.100000</td>\n",
              "      <td>1641.136536</td>\n",
              "      <td>1.381599e+06</td>\n",
              "      <td>0.680000</td>\n",
              "      <td>12.300000</td>\n",
              "    </tr>\n",
              "    <tr>\n",
              "      <th>75%</th>\n",
              "      <td>75.975000</td>\n",
              "      <td>228.000000</td>\n",
              "      <td>21.250000</td>\n",
              "      <td>7.875000</td>\n",
              "      <td>429.926278</td>\n",
              "      <td>97.000000</td>\n",
              "      <td>350.500000</td>\n",
              "      <td>55.625000</td>\n",
              "      <td>27.000000</td>\n",
              "      <td>97.000000</td>\n",
              "      <td>7.260000</td>\n",
              "      <td>97.000000</td>\n",
              "      <td>0.800000</td>\n",
              "      <td>5807.797280</td>\n",
              "      <td>6.555829e+06</td>\n",
              "      <td>0.779500</td>\n",
              "      <td>14.300000</td>\n",
              "    </tr>\n",
              "    <tr>\n",
              "      <th>max</th>\n",
              "      <td>89.000000</td>\n",
              "      <td>715.000000</td>\n",
              "      <td>1800.000000</td>\n",
              "      <td>16.990000</td>\n",
              "      <td>18961.348600</td>\n",
              "      <td>99.000000</td>\n",
              "      <td>141258.000000</td>\n",
              "      <td>77.600000</td>\n",
              "      <td>2400.000000</td>\n",
              "      <td>99.000000</td>\n",
              "      <td>17.140000</td>\n",
              "      <td>99.000000</td>\n",
              "      <td>50.600000</td>\n",
              "      <td>119172.741800</td>\n",
              "      <td>1.293859e+09</td>\n",
              "      <td>0.948000</td>\n",
              "      <td>20.600000</td>\n",
              "    </tr>\n",
              "  </tbody>\n",
              "</table>\n",
              "</div>\n",
              "      <button class=\"colab-df-convert\" onclick=\"convertToInteractive('df-e33e61c1-16e4-43e3-9d5c-e33ea5aa7994')\"\n",
              "              title=\"Convert this dataframe to an interactive table.\"\n",
              "              style=\"display:none;\">\n",
              "        \n",
              "  <svg xmlns=\"http://www.w3.org/2000/svg\" height=\"24px\"viewBox=\"0 0 24 24\"\n",
              "       width=\"24px\">\n",
              "    <path d=\"M0 0h24v24H0V0z\" fill=\"none\"/>\n",
              "    <path d=\"M18.56 5.44l.94 2.06.94-2.06 2.06-.94-2.06-.94-.94-2.06-.94 2.06-2.06.94zm-11 1L8.5 8.5l.94-2.06 2.06-.94-2.06-.94L8.5 2.5l-.94 2.06-2.06.94zm10 10l.94 2.06.94-2.06 2.06-.94-2.06-.94-.94-2.06-.94 2.06-2.06.94z\"/><path d=\"M17.41 7.96l-1.37-1.37c-.4-.4-.92-.59-1.43-.59-.52 0-1.04.2-1.43.59L10.3 9.45l-7.72 7.72c-.78.78-.78 2.05 0 2.83L4 21.41c.39.39.9.59 1.41.59.51 0 1.02-.2 1.41-.59l7.78-7.78 2.81-2.81c.8-.78.8-2.07 0-2.86zM5.41 20L4 18.59l7.72-7.72 1.47 1.35L5.41 20z\"/>\n",
              "  </svg>\n",
              "      </button>\n",
              "      \n",
              "  <style>\n",
              "    .colab-df-container {\n",
              "      display:flex;\n",
              "      flex-wrap:wrap;\n",
              "      gap: 12px;\n",
              "    }\n",
              "\n",
              "    .colab-df-convert {\n",
              "      background-color: #E8F0FE;\n",
              "      border: none;\n",
              "      border-radius: 50%;\n",
              "      cursor: pointer;\n",
              "      display: none;\n",
              "      fill: #1967D2;\n",
              "      height: 32px;\n",
              "      padding: 0 0 0 0;\n",
              "      width: 32px;\n",
              "    }\n",
              "\n",
              "    .colab-df-convert:hover {\n",
              "      background-color: #E2EBFA;\n",
              "      box-shadow: 0px 1px 2px rgba(60, 64, 67, 0.3), 0px 1px 3px 1px rgba(60, 64, 67, 0.15);\n",
              "      fill: #174EA6;\n",
              "    }\n",
              "\n",
              "    [theme=dark] .colab-df-convert {\n",
              "      background-color: #3B4455;\n",
              "      fill: #D2E3FC;\n",
              "    }\n",
              "\n",
              "    [theme=dark] .colab-df-convert:hover {\n",
              "      background-color: #434B5C;\n",
              "      box-shadow: 0px 1px 3px 1px rgba(0, 0, 0, 0.15);\n",
              "      filter: drop-shadow(0px 1px 2px rgba(0, 0, 0, 0.3));\n",
              "      fill: #FFFFFF;\n",
              "    }\n",
              "  </style>\n",
              "\n",
              "      <script>\n",
              "        const buttonEl =\n",
              "          document.querySelector('#df-e33e61c1-16e4-43e3-9d5c-e33ea5aa7994 button.colab-df-convert');\n",
              "        buttonEl.style.display =\n",
              "          google.colab.kernel.accessAllowed ? 'block' : 'none';\n",
              "\n",
              "        async function convertToInteractive(key) {\n",
              "          const element = document.querySelector('#df-e33e61c1-16e4-43e3-9d5c-e33ea5aa7994');\n",
              "          const dataTable =\n",
              "            await google.colab.kernel.invokeFunction('convertToInteractive',\n",
              "                                                     [key], {});\n",
              "          if (!dataTable) return;\n",
              "\n",
              "          const docLinkHtml = 'Like what you see? Visit the ' +\n",
              "            '<a target=\"_blank\" href=https://colab.research.google.com/notebooks/data_table.ipynb>data table notebook</a>'\n",
              "            + ' to learn more about interactive tables.';\n",
              "          element.innerHTML = '';\n",
              "          dataTable['output_type'] = 'display_data';\n",
              "          await google.colab.output.renderOutput(dataTable, element);\n",
              "          const docLink = document.createElement('div');\n",
              "          docLink.innerHTML = docLinkHtml;\n",
              "          element.appendChild(docLink);\n",
              "        }\n",
              "      </script>\n",
              "    </div>\n",
              "  </div>\n",
              "  "
            ]
          },
          "metadata": {},
          "execution_count": 5
        }
      ]
    },
    {
      "cell_type": "code",
      "source": [
        "# Checking any missing values in the column Life Expectancy\n",
        "\n",
        "df['Life_expectancy'].isnull().sum()"
      ],
      "metadata": {
        "colab": {
          "base_uri": "https://localhost:8080/"
        },
        "id": "k1ES3NGqZXiG",
        "outputId": "2980c119-5e11-415f-a27b-3934207fedb7"
      },
      "execution_count": 6,
      "outputs": [
        {
          "output_type": "execute_result",
          "data": {
            "text/plain": [
              "2"
            ]
          },
          "metadata": {},
          "execution_count": 6
        }
      ]
    },
    {
      "cell_type": "markdown",
      "source": [
        "There are two missing values in the life expectancy column. Dropping these null values."
      ],
      "metadata": {
        "id": "XPdJ8sO_Zien"
      }
    },
    {
      "cell_type": "code",
      "source": [
        "pd.DataFrame.dropna?"
      ],
      "metadata": {
        "id": "bkYcMUNwdW4B"
      },
      "execution_count": 7,
      "outputs": []
    },
    {
      "cell_type": "code",
      "source": [
        "data = df"
      ],
      "metadata": {
        "id": "WVyYfoIhZhSn"
      },
      "execution_count": 8,
      "outputs": []
    },
    {
      "cell_type": "code",
      "source": [
        "data = data.dropna(subset=['Life_expectancy'])"
      ],
      "metadata": {
        "id": "nAux2ztaZvYR"
      },
      "execution_count": 9,
      "outputs": []
    },
    {
      "cell_type": "code",
      "source": [
        "data.shape"
      ],
      "metadata": {
        "colab": {
          "base_uri": "https://localhost:8080/"
        },
        "id": "zK5arILUZwsk",
        "outputId": "840af0fa-3bd5-41f0-cafc-25b61c108517"
      },
      "execution_count": 10,
      "outputs": [
        {
          "output_type": "execute_result",
          "data": {
            "text/plain": [
              "(998, 19)"
            ]
          },
          "metadata": {},
          "execution_count": 10
        }
      ]
    },
    {
      "cell_type": "code",
      "source": [
        "data.head()"
      ],
      "metadata": {
        "colab": {
          "base_uri": "https://localhost:8080/",
          "height": 322
        },
        "id": "NBC8p2nqd8QS",
        "outputId": "69a18653-9d91-4f89-c201-254b0a468be3"
      },
      "execution_count": 11,
      "outputs": [
        {
          "output_type": "execute_result",
          "data": {
            "text/plain": [
              "                    Country      Status  Life_expectancy  Adult_Mortality  \\\n",
              "0                   Ecuador  Developing             75.1            137.0   \n",
              "1                  Suriname  Developing             70.0            196.0   \n",
              "2                      Togo  Developing             59.7            285.0   \n",
              "3  United States of America   Developed             79.1             14.0   \n",
              "4               Philippines  Developing             67.2            217.0   \n",
              "\n",
              "   infant_deaths  Alcohol  percentage_expenditure  Hepatitis_B  Measles   BMI  \\\n",
              "0              7     3.87              282.144007         91.0        0   5.0   \n",
              "1              0     5.13              885.073977         87.0        0  54.1   \n",
              "2             13     0.01                4.877350         87.0      577  23.7   \n",
              "3             23     8.82                0.000000         92.0      667  69.1   \n",
              "4             67     4.44                0.901149         52.0    10511  19.2   \n",
              "\n",
              "   under-five_deaths  Polio  Total_expenditure  Diphtheria  HIV_AIDS  \\\n",
              "0                  8   91.0               5.58        94.0       0.1   \n",
              "1                  0   85.0               6.14        87.0       0.6   \n",
              "2                 20   85.0               5.25        87.0       1.0   \n",
              "3                 27   93.0              17.14        95.0       0.1   \n",
              "4                 87   85.0               3.25        84.0       0.1   \n",
              "\n",
              "           GDP  Population  Income_composition_of_resources  Schooling  \n",
              "0  4255.565710  14691275.0                            0.702       13.1  \n",
              "1  7443.851780     52619.0                            0.696       12.1  \n",
              "2    62.131849   7228915.0                            0.475       12.0  \n",
              "3          NaN         NaN                              NaN        NaN  \n",
              "4    11.553196   8331954.0                            0.631       11.6  "
            ],
            "text/html": [
              "\n",
              "  <div id=\"df-62eabd1a-eda7-4ea7-bce2-6cdfef8d14c3\">\n",
              "    <div class=\"colab-df-container\">\n",
              "      <div>\n",
              "<style scoped>\n",
              "    .dataframe tbody tr th:only-of-type {\n",
              "        vertical-align: middle;\n",
              "    }\n",
              "\n",
              "    .dataframe tbody tr th {\n",
              "        vertical-align: top;\n",
              "    }\n",
              "\n",
              "    .dataframe thead th {\n",
              "        text-align: right;\n",
              "    }\n",
              "</style>\n",
              "<table border=\"1\" class=\"dataframe\">\n",
              "  <thead>\n",
              "    <tr style=\"text-align: right;\">\n",
              "      <th></th>\n",
              "      <th>Country</th>\n",
              "      <th>Status</th>\n",
              "      <th>Life_expectancy</th>\n",
              "      <th>Adult_Mortality</th>\n",
              "      <th>infant_deaths</th>\n",
              "      <th>Alcohol</th>\n",
              "      <th>percentage_expenditure</th>\n",
              "      <th>Hepatitis_B</th>\n",
              "      <th>Measles</th>\n",
              "      <th>BMI</th>\n",
              "      <th>under-five_deaths</th>\n",
              "      <th>Polio</th>\n",
              "      <th>Total_expenditure</th>\n",
              "      <th>Diphtheria</th>\n",
              "      <th>HIV_AIDS</th>\n",
              "      <th>GDP</th>\n",
              "      <th>Population</th>\n",
              "      <th>Income_composition_of_resources</th>\n",
              "      <th>Schooling</th>\n",
              "    </tr>\n",
              "  </thead>\n",
              "  <tbody>\n",
              "    <tr>\n",
              "      <th>0</th>\n",
              "      <td>Ecuador</td>\n",
              "      <td>Developing</td>\n",
              "      <td>75.1</td>\n",
              "      <td>137.0</td>\n",
              "      <td>7</td>\n",
              "      <td>3.87</td>\n",
              "      <td>282.144007</td>\n",
              "      <td>91.0</td>\n",
              "      <td>0</td>\n",
              "      <td>5.0</td>\n",
              "      <td>8</td>\n",
              "      <td>91.0</td>\n",
              "      <td>5.58</td>\n",
              "      <td>94.0</td>\n",
              "      <td>0.1</td>\n",
              "      <td>4255.565710</td>\n",
              "      <td>14691275.0</td>\n",
              "      <td>0.702</td>\n",
              "      <td>13.1</td>\n",
              "    </tr>\n",
              "    <tr>\n",
              "      <th>1</th>\n",
              "      <td>Suriname</td>\n",
              "      <td>Developing</td>\n",
              "      <td>70.0</td>\n",
              "      <td>196.0</td>\n",
              "      <td>0</td>\n",
              "      <td>5.13</td>\n",
              "      <td>885.073977</td>\n",
              "      <td>87.0</td>\n",
              "      <td>0</td>\n",
              "      <td>54.1</td>\n",
              "      <td>0</td>\n",
              "      <td>85.0</td>\n",
              "      <td>6.14</td>\n",
              "      <td>87.0</td>\n",
              "      <td>0.6</td>\n",
              "      <td>7443.851780</td>\n",
              "      <td>52619.0</td>\n",
              "      <td>0.696</td>\n",
              "      <td>12.1</td>\n",
              "    </tr>\n",
              "    <tr>\n",
              "      <th>2</th>\n",
              "      <td>Togo</td>\n",
              "      <td>Developing</td>\n",
              "      <td>59.7</td>\n",
              "      <td>285.0</td>\n",
              "      <td>13</td>\n",
              "      <td>0.01</td>\n",
              "      <td>4.877350</td>\n",
              "      <td>87.0</td>\n",
              "      <td>577</td>\n",
              "      <td>23.7</td>\n",
              "      <td>20</td>\n",
              "      <td>85.0</td>\n",
              "      <td>5.25</td>\n",
              "      <td>87.0</td>\n",
              "      <td>1.0</td>\n",
              "      <td>62.131849</td>\n",
              "      <td>7228915.0</td>\n",
              "      <td>0.475</td>\n",
              "      <td>12.0</td>\n",
              "    </tr>\n",
              "    <tr>\n",
              "      <th>3</th>\n",
              "      <td>United States of America</td>\n",
              "      <td>Developed</td>\n",
              "      <td>79.1</td>\n",
              "      <td>14.0</td>\n",
              "      <td>23</td>\n",
              "      <td>8.82</td>\n",
              "      <td>0.000000</td>\n",
              "      <td>92.0</td>\n",
              "      <td>667</td>\n",
              "      <td>69.1</td>\n",
              "      <td>27</td>\n",
              "      <td>93.0</td>\n",
              "      <td>17.14</td>\n",
              "      <td>95.0</td>\n",
              "      <td>0.1</td>\n",
              "      <td>NaN</td>\n",
              "      <td>NaN</td>\n",
              "      <td>NaN</td>\n",
              "      <td>NaN</td>\n",
              "    </tr>\n",
              "    <tr>\n",
              "      <th>4</th>\n",
              "      <td>Philippines</td>\n",
              "      <td>Developing</td>\n",
              "      <td>67.2</td>\n",
              "      <td>217.0</td>\n",
              "      <td>67</td>\n",
              "      <td>4.44</td>\n",
              "      <td>0.901149</td>\n",
              "      <td>52.0</td>\n",
              "      <td>10511</td>\n",
              "      <td>19.2</td>\n",
              "      <td>87</td>\n",
              "      <td>85.0</td>\n",
              "      <td>3.25</td>\n",
              "      <td>84.0</td>\n",
              "      <td>0.1</td>\n",
              "      <td>11.553196</td>\n",
              "      <td>8331954.0</td>\n",
              "      <td>0.631</td>\n",
              "      <td>11.6</td>\n",
              "    </tr>\n",
              "  </tbody>\n",
              "</table>\n",
              "</div>\n",
              "      <button class=\"colab-df-convert\" onclick=\"convertToInteractive('df-62eabd1a-eda7-4ea7-bce2-6cdfef8d14c3')\"\n",
              "              title=\"Convert this dataframe to an interactive table.\"\n",
              "              style=\"display:none;\">\n",
              "        \n",
              "  <svg xmlns=\"http://www.w3.org/2000/svg\" height=\"24px\"viewBox=\"0 0 24 24\"\n",
              "       width=\"24px\">\n",
              "    <path d=\"M0 0h24v24H0V0z\" fill=\"none\"/>\n",
              "    <path d=\"M18.56 5.44l.94 2.06.94-2.06 2.06-.94-2.06-.94-.94-2.06-.94 2.06-2.06.94zm-11 1L8.5 8.5l.94-2.06 2.06-.94-2.06-.94L8.5 2.5l-.94 2.06-2.06.94zm10 10l.94 2.06.94-2.06 2.06-.94-2.06-.94-.94-2.06-.94 2.06-2.06.94z\"/><path d=\"M17.41 7.96l-1.37-1.37c-.4-.4-.92-.59-1.43-.59-.52 0-1.04.2-1.43.59L10.3 9.45l-7.72 7.72c-.78.78-.78 2.05 0 2.83L4 21.41c.39.39.9.59 1.41.59.51 0 1.02-.2 1.41-.59l7.78-7.78 2.81-2.81c.8-.78.8-2.07 0-2.86zM5.41 20L4 18.59l7.72-7.72 1.47 1.35L5.41 20z\"/>\n",
              "  </svg>\n",
              "      </button>\n",
              "      \n",
              "  <style>\n",
              "    .colab-df-container {\n",
              "      display:flex;\n",
              "      flex-wrap:wrap;\n",
              "      gap: 12px;\n",
              "    }\n",
              "\n",
              "    .colab-df-convert {\n",
              "      background-color: #E8F0FE;\n",
              "      border: none;\n",
              "      border-radius: 50%;\n",
              "      cursor: pointer;\n",
              "      display: none;\n",
              "      fill: #1967D2;\n",
              "      height: 32px;\n",
              "      padding: 0 0 0 0;\n",
              "      width: 32px;\n",
              "    }\n",
              "\n",
              "    .colab-df-convert:hover {\n",
              "      background-color: #E2EBFA;\n",
              "      box-shadow: 0px 1px 2px rgba(60, 64, 67, 0.3), 0px 1px 3px 1px rgba(60, 64, 67, 0.15);\n",
              "      fill: #174EA6;\n",
              "    }\n",
              "\n",
              "    [theme=dark] .colab-df-convert {\n",
              "      background-color: #3B4455;\n",
              "      fill: #D2E3FC;\n",
              "    }\n",
              "\n",
              "    [theme=dark] .colab-df-convert:hover {\n",
              "      background-color: #434B5C;\n",
              "      box-shadow: 0px 1px 3px 1px rgba(0, 0, 0, 0.15);\n",
              "      filter: drop-shadow(0px 1px 2px rgba(0, 0, 0, 0.3));\n",
              "      fill: #FFFFFF;\n",
              "    }\n",
              "  </style>\n",
              "\n",
              "      <script>\n",
              "        const buttonEl =\n",
              "          document.querySelector('#df-62eabd1a-eda7-4ea7-bce2-6cdfef8d14c3 button.colab-df-convert');\n",
              "        buttonEl.style.display =\n",
              "          google.colab.kernel.accessAllowed ? 'block' : 'none';\n",
              "\n",
              "        async function convertToInteractive(key) {\n",
              "          const element = document.querySelector('#df-62eabd1a-eda7-4ea7-bce2-6cdfef8d14c3');\n",
              "          const dataTable =\n",
              "            await google.colab.kernel.invokeFunction('convertToInteractive',\n",
              "                                                     [key], {});\n",
              "          if (!dataTable) return;\n",
              "\n",
              "          const docLinkHtml = 'Like what you see? Visit the ' +\n",
              "            '<a target=\"_blank\" href=https://colab.research.google.com/notebooks/data_table.ipynb>data table notebook</a>'\n",
              "            + ' to learn more about interactive tables.';\n",
              "          element.innerHTML = '';\n",
              "          dataTable['output_type'] = 'display_data';\n",
              "          await google.colab.output.renderOutput(dataTable, element);\n",
              "          const docLink = document.createElement('div');\n",
              "          docLink.innerHTML = docLinkHtml;\n",
              "          element.appendChild(docLink);\n",
              "        }\n",
              "      </script>\n",
              "    </div>\n",
              "  </div>\n",
              "  "
            ]
          },
          "metadata": {},
          "execution_count": 11
        }
      ]
    },
    {
      "cell_type": "markdown",
      "source": [
        "There are 2 categorical features in the dataset, namely Country and Status."
      ],
      "metadata": {
        "id": "uKKMjvnXeI7W"
      }
    },
    {
      "cell_type": "code",
      "source": [
        "data['BMI'].mean()"
      ],
      "metadata": {
        "colab": {
          "base_uri": "https://localhost:8080/"
        },
        "id": "MgXbLKaTeRAy",
        "outputId": "b2a65467-d9d6-419c-ee71-6f028f03427b"
      },
      "execution_count": 12,
      "outputs": [
        {
          "output_type": "execute_result",
          "data": {
            "text/plain": [
              "37.125354969574026"
            ]
          },
          "metadata": {},
          "execution_count": 12
        }
      ]
    },
    {
      "cell_type": "markdown",
      "source": [
        "Missing values in Hepatitis B and Population?"
      ],
      "metadata": {
        "id": "hVQqVFQtetoY"
      }
    },
    {
      "cell_type": "code",
      "source": [
        "data.isnull().sum()"
      ],
      "metadata": {
        "colab": {
          "base_uri": "https://localhost:8080/"
        },
        "id": "3JuEJg50eYwu",
        "outputId": "a9b1ac08-ac31-4b2d-a8fb-7e5b9d397549"
      },
      "execution_count": 13,
      "outputs": [
        {
          "output_type": "execute_result",
          "data": {
            "text/plain": [
              "Country                              0\n",
              "Status                               0\n",
              "Life_expectancy                      0\n",
              "Adult_Mortality                      0\n",
              "infant_deaths                        0\n",
              "Alcohol                             65\n",
              "percentage_expenditure               0\n",
              "Hepatitis_B                        195\n",
              "Measles                              0\n",
              "BMI                                 12\n",
              "under-five_deaths                    0\n",
              "Polio                                6\n",
              "Total_expenditure                   75\n",
              "Diphtheria                           6\n",
              "HIV_AIDS                             0\n",
              "GDP                                149\n",
              "Population                         229\n",
              "Income_composition_of_resources     53\n",
              "Schooling                           53\n",
              "dtype: int64"
            ]
          },
          "metadata": {},
          "execution_count": 13
        }
      ]
    },
    {
      "cell_type": "markdown",
      "source": [
        "Unique Countries ?"
      ],
      "metadata": {
        "id": "jp4rid-pe9Me"
      }
    },
    {
      "cell_type": "code",
      "source": [
        "len(data['Country'].unique())"
      ],
      "metadata": {
        "colab": {
          "base_uri": "https://localhost:8080/"
        },
        "id": "_tc4EQfee6V0",
        "outputId": "d90129e4-c3db-40a7-def9-f19746e15809"
      },
      "execution_count": 14,
      "outputs": [
        {
          "output_type": "execute_result",
          "data": {
            "text/plain": [
              "183"
            ]
          },
          "metadata": {},
          "execution_count": 14
        }
      ]
    },
    {
      "cell_type": "markdown",
      "source": [
        "y = Life_expectancy\n",
        "\n",
        "X = other columns"
      ],
      "metadata": {
        "id": "qM65hGoRfl3x"
      }
    },
    {
      "cell_type": "code",
      "source": [
        "y = data.pop('Life_expectancy')\n",
        "X= data"
      ],
      "metadata": {
        "id": "0N1W2cUwfiym"
      },
      "execution_count": 15,
      "outputs": []
    },
    {
      "cell_type": "code",
      "source": [
        "X.shape"
      ],
      "metadata": {
        "colab": {
          "base_uri": "https://localhost:8080/"
        },
        "id": "S-3T13s-hMsk",
        "outputId": "df62da0f-929d-42e0-b912-ea7dd29792df"
      },
      "execution_count": 16,
      "outputs": [
        {
          "output_type": "execute_result",
          "data": {
            "text/plain": [
              "(998, 18)"
            ]
          },
          "metadata": {},
          "execution_count": 16
        }
      ]
    },
    {
      "cell_type": "markdown",
      "source": [
        "Average life expectancy?"
      ],
      "metadata": {
        "id": "SmYByz5BhV77"
      }
    },
    {
      "cell_type": "code",
      "source": [
        "y.mean()"
      ],
      "metadata": {
        "colab": {
          "base_uri": "https://localhost:8080/"
        },
        "id": "eKRKCFVEhOQz",
        "outputId": "0574aa30-75de-4567-8411-638f7fd22ac1"
      },
      "execution_count": 17,
      "outputs": [
        {
          "output_type": "execute_result",
          "data": {
            "text/plain": [
              "69.18797595190381"
            ]
          },
          "metadata": {},
          "execution_count": 17
        }
      ]
    },
    {
      "cell_type": "code",
      "source": [
        "X_train, X_test, y_train, y_test = train_test_split(X,y,test_size=0.2,random_state=32)"
      ],
      "metadata": {
        "id": "2-xreOO3hYSu"
      },
      "execution_count": 62,
      "outputs": []
    },
    {
      "cell_type": "code",
      "source": [
        "a = X_train['GDP'].mean()\n",
        "b= X_test['GDP'].mean()\n",
        "print(f'Average GDP in Train set: {a:.2f}')\n",
        "print(f'Average GDP in Test set: {b:.2f}')"
      ],
      "metadata": {
        "colab": {
          "base_uri": "https://localhost:8080/"
        },
        "id": "6epooYOli4Sw",
        "outputId": "9db8c968-5b7a-47ee-c3fe-77a863bdbb02"
      },
      "execution_count": 19,
      "outputs": [
        {
          "output_type": "stream",
          "name": "stdout",
          "text": [
            "Average GDP in Train set: 7677.77\n",
            "Average GDP in Test set: 8057.68\n"
          ]
        }
      ]
    },
    {
      "cell_type": "code",
      "source": [
        "#Histogram for the following cols = ['percentage_expenditure','Measles','under-five_deaths','HIV_AIDS','Schooling']\n",
        "a = data.hist(bins=50,figsize=(15,15))\n",
        "plt.show()"
      ],
      "metadata": {
        "colab": {
          "base_uri": "https://localhost:8080/",
          "height": 892
        },
        "id": "T255iniliSyR",
        "outputId": "5a195778-ef7d-4caa-ff29-dc403a3720cc"
      },
      "execution_count": 20,
      "outputs": [
        {
          "output_type": "display_data",
          "data": {
            "text/plain": [
              "<Figure size 1080x1080 with 16 Axes>"
            ],
            "image/png": "[encoded data removed]"
          },
          "metadata": {
            "needs_background": "light"
          }
        }
      ]
    },
    {
      "cell_type": "markdown",
      "source": [
        "Schooling and Total Expenditure has close to normal distribution"
      ],
      "metadata": {
        "id": "Ih0_O3sDlu4O"
      }
    },
    {
      "cell_type": "code",
      "source": [
        "# Violin plot for the feature Diptheria \n",
        "sns.violinplot(X_train['Diphtheria'])\n",
        "plt.show()"
      ],
      "metadata": {
        "colab": {
          "base_uri": "https://localhost:8080/",
          "height": 334
        },
        "id": "dvQEuuHIlr3o",
        "outputId": "6f9bdcb9-2fb7-4701-b414-a32bc2bdd4b1"
      },
      "execution_count": 21,
      "outputs": [
        {
          "output_type": "stream",
          "name": "stderr",
          "text": [
            "/usr/local/lib/python3.7/dist-packages/seaborn/_decorators.py:43: FutureWarning: Pass the following variable as a keyword arg: x. From version 0.12, the only valid positional argument will be `data`, and passing other arguments without an explicit keyword will result in an error or misinterpretation.\n",
            "  FutureWarning\n"
          ]
        },
        {
          "output_type": "display_data",
          "data": {
            "text/plain": [
              "<Figure size 432x288 with 1 Axes>"
            ],
            "image/png": "[encoded data removed]"
          },
          "metadata": {
            "needs_background": "light"
          }
        }
      ]
    },
    {
      "cell_type": "markdown",
      "source": [
        "Box plot to find features with no outliers"
      ],
      "metadata": {
        "id": "MtDcZ1TDqUy-"
      }
    },
    {
      "cell_type": "code",
      "source": [
        "sns.boxplot(X_train['Alcohol'])\n",
        "plt.show()"
      ],
      "metadata": {
        "colab": {
          "base_uri": "https://localhost:8080/",
          "height": 334
        },
        "id": "HHPVo97XoEsc",
        "outputId": "43dbb392-cfde-4f6b-a582-a35d7f5d23d3"
      },
      "execution_count": 22,
      "outputs": [
        {
          "output_type": "stream",
          "name": "stderr",
          "text": [
            "/usr/local/lib/python3.7/dist-packages/seaborn/_decorators.py:43: FutureWarning: Pass the following variable as a keyword arg: x. From version 0.12, the only valid positional argument will be `data`, and passing other arguments without an explicit keyword will result in an error or misinterpretation.\n",
            "  FutureWarning\n"
          ]
        },
        {
          "output_type": "display_data",
          "data": {
            "text/plain": [
              "<Figure size 432x288 with 1 Axes>"
            ],
            "image/png": "[encoded data removed]"
          },
          "metadata": {
            "needs_background": "light"
          }
        }
      ]
    },
    {
      "cell_type": "markdown",
      "source": [
        "No outliers detected in the feature 'Alcohol'"
      ],
      "metadata": {
        "id": "eLce1ccRqZ0_"
      }
    },
    {
      "cell_type": "code",
      "source": [
        "sns.boxplot(X_train['under-five_deaths'])\n",
        "plt.show()"
      ],
      "metadata": {
        "colab": {
          "base_uri": "https://localhost:8080/",
          "height": 335
        },
        "id": "6JgVCLydoZ2n",
        "outputId": "cc0b4728-6b74-4f0b-f814-5a75795a5826"
      },
      "execution_count": 23,
      "outputs": [
        {
          "output_type": "stream",
          "name": "stderr",
          "text": [
            "/usr/local/lib/python3.7/dist-packages/seaborn/_decorators.py:43: FutureWarning: Pass the following variable as a keyword arg: x. From version 0.12, the only valid positional argument will be `data`, and passing other arguments without an explicit keyword will result in an error or misinterpretation.\n",
            "  FutureWarning\n"
          ]
        },
        {
          "output_type": "display_data",
          "data": {
            "text/plain": [
              "<Figure size 432x288 with 1 Axes>"
            ],
            "image/png": "[encoded data removed]"
          },
          "metadata": {
            "needs_background": "light"
          }
        }
      ]
    },
    {
      "cell_type": "code",
      "source": [
        "sns.boxplot(X_train['Measles'])\n",
        "plt.show()"
      ],
      "metadata": {
        "colab": {
          "base_uri": "https://localhost:8080/",
          "height": 334
        },
        "id": "mikk-6sspQ5P",
        "outputId": "a8a6781e-8033-4c81-d74a-525be6982877"
      },
      "execution_count": 24,
      "outputs": [
        {
          "output_type": "stream",
          "name": "stderr",
          "text": [
            "/usr/local/lib/python3.7/dist-packages/seaborn/_decorators.py:43: FutureWarning: Pass the following variable as a keyword arg: x. From version 0.12, the only valid positional argument will be `data`, and passing other arguments without an explicit keyword will result in an error or misinterpretation.\n",
            "  FutureWarning\n"
          ]
        },
        {
          "output_type": "display_data",
          "data": {
            "text/plain": [
              "<Figure size 432x288 with 1 Axes>"
            ],
            "image/png": "[encoded data removed]"
          },
          "metadata": {
            "needs_background": "light"
          }
        }
      ]
    },
    {
      "cell_type": "code",
      "source": [
        "sns.boxplot(X_train['GDP'])\n",
        "plt.show()"
      ],
      "metadata": {
        "colab": {
          "base_uri": "https://localhost:8080/",
          "height": 334
        },
        "id": "txumklqLpdRL",
        "outputId": "31a1924b-acd4-441a-deaa-717102c6d9d6"
      },
      "execution_count": 25,
      "outputs": [
        {
          "output_type": "stream",
          "name": "stderr",
          "text": [
            "/usr/local/lib/python3.7/dist-packages/seaborn/_decorators.py:43: FutureWarning: Pass the following variable as a keyword arg: x. From version 0.12, the only valid positional argument will be `data`, and passing other arguments without an explicit keyword will result in an error or misinterpretation.\n",
            "  FutureWarning\n"
          ]
        },
        {
          "output_type": "display_data",
          "data": {
            "text/plain": [
              "<Figure size 432x288 with 1 Axes>"
            ],
            "image/png": "[encoded data removed]"
          },
          "metadata": {
            "needs_background": "light"
          }
        }
      ]
    },
    {
      "cell_type": "markdown",
      "source": [
        "Converting the features to polynomial features"
      ],
      "metadata": {
        "id": "FI9xc2TEqfyB"
      }
    },
    {
      "cell_type": "code",
      "source": [
        "poly = PolynomialFeatures(degree=2)"
      ],
      "metadata": {
        "id": "3rHd2_jLq2H9"
      },
      "execution_count": 63,
      "outputs": []
    },
    {
      "cell_type": "code",
      "source": [
        "polydata = poly.fit_transform(X_train.iloc[:,2:4])\n",
        "#OR X_train[X_train.columns[2:4]]"
      ],
      "metadata": {
        "id": "Svl8p-CN_PqG"
      },
      "execution_count": 64,
      "outputs": []
    },
    {
      "cell_type": "code",
      "source": [
        "polydata.shape"
      ],
      "metadata": {
        "colab": {
          "base_uri": "https://localhost:8080/"
        },
        "id": "tTnC9gcV_wQx",
        "outputId": "cbdfd227-652c-4663-c135-ba237f3db26f"
      },
      "execution_count": 65,
      "outputs": [
        {
          "output_type": "execute_result",
          "data": {
            "text/plain": [
              "(798, 6)"
            ]
          },
          "metadata": {},
          "execution_count": 65
        }
      ]
    },
    {
      "cell_type": "markdown",
      "source": [
        "Pipeline for preprocessing of numerical and categorical transformer"
      ],
      "metadata": {
        "id": "kY-hgJBCB_Ju"
      }
    },
    {
      "cell_type": "code",
      "source": [
        "numeric_features = ['Adult_Mortality', 'infant_deaths', 'Alcohol',\n",
        "       'percentage_expenditure', 'Hepatitis_B', 'Measles', 'BMI',\n",
        "       'under-five_deaths', 'Polio', 'Total_expenditure', 'Diphtheria',\n",
        "       'HIV_AIDS', 'GDP', 'Population', 'Income_composition_of_resources',\n",
        "       'Schooling']\n",
        "categ_features = ['Country', 'Status']"
      ],
      "metadata": {
        "id": "WuTpjtLFLKKQ"
      },
      "execution_count": 68,
      "outputs": []
    },
    {
      "cell_type": "code",
      "source": [
        "numeric_transformer = Pipeline([('imputer',SimpleImputer(strategy='mean')),\n",
        "                                ('scaler',StandardScaler())])\n",
        "categorical_transfromer = Pipeline([('encode',OneHotEncoder(handle_unknown='ignore'))])"
      ],
      "metadata": {
        "id": "9pveoKODCGcY"
      },
      "execution_count": 66,
      "outputs": []
    },
    {
      "cell_type": "code",
      "source": [
        "from sklearn.compose import ColumnTransformer\n",
        "\n",
        "preprocessor = ColumnTransformer( transformers = [('num',numeric_transformer,numeric_features),\n",
        "                                                  ('cat',categorical_transfromer,categ_features)])"
      ],
      "metadata": {
        "id": "g3rKQD8YKfe6"
      },
      "execution_count": 75,
      "outputs": []
    },
    {
      "cell_type": "code",
      "source": [
        "preprocessor.fit(X_train)\n",
        "X_train=preprocessor.transform(X_train)\n",
        "X_test=preprocessor.transform(X_test)"
      ],
      "metadata": {
        "id": "3auBqngJL_W8"
      },
      "execution_count": 80,
      "outputs": []
    },
    {
      "cell_type": "code",
      "source": [
        "len(numeric_transformer)"
      ],
      "metadata": {
        "colab": {
          "base_uri": "https://localhost:8080/"
        },
        "id": "vkk-N6_6JRo-",
        "outputId": "0279a844-2efb-4faa-974e-433b0a73d0e5"
      },
      "execution_count": 81,
      "outputs": [
        {
          "output_type": "execute_result",
          "data": {
            "text/plain": [
              "2"
            ]
          },
          "metadata": {},
          "execution_count": 81
        }
      ]
    },
    {
      "cell_type": "code",
      "source": [
        "X_train.shape"
      ],
      "metadata": {
        "colab": {
          "base_uri": "https://localhost:8080/"
        },
        "id": "L9mB16kzJUwf",
        "outputId": "6701dce9-d65e-460d-92a6-c88acd0ff075"
      },
      "execution_count": 82,
      "outputs": [
        {
          "output_type": "execute_result",
          "data": {
            "text/plain": [
              "(798, 200)"
            ]
          },
          "metadata": {},
          "execution_count": 82
        }
      ]
    },
    {
      "cell_type": "markdown",
      "source": [
        "## RFE"
      ],
      "metadata": {
        "id": "IGL2UMgvNvhI"
      }
    },
    {
      "cell_type": "code",
      "source": [
        "from sklearn.feature_selection import RFE\n",
        "from sklearn.linear_model import LinearRegression"
      ],
      "metadata": {
        "id": "szj-bur-MKVM"
      },
      "execution_count": 84,
      "outputs": []
    },
    {
      "cell_type": "code",
      "source": [
        "regressor = LinearRegression()\n",
        "\n",
        "selector = RFE(regressor, n_features_to_select=15, step=1)\n",
        "selector.fit(X_train,y_train)\n",
        "selector.support_"
      ],
      "metadata": {
        "colab": {
          "base_uri": "https://localhost:8080/"
        },
        "id": "1uFkLTggN6vG",
        "outputId": "0cd49ada-81c9-4f0b-f352-1c5678cedde8"
      },
      "execution_count": 85,
      "outputs": [
        {
          "output_type": "execute_result",
          "data": {
            "text/plain": [
              "array([False,  True, False, False, False, False, False,  True, False,\n",
              "       False, False, False, False, False, False, False, False, False,\n",
              "       False, False, False, False, False, False, False, False, False,\n",
              "       False, False, False, False, False, False, False, False, False,\n",
              "       False, False, False, False, False, False, False, False, False,\n",
              "       False,  True,  True, False, False, False, False, False, False,\n",
              "       False, False, False, False, False,  True, False, False, False,\n",
              "       False, False, False, False, False, False, False, False, False,\n",
              "       False,  True,  True, False, False, False, False, False,  True,\n",
              "       False, False, False, False, False, False, False, False, False,\n",
              "       False, False, False, False, False, False, False, False, False,\n",
              "       False, False, False, False, False, False, False, False,  True,\n",
              "       False, False, False, False, False,  True, False, False, False,\n",
              "       False, False, False, False, False, False, False, False, False,\n",
              "       False, False, False, False, False, False, False,  True, False,\n",
              "       False, False, False, False, False, False, False, False, False,\n",
              "       False,  True, False, False, False, False, False, False, False,\n",
              "       False, False, False, False, False,  True, False, False, False,\n",
              "       False, False, False, False, False, False, False, False, False,\n",
              "       False, False, False, False, False, False, False, False, False,\n",
              "       False, False, False, False, False, False, False, False, False,\n",
              "       False, False, False, False, False, False, False, False,  True,\n",
              "        True, False])"
            ]
          },
          "metadata": {},
          "execution_count": 85
        }
      ]
    },
    {
      "cell_type": "markdown",
      "source": [
        "Score on a linear regression model"
      ],
      "metadata": {
        "id": "RZYvvdSWPYNU"
      }
    },
    {
      "cell_type": "code",
      "source": [
        "regressor.fit(X_train,y_train)\n",
        "regressor.score(X_train,y_train)"
      ],
      "metadata": {
        "colab": {
          "base_uri": "https://localhost:8080/"
        },
        "id": "1P6iw7-OPCOJ",
        "outputId": "737f9994-7b55-4322-bc6c-d9b932aa984e"
      },
      "execution_count": 89,
      "outputs": [
        {
          "output_type": "execute_result",
          "data": {
            "text/plain": [
              "0.9597845736723394"
            ]
          },
          "metadata": {},
          "execution_count": 89
        }
      ]
    },
    {
      "cell_type": "markdown",
      "source": [
        "Cross validation for 15 splits"
      ],
      "metadata": {
        "id": "G3xUl8BePa6c"
      }
    },
    {
      "cell_type": "code",
      "source": [
        "from sklearn.model_selection import cross_val_score"
      ],
      "metadata": {
        "id": "0fhU4Fy1PPF0"
      },
      "execution_count": 91,
      "outputs": []
    },
    {
      "cell_type": "code",
      "source": [
        "cv_score = cross_val_score(regressor,X_train,y_train,cv=15)\n",
        "print(f'cross_val_score:{cv_score.max():.3f}')"
      ],
      "metadata": {
        "colab": {
          "base_uri": "https://localhost:8080/"
        },
        "id": "FYuhx2MuPke2",
        "outputId": "42b03690-ab09-43d0-e713-cabc75da55a9"
      },
      "execution_count": 96,
      "outputs": [
        {
          "output_type": "stream",
          "name": "stdout",
          "text": [
            "cross_val_score:0.951\n"
          ]
        }
      ]
    },
    {
      "cell_type": "markdown",
      "source": [
        "Stochastic Gradient Descent regressor \n",
        "\n",
        "Model 1"
      ],
      "metadata": {
        "id": "V1YfkH25QgCl"
      }
    },
    {
      "cell_type": "code",
      "source": [
        "from sklearn.linear_model import SGDRegressor\n",
        "from sklearn.metrics import mean_squared_error"
      ],
      "metadata": {
        "id": "AIhM1i3sQkpE"
      },
      "execution_count": 99,
      "outputs": []
    },
    {
      "cell_type": "code",
      "source": [
        "sgd = SGDRegressor( penalty='l1',alpha=0.001,learning_rate='constant', eta0=0.001,random_state=42 )\n",
        "sgd.fit(X_train,y_train)"
      ],
      "metadata": {
        "colab": {
          "base_uri": "https://localhost:8080/"
        },
        "id": "KhbZeTDEQp5O",
        "outputId": "66b735b1-85fc-4790-dcd7-afbb4471dd56"
      },
      "execution_count": 100,
      "outputs": [
        {
          "output_type": "execute_result",
          "data": {
            "text/plain": [
              "SGDRegressor(alpha=0.001, eta0=0.001, learning_rate='constant', penalty='l1',\n",
              "             random_state=42)"
            ]
          },
          "metadata": {},
          "execution_count": 100
        }
      ]
    },
    {
      "cell_type": "code",
      "source": [
        "mse_train = mean_squared_error(y_train,sgd.predict(X_train))\n",
        "mse_test = mean_squared_error(y_test,sgd.predict(X_test))\n",
        "\n",
        "print(abs(mse_train-mse_test))"
      ],
      "metadata": {
        "colab": {
          "base_uri": "https://localhost:8080/"
        },
        "id": "zAlUKYUBSgCw",
        "outputId": "36e0bc9f-53e6-4459-d5a0-89f07b42444f"
      },
      "execution_count": 105,
      "outputs": [
        {
          "output_type": "stream",
          "name": "stdout",
          "text": [
            "3.7488434076613295\n"
          ]
        }
      ]
    },
    {
      "cell_type": "markdown",
      "source": [
        "Model 2"
      ],
      "metadata": {
        "id": "x6a7z4MHXVU9"
      }
    },
    {
      "cell_type": "code",
      "source": [
        "sgd2 = SGDRegressor( penalty='l2',alpha=0.01,learning_rate='adaptive', eta0=0.01,random_state=42,loss='huber' )\n",
        "sgd2.fit(X_train,y_train)"
      ],
      "metadata": {
        "colab": {
          "base_uri": "https://localhost:8080/"
        },
        "id": "idgIbMfWTvWa",
        "outputId": "a32d273e-beee-4a99-c804-a9ed9b9bf550"
      },
      "execution_count": 106,
      "outputs": [
        {
          "output_type": "execute_result",
          "data": {
            "text/plain": [
              "SGDRegressor(alpha=0.01, learning_rate='adaptive', loss='huber',\n",
              "             random_state=42)"
            ]
          },
          "metadata": {},
          "execution_count": 106
        }
      ]
    },
    {
      "cell_type": "code",
      "source": [
        "from sklearn.metrics import r2_score\n",
        "print(r2_score(y_test,sgd2.predict(X_test)))"
      ],
      "metadata": {
        "colab": {
          "base_uri": "https://localhost:8080/"
        },
        "id": "RksjD9FTWPXE",
        "outputId": "41ecc73f-2f76-4b49-9f96-17649f3df162"
      },
      "execution_count": 110,
      "outputs": [
        {
          "output_type": "stream",
          "name": "stdout",
          "text": [
            "-45.146378890140234\n"
          ]
        }
      ]
    }
  ]
}