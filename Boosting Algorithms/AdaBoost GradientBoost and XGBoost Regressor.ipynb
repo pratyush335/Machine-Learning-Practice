{
  "nbformat": 4,
  "nbformat_minor": 0,
  "metadata": {
    "colab": {
      "name": "AdaBoost GradientBoost and XGBoost Regressor on California Housing.ipynb",
      "provenance": [],
      "collapsed_sections": []
    },
    "kernelspec": {
      "name": "python3",
      "display_name": "Python 3"
    },
    "language_info": {
      "name": "python"
    }
  },
  "cells": [
    {
      "cell_type": "markdown",
      "source": [
        "# Importing important libraries "
      ],
      "metadata": {
        "id": "HLKZHvj-zIw6"
      }
    },
    {
      "cell_type": "code",
      "execution_count": 11,
      "metadata": {
        "id": "ujO7RCB3y3W4"
      },
      "outputs": [],
      "source": [
        "from sklearn.datasets import fetch_california_housing\n",
        "\n",
        "import pandas as pd\n",
        "import numpy as np\n",
        "import matplotlib.pyplot as plt\n",
        "\n",
        "\n",
        "from sklearn.model_selection import ShuffleSplit\n",
        "from sklearn.model_selection import cross_val_score, cross_validate\n",
        "from sklearn.model_selection import train_test_split\n",
        "from sklearn.metrics import classification_report, confusion_matrix, ConfusionMatrixDisplay\n",
        "\n",
        "from sklearn.ensemble import AdaBoostRegressor, GradientBoostingRegressor\n",
        "from xgboost import XGBRegressor\n",
        "\n",
        "from sklearn.pipeline import Pipeline"
      ]
    },
    {
      "cell_type": "code",
      "source": [
        "np.random.seed(306)"
      ],
      "metadata": {
        "id": "WyJGor6UxPOy"
      },
      "execution_count": 2,
      "outputs": []
    },
    {
      "cell_type": "markdown",
      "source": [
        "## Loading the California Housing Dataset"
      ],
      "metadata": {
        "id": "3k_3ryRKBm6C"
      }
    },
    {
      "cell_type": "code",
      "execution_count": 3,
      "metadata": {
        "id": "vBmv9jyWs4YP"
      },
      "outputs": [],
      "source": [
        "cv = ShuffleSplit(n_splits=10, test_size=0.2, random_state=42)"
      ]
    },
    {
      "cell_type": "code",
      "source": [
        "features, labels = fetch_california_housing(return_X_y=True, as_frame=True)\n",
        "labels*=100\n",
        "# Mulitplying the labels by 100 to get the value in \"thousand dollars\"\n",
        "\n",
        "X_train,X_test, y_train,y_test = train_test_split(features,labels)"
      ],
      "metadata": {
        "id": "TYwXxAxbxVfZ"
      },
      "execution_count": 4,
      "outputs": []
    },
    {
      "cell_type": "markdown",
      "source": [
        "## Training Different Regressors"
      ],
      "metadata": {
        "id": "rWFwat6GDH4Z"
      }
    },
    {
      "cell_type": "code",
      "source": [
        "def train_regressors(estimator, X_train,y_train, cv, name):\n",
        "  estimator.fit(X_train,y_train)\n",
        "  cv_results = cross_validate(estimator, X_train, y_train, cv=cv, scoring='neg_mean_absolute_error', return_train_score=True, return_estimator=True)\n",
        "\n",
        "  # Using cross_validate to get train_score in addition to the test_score\n",
        "\n",
        "  cv_train_error = -1 * cv_results['train_score']\n",
        "  cv_test_error = -1 * cv_results['test_score']\n",
        "\n",
        "  print(f'On an average the {name} makes an error of {cv_train_error.mean():.3f}k +/- {cv_train_error.std():.3f}k on the training dataset')\n",
        "  print(f'On an average the {name} makes an error of {cv_test_error.mean():.3f}k +/- {cv_test_error.std():.3f}k on the test dataset')"
      ],
      "metadata": {
        "id": "mxxlY96JzWRn"
      },
      "execution_count": 5,
      "outputs": []
    },
    {
      "cell_type": "markdown",
      "source": [
        "## AdaBoost Regressor for California Housing Dataset:"
      ],
      "metadata": {
        "id": "Z7dQu9J80Arl"
      }
    },
    {
      "cell_type": "code",
      "source": [
        "train_regressors( AdaBoostRegressor(),X_train,y_train,cv, 'AdaBoost Regressor' )"
      ],
      "metadata": {
        "id": "SFfc1yUWzkyR",
        "outputId": "c260789a-4530-4d0f-ae1f-56acef62759d",
        "colab": {
          "base_uri": "https://localhost:8080/"
        }
      },
      "execution_count": 8,
      "outputs": [
        {
          "output_type": "stream",
          "name": "stdout",
          "text": [
            "On an average the AdaBoost Regressor makes an error of 76.118k +/- 4.354k on the training dataset\n",
            "On an average the AdaBoost Regressor makes an error of 76.270k +/- 3.994k on the test dataset\n"
          ]
        }
      ]
    },
    {
      "cell_type": "markdown",
      "source": [
        "## GradientBoost Regressor for California Housing Dataset:"
      ],
      "metadata": {
        "id": "ujUFm5pm1Bjs"
      }
    },
    {
      "cell_type": "code",
      "source": [
        "train_regressors( GradientBoostingRegressor(),X_train,y_train,cv, 'GradientBoost Regressor' )"
      ],
      "metadata": {
        "id": "38iWrBLn0-iP",
        "outputId": "9f8b30ab-d77b-49ac-f55f-07005ec358e2",
        "colab": {
          "base_uri": "https://localhost:8080/"
        }
      },
      "execution_count": 12,
      "outputs": [
        {
          "output_type": "stream",
          "name": "stdout",
          "text": [
            "On an average the GradientBoost Regressor makes an error of 35.582k +/- 0.197k on the training dataset\n",
            "On an average the GradientBoost Regressor makes an error of 37.396k +/- 0.349k on the test dataset\n"
          ]
        }
      ]
    },
    {
      "cell_type": "markdown",
      "source": [
        "## XGBoost Regressor for California Housing Dataset:"
      ],
      "metadata": {
        "id": "Z9XyXo1T1PAq"
      }
    },
    {
      "cell_type": "code",
      "source": [
        "train_regressors( XGBRegressor(verbosity=0),X_train,y_train,cv, 'XGBoost Regressor' )\n",
        "\n",
        "#verbosity=0: silent, 1:warning (to stop warning message)"
      ],
      "metadata": {
        "id": "yTY7PJFv1RWL",
        "outputId": "ba1f4672-94db-448a-e06d-c714fea37784",
        "colab": {
          "base_uri": "https://localhost:8080/"
        }
      },
      "execution_count": 14,
      "outputs": [
        {
          "output_type": "stream",
          "name": "stdout",
          "text": [
            "On an average the XGBoost Regressor makes an error of 35.508k +/- 0.167k on the training dataset\n",
            "On an average the XGBoost Regressor makes an error of 37.230k +/- 0.617k on the test dataset\n"
          ]
        }
      ]
    },
    {
      "cell_type": "markdown",
      "source": [
        "XGBoost and GradientBoosting Regressors had similar results with almost 37,000 error value. "
      ],
      "metadata": {
        "id": "hAT1itkVqOg4"
      }
    }
  ]
}