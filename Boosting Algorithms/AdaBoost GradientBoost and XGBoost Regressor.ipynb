{
  "nbformat": 4,
  "nbformat_minor": 0,
  "metadata": {
    "colab": {
      "name": "AdaBoost GradientBoost and XGBoost Regressor on California Housing.ipynb",
      "provenance": [],
      "collapsed_sections": []
    },
    "kernelspec": {
      "name": "python3",
      "display_name": "Python 3"
    },
    "language_info": {
      "name": "python"
    }
  },
  "cells": [
    {
      "cell_type": "markdown",
      "source": [
        "# Importing important libraries "
      ],
      "metadata": {
        "id": "HLKZHvj-zIw6"
      }
    },
    {
      "cell_type": "code",
      "execution_count": 9,
      "metadata": {
        "id": "ujO7RCB3y3W4"
      },
      "outputs": [],
      "source": [
        "from sklearn.datasets import fetch_california_housing\n",
        "\n",
        "import pandas as pd\n",
        "import numpy as np\n",
        "import matplotlib.pyplot as plt\n",
        "\n",
        "\n",
        "from sklearn.model_selection import ShuffleSplit\n",
        "from sklearn.model_selection import cross_val_score\n",
        "from sklearn.model_selection import train_test_split\n",
        "from sklearn.metrics import classification_report, confusion_matrix, ConfusionMatrixDisplay\n",
        "\n",
        "from sklearn.ensemble import AdaBoostRegressor, GradientBoostingRegressor\n",
        "from xgboost import XGBRegressor\n",
        "\n",
        "from sklearn.pipeline import Pipeline"
      ]
    },
    {
      "cell_type": "code",
      "source": [
        "np.random.seed(306)"
      ],
      "metadata": {
        "id": "WyJGor6UxPOy"
      },
      "execution_count": 6,
      "outputs": []
    },
    {
      "cell_type": "markdown",
      "source": [
        "## Loading the California Housing Dataset"
      ],
      "metadata": {
        "id": "3k_3ryRKBm6C"
      }
    },
    {
      "cell_type": "code",
      "execution_count": 7,
      "metadata": {
        "id": "vBmv9jyWs4YP"
      },
      "outputs": [],
      "source": [
        "cv = ShuffleSplit(n_splits=10, test_size=0.2, random_state=42)"
      ]
    },
    {
      "cell_type": "code",
      "source": [
        "features, labels = fetch_california_housing(return_X_y=True, as_frame=True)\n",
        "labels*=100\n",
        "# Mulitplying the labels by 100 to get the value in \"thousand dollars\"\n",
        "\n",
        "X_train,X_test, y_train,y_test = train_test_split(features,labels)"
      ],
      "metadata": {
        "id": "TYwXxAxbxVfZ"
      },
      "execution_count": 10,
      "outputs": []
    },
    {
      "cell_type": "markdown",
      "source": [
        "## Training Different Regressors"
      ],
      "metadata": {
        "id": "rWFwat6GDH4Z"
      }
    },
    {
      "cell_type": "code",
      "source": [
        "def train_regressors(estimator, X_train,y_train, cv, name):\n",
        "  estimator.fit(X_train,y_train)\n",
        "  cv_results = cross_validate(estimator, X_train, y_train, cv=cv, scoring='neg_mean_absolute_error', return_train_score=True, return_estimator=True)\n",
        "\n",
        "  # Using cross_validate to get train_score in addition to the test_score\n",
        "\n",
        "  cv_train_error = -1 * cv_results['train_score']\n",
        "  cv_test_error = -1 * cv_results['test_score']\n",
        "\n",
        "  print(f'On an average the {name} makes an error of {cv_train_error.mean():.3f}k +/- {cv_train_error.std():.3f}k on the training dataset')\n",
        "  print(f'On an average the {name} makes an error of {cv_test_error.mean():.3f}k +/- {cv_test_error.std():.3f}k on the test dataset')"
      ],
      "metadata": {
        "id": "mxxlY96JzWRn"
      },
      "execution_count": 12,
      "outputs": []
    },
    {
      "cell_type": "markdown",
      "source": [
        "## AdaBoost Regressor for California Housing Dataset:"
      ],
      "metadata": {
        "id": "Z7dQu9J80Arl"
      }
    },
    {
      "cell_type": "code",
      "source": [
        "train_regressors( AdaBoostRegressor(),X_train,y_train,cv, 'AdaBoost Regressor' )"
      ],
      "metadata": {
        "id": "SFfc1yUWzkyR"
      },
      "execution_count": null,
      "outputs": []
    },
    {
      "cell_type": "markdown",
      "source": [
        "## GradientBoost Regressor for California Housing Dataset:"
      ],
      "metadata": {
        "id": "ujUFm5pm1Bjs"
      }
    },
    {
      "cell_type": "code",
      "source": [
        "train_regressors( GradientBoostRegressor(),X_train,y_train,cv, 'GradientBoost Regressor' )"
      ],
      "metadata": {
        "id": "38iWrBLn0-iP"
      },
      "execution_count": null,
      "outputs": []
    },
    {
      "cell_type": "markdown",
      "source": [
        "## XGBoost Regressor for California Housing Dataset:"
      ],
      "metadata": {
        "id": "Z9XyXo1T1PAq"
      }
    },
    {
      "cell_type": "code",
      "source": [
        "train_regressors( XGBRegressor(),X_train,y_train,cv, 'XGBoost Regressor' )"
      ],
      "metadata": {
        "id": "yTY7PJFv1RWL"
      },
      "execution_count": null,
      "outputs": []
    }
  ]
}