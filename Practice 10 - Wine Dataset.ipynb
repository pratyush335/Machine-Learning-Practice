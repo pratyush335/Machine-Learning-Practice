{
  "nbformat": 4,
  "nbformat_minor": 0,
  "metadata": {
    "colab": {
      "name": "Practice 10 - Wine Dataset.ipynb",
      "provenance": [],
      "authorship_tag": "ABX9TyMbHL78Vnkc/QqmzRItHz5F"
    },
    "kernelspec": {
      "name": "python3",
      "display_name": "Python 3"
    },
    "language_info": {
      "name": "python"
    }
  },
  "cells": [
    {
      "cell_type": "markdown",
      "source": [
        "# Wine Dataset with AdaBoostclassifier and Voting classifier"
      ],
      "metadata": {
        "id": "5W0YEmutMgv9"
      }
    },
    {
      "cell_type": "code",
      "execution_count": 28,
      "metadata": {
        "id": "5e7XoQbRD8sB"
      },
      "outputs": [],
      "source": [
        "import pandas as pd\n",
        "import numpy as np\n",
        "\n",
        "from sklearn.datasets import load_wine\n",
        "\n",
        "from sklearn.model_selection import train_test_split\n",
        "from sklearn.model_selection import cross_validate, cross_val_score\n",
        "from sklearn.model_selection import GridSearchCV\n",
        "\n",
        "from sklearn.ensemble import AdaBoostClassifier, VotingClassifier\n",
        "from sklearn.ensemble import BaggingClassifier, GradientBoostingClassifier, RandomForestClassifier"
      ]
    },
    {
      "cell_type": "code",
      "source": [
        "features, labels = load_wine(return_X_y=True, as_frame=True)"
      ],
      "metadata": {
        "id": "MHuX4ci8ES5z"
      },
      "execution_count": 4,
      "outputs": []
    },
    {
      "cell_type": "code",
      "source": [
        "X_train, X_test,y_train,y_test = train_test_split(features,labels, test_size=0.3, random_state=1)"
      ],
      "metadata": {
        "id": "Qeefx4ZFJcs1"
      },
      "execution_count": 5,
      "outputs": []
    },
    {
      "cell_type": "code",
      "source": [
        "clf = AdaBoostClassifier(random_state=1)\n",
        "clf.fit(X_train,y_train)"
      ],
      "metadata": {
        "colab": {
          "base_uri": "https://localhost:8080/"
        },
        "id": "0G1B_QJoJrXO",
        "outputId": "f0d7fafd-7975-4174-80fa-10bc76141acc"
      },
      "execution_count": 8,
      "outputs": [
        {
          "output_type": "execute_result",
          "data": {
            "text/plain": [
              "AdaBoostClassifier(random_state=1)"
            ]
          },
          "metadata": {},
          "execution_count": 8
        }
      ]
    },
    {
      "cell_type": "code",
      "source": [
        "clf.score(X_train,y_train)"
      ],
      "metadata": {
        "colab": {
          "base_uri": "https://localhost:8080/"
        },
        "id": "VCtKHR2DKZDq",
        "outputId": "d38910be-0087-408f-bcfa-079da257820e"
      },
      "execution_count": 10,
      "outputs": [
        {
          "output_type": "execute_result",
          "data": {
            "text/plain": [
              "0.6774193548387096"
            ]
          },
          "metadata": {},
          "execution_count": 10
        }
      ]
    },
    {
      "cell_type": "code",
      "source": [
        "clf.score(X_test,y_test)"
      ],
      "metadata": {
        "colab": {
          "base_uri": "https://localhost:8080/"
        },
        "id": "WVTDUvzJKUSh",
        "outputId": "a27a604b-035e-4fbb-dcd2-33d829722258"
      },
      "execution_count": 9,
      "outputs": [
        {
          "output_type": "execute_result",
          "data": {
            "text/plain": [
              "0.5370370370370371"
            ]
          },
          "metadata": {},
          "execution_count": 9
        }
      ]
    },
    {
      "cell_type": "markdown",
      "source": [
        "## Hyperparameter tuning using GridSearchCV:\n",
        "\n",
        "* Use n_estimators as [100,500,1000]\n",
        "* Use learning_rate as [0.5,1,2]"
      ],
      "metadata": {
        "id": "vfRg3YvvKlBM"
      }
    },
    {
      "cell_type": "code",
      "source": [
        "param_grid = {'n_estimators': [100,500,1000], 'learning_rate': [0.5,1,2]}\n",
        "\n",
        "cv_result = GridSearchCV(clf,param_grid=param_grid,cv=4,return_train_score=True)"
      ],
      "metadata": {
        "id": "JiE3L2JQKok2"
      },
      "execution_count": 13,
      "outputs": []
    },
    {
      "cell_type": "code",
      "source": [
        "cv_result.fit(X_train,y_train)"
      ],
      "metadata": {
        "colab": {
          "base_uri": "https://localhost:8080/"
        },
        "id": "hoL5_wM3LTxW",
        "outputId": "ddf844da-563d-4187-a1d2-9b10768ee818"
      },
      "execution_count": 20,
      "outputs": [
        {
          "output_type": "execute_result",
          "data": {
            "text/plain": [
              "GridSearchCV(cv=4, estimator=AdaBoostClassifier(random_state=1),\n",
              "             param_grid={'learning_rate': [0.5, 1, 2],\n",
              "                         'n_estimators': [100, 500, 1000]},\n",
              "             return_train_score=True)"
            ]
          },
          "metadata": {},
          "execution_count": 20
        }
      ]
    },
    {
      "cell_type": "code",
      "source": [
        "cv_result.score(X_test,y_test)"
      ],
      "metadata": {
        "colab": {
          "base_uri": "https://localhost:8080/"
        },
        "id": "St8-WYVhL5e_",
        "outputId": "5a94821a-a83b-4948-c9ff-874aed13fdc3"
      },
      "execution_count": 21,
      "outputs": [
        {
          "output_type": "execute_result",
          "data": {
            "text/plain": [
              "0.9629629629629629"
            ]
          },
          "metadata": {},
          "execution_count": 21
        }
      ]
    },
    {
      "cell_type": "code",
      "source": [
        "cv_result.best_estimator_"
      ],
      "metadata": {
        "colab": {
          "base_uri": "https://localhost:8080/"
        },
        "id": "s0g5G_uvMJxs",
        "outputId": "c2df4de1-7c46-4955-e626-d660232d110a"
      },
      "execution_count": 22,
      "outputs": [
        {
          "output_type": "execute_result",
          "data": {
            "text/plain": [
              "AdaBoostClassifier(learning_rate=0.5, n_estimators=100, random_state=1)"
            ]
          },
          "metadata": {},
          "execution_count": 22
        }
      ]
    },
    {
      "cell_type": "markdown",
      "source": [
        "# Code to predict the score on the training set and the testing set using Voting Classifier on wine dataset"
      ],
      "metadata": {
        "id": "oZ3IuD6jMY5i"
      }
    },
    {
      "cell_type": "code",
      "source": [
        "estimators = [('bagging', BaggingClassifier(random_state=1)),\n",
        "              ('GBClassifier', GradientBoostingClassifier(random_state=1)), \n",
        "              ('RFClassifier',RandomForestClassifier(random_state=1))]\n",
        "\n",
        "clf2 = VotingClassifier(estimators=estimators)"
      ],
      "metadata": {
        "id": "Uis5l2IUMa6F"
      },
      "execution_count": 39,
      "outputs": []
    },
    {
      "cell_type": "code",
      "source": [
        "clf2.fit(X_train,y_train)"
      ],
      "metadata": {
        "colab": {
          "base_uri": "https://localhost:8080/"
        },
        "id": "2kDt41fiNnXF",
        "outputId": "5a4cbfa1-d905-420b-a63f-5c2037e94b31"
      },
      "execution_count": 41,
      "outputs": [
        {
          "output_type": "execute_result",
          "data": {
            "text/plain": [
              "VotingClassifier(estimators=[('bagging', BaggingClassifier(random_state=1)),\n",
              "                             ('GBClassifier',\n",
              "                              GradientBoostingClassifier(random_state=1)),\n",
              "                             ('RFClassifier',\n",
              "                              RandomForestClassifier(random_state=1))])"
            ]
          },
          "metadata": {},
          "execution_count": 41
        }
      ]
    },
    {
      "cell_type": "code",
      "source": [
        "clf2.score(X_train,y_train)"
      ],
      "metadata": {
        "colab": {
          "base_uri": "https://localhost:8080/"
        },
        "id": "BN8DedZTRLx1",
        "outputId": "24fa2953-98ff-4d7e-f95c-3a97b67b2a16"
      },
      "execution_count": 42,
      "outputs": [
        {
          "output_type": "execute_result",
          "data": {
            "text/plain": [
              "1.0"
            ]
          },
          "metadata": {},
          "execution_count": 42
        }
      ]
    },
    {
      "cell_type": "code",
      "source": [
        "clf2.score(X_test,y_test)"
      ],
      "metadata": {
        "colab": {
          "base_uri": "https://localhost:8080/"
        },
        "id": "Q1dKpjlTRPBS",
        "outputId": "c1fbccdc-94a3-4145-b517-6b487ccad73e"
      },
      "execution_count": 43,
      "outputs": [
        {
          "output_type": "execute_result",
          "data": {
            "text/plain": [
              "0.9814814814814815"
            ]
          },
          "metadata": {},
          "execution_count": 43
        }
      ]
    }
  ]
}