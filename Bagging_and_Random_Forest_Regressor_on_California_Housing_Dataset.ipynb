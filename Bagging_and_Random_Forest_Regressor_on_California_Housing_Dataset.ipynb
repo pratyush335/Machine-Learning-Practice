{
  "nbformat": 4,
  "nbformat_minor": 0,
  "metadata": {
    "colab": {
      "name": "Bagging and Random Forest Regressor on California Housing Dataset.ipynb",
      "provenance": [],
      "authorship_tag": "ABX9TyNYB09p6hxvGuHfBZKLdNO2"
    },
    "kernelspec": {
      "name": "python3",
      "display_name": "Python 3"
    },
    "language_info": {
      "name": "python"
    }
  },
  "cells": [
    {
      "cell_type": "markdown",
      "source": [
        "# Bagging and Random Forest Regressor on California Housing Dataset\n",
        "\n"
      ],
      "metadata": {
        "id": "ZeIxOTVkBXT9"
      }
    },
    {
      "cell_type": "code",
      "source": [
        "from sklearn.datasets import fetch_california_housing\n",
        "\n",
        "import pandas as pd\n",
        "import numpy as np\n",
        "import matplotlib.pyplot as plt\n",
        "\n",
        "\n",
        "from sklearn.model_selection import ShuffleSplit\n",
        "from sklearn.model_selection import cross_val_score, cross_validate\n",
        "from sklearn.model_selection import train_test_split\n",
        "from sklearn.model_selection import RandomizedSearchCV\n",
        "from sklearn.metrics import classification_report, confusion_matrix, ConfusionMatrixDisplay\n",
        "\n",
        "from sklearn.tree import DecisionTreeRegressor\n",
        "from sklearn.ensemble import BaggingRegressor, RandomForestRegressor\n",
        "\n",
        "from sklearn.pipeline import Pipeline"
      ],
      "metadata": {
        "id": "L2_jj4KFBZUQ"
      },
      "execution_count": 56,
      "outputs": []
    },
    {
      "cell_type": "code",
      "source": [
        "np.random.seed(306)"
      ],
      "metadata": {
        "id": "McS-AA-sCRHJ"
      },
      "execution_count": 6,
      "outputs": []
    },
    {
      "cell_type": "markdown",
      "source": [
        "## Loading the California Housing Dataset"
      ],
      "metadata": {
        "id": "3k_3ryRKBm6C"
      }
    },
    {
      "cell_type": "code",
      "source": [
        "features, labels = fetch_california_housing(return_X_y=True, as_frame=True)\n",
        "labels*=100\n",
        "# Mulitplying the labels by 100 to get the value in \"thousand dollars\"\n",
        "\n",
        "X_train,X_test, y_train,y_test = train_test_split(features,labels)"
      ],
      "metadata": {
        "id": "r0GhYYyzBkHR"
      },
      "execution_count": 15,
      "outputs": []
    },
    {
      "cell_type": "code",
      "source": [
        "cv = ShuffleSplit(n_splits=10, test_size=0.2, random_state=42)"
      ],
      "metadata": {
        "id": "SPPW7qCYB1Yj"
      },
      "execution_count": 16,
      "outputs": []
    },
    {
      "cell_type": "markdown",
      "source": [
        "## Training Different Regressors"
      ],
      "metadata": {
        "id": "rWFwat6GDH4Z"
      }
    },
    {
      "cell_type": "code",
      "source": [
        "def train_regressors(estimator, X_train,y_train, cv, name):\n",
        "  estimator.fit(X_train,y_train)\n",
        "  cv_results = cross_validate(estimator, X_train, y_train, cv=cv, scoring='neg_mean_absolute_error', return_train_score=True, return_estimator=True)\n",
        "\n",
        "  # Using cross_validate to get train_score in addition to the test_score\n",
        "\n",
        "  cv_train_error = -1 * cv_results['train_score']\n",
        "  cv_test_error = -1 * cv_results['test_score']\n",
        "\n",
        "  print(f'On an average the {name} makes an error of {cv_train_error.mean():.3f} +/- {cv_train_error.std():.3f} on the training dataset')\n",
        "  print(f'On an average the {name} makes an error of {cv_test_error.mean():.3f} +/- {cv_test_error.std():.3f} on the test dataset')"
      ],
      "metadata": {
        "id": "Wi-l8heuC8-N"
      },
      "execution_count": 53,
      "outputs": []
    },
    {
      "cell_type": "markdown",
      "source": [
        "### Decision Tree Regressor"
      ],
      "metadata": {
        "id": "AoP6KwrCFFZh"
      }
    },
    {
      "cell_type": "code",
      "source": [
        "train_regressors(DecisionTreeRegressor(),X_train, y_train, cv, 'Decision Tree Regressor')"
      ],
      "metadata": {
        "colab": {
          "base_uri": "https://localhost:8080/"
        },
        "id": "WsVtcrLyE1in",
        "outputId": "4c9b7998-84eb-471b-f159-096d73ad601b"
      },
      "execution_count": 54,
      "outputs": [
        {
          "output_type": "stream",
          "name": "stdout",
          "text": [
            "On an average the Decision Tree Regressor makes an error of 0.000 +/- 0.000 on the training dataset\n",
            "On an average the Decision Tree Regressor makes an error of 47.083 +/- 0.752 on the test dataset\n"
          ]
        }
      ]
    },
    {
      "cell_type": "markdown",
      "source": [
        "As you can notice the DT  regressor results in a **zero error on the training set**. This is a case of **overfitted model**, as it obtains zero error on training but quite high error on the test set.\n",
        "\n",
        "This precise problem is solved with $Bagging$ and $Random$ $Forest$"
      ],
      "metadata": {
        "id": "HYX92tkIIpwM"
      }
    },
    {
      "cell_type": "markdown",
      "source": [
        "### Bagging Regressor"
      ],
      "metadata": {
        "id": "mrcCk2QtIWNQ"
      }
    },
    {
      "cell_type": "code",
      "source": [
        "train_regressors(BaggingRegressor(),X_train,y_train,cv,'Bagging Regressor')"
      ],
      "metadata": {
        "colab": {
          "base_uri": "https://localhost:8080/"
        },
        "id": "oi0dW-T9IZPU",
        "outputId": "1c5af938-5ca9-45b5-9c40-b94391d06ff2"
      },
      "execution_count": 44,
      "outputs": [
        {
          "output_type": "stream",
          "name": "stdout",
          "text": [
            "On an average the Bagging Regressor makes an error of 14.343 +/- 0.173 on the training dataset\n",
            "On an average the Bagging Regressor makes an error of 36.135 +/- 0.704 on the test dataset\n"
          ]
        }
      ]
    },
    {
      "cell_type": "markdown",
      "source": [
        "### Random Forest Regressor"
      ],
      "metadata": {
        "id": "8uPsbvlXJJLn"
      }
    },
    {
      "cell_type": "code",
      "source": [
        "train_regressors(RandomForestRegressor(),X_train,y_train,cv,'Random Forest Regressor')"
      ],
      "metadata": {
        "colab": {
          "base_uri": "https://localhost:8080/"
        },
        "id": "DBHFueLUJMpM",
        "outputId": "3ec37f50-9fec-45e8-baef-9c0ac4af370a"
      },
      "execution_count": 50,
      "outputs": [
        {
          "output_type": "stream",
          "name": "stdout",
          "text": [
            "On an average the Random Forest Regressor makes an error of 12.562 +/- 0.125 on the training dataset\n",
            "On an average the Random Forest Regressor makes an error of 33.936 +/- 0.630 on the test dataset\n"
          ]
        }
      ]
    },
    {
      "cell_type": "markdown",
      "source": [
        "As you can see bagging helps us in reducing the variance or overfitting in the base classifiers."
      ],
      "metadata": {
        "id": "bzhSLPrqJpCX"
      }
    },
    {
      "cell_type": "markdown",
      "source": [
        "## Parameter Search for Random Forest Regressor"
      ],
      "metadata": {
        "id": "1_4P9g9KMYFi"
      }
    },
    {
      "cell_type": "code",
      "source": [
        "param_distributions = {'n_estimators': [1,2,5,10,20,50,100,200,500],\n",
        "                       'max_leaf_nodes': [2,5,10,20,50,100] }\n",
        "search_cv = RandomizedSearchCV( RandomForestRegressor(n_jobs=2), \n",
        "                               param_distributions=param_distributions, \n",
        "                               scoring='neg_mean_absolute_error',\n",
        "                               n_iter=10, random_state=0,n_jobs=2)\n",
        "\n",
        "search_cv.fit(X_train,y_train)"
      ],
      "metadata": {
        "colab": {
          "base_uri": "https://localhost:8080/"
        },
        "id": "N2I5ZGGRJrCh",
        "outputId": "d9577808-4f4a-4cc4-bf2b-b1e1d3b320d6"
      },
      "execution_count": 58,
      "outputs": [
        {
          "output_type": "execute_result",
          "data": {
            "text/plain": [
              "RandomizedSearchCV(estimator=RandomForestRegressor(n_jobs=2), n_jobs=2,\n",
              "                   param_distributions={'max_leaf_nodes': [2, 5, 10, 20, 50,\n",
              "                                                           100],\n",
              "                                        'n_estimators': [1, 2, 5, 10, 20, 50,\n",
              "                                                         100, 200, 500]},\n",
              "                   random_state=0, scoring='neg_mean_absolute_error')"
            ]
          },
          "metadata": {},
          "execution_count": 58
        }
      ]
    },
    {
      "cell_type": "code",
      "source": [
        "search_cv.cv_results_"
      ],
      "metadata": {
        "colab": {
          "base_uri": "https://localhost:8080/"
        },
        "id": "nHPwcrPQcXUk",
        "outputId": "f3fccc54-1e5a-484c-ce41-697a08d76acb"
      },
      "execution_count": 59,
      "outputs": [
        {
          "output_type": "execute_result",
          "data": {
            "text/plain": [
              "{'mean_fit_time': array([48.97458858,  6.74607306,  1.24673705, 30.65742054,  0.44886131,\n",
              "         0.27350922,  3.18712454,  7.37808309,  0.24530902,  0.81616149]),\n",
              " 'mean_score_time': array([0.46840425, 0.12847791, 0.13214116, 0.35109878, 0.1291018 ,\n",
              "        0.13505988, 0.129006  , 0.12024517, 0.00506806, 0.12918344]),\n",
              " 'mean_test_score': array([-40.48727206, -49.50199406, -41.42554272, -55.28289325,\n",
              "        -61.78084541, -73.9068453 , -49.69478645, -43.85637238,\n",
              "        -46.54914759, -50.06968649]),\n",
              " 'param_max_leaf_nodes': masked_array(data=[100, 20, 100, 10, 5, 2, 20, 50, 100, 20],\n",
              "              mask=[False, False, False, False, False, False, False, False,\n",
              "                    False, False],\n",
              "        fill_value='?',\n",
              "             dtype=object),\n",
              " 'param_n_estimators': masked_array(data=[500, 100, 10, 500, 5, 5, 50, 100, 1, 10],\n",
              "              mask=[False, False, False, False, False, False, False, False,\n",
              "                    False, False],\n",
              "        fill_value='?',\n",
              "             dtype=object),\n",
              " 'params': [{'max_leaf_nodes': 100, 'n_estimators': 500},\n",
              "  {'max_leaf_nodes': 20, 'n_estimators': 100},\n",
              "  {'max_leaf_nodes': 100, 'n_estimators': 10},\n",
              "  {'max_leaf_nodes': 10, 'n_estimators': 500},\n",
              "  {'max_leaf_nodes': 5, 'n_estimators': 5},\n",
              "  {'max_leaf_nodes': 2, 'n_estimators': 5},\n",
              "  {'max_leaf_nodes': 20, 'n_estimators': 50},\n",
              "  {'max_leaf_nodes': 50, 'n_estimators': 100},\n",
              "  {'max_leaf_nodes': 100, 'n_estimators': 1},\n",
              "  {'max_leaf_nodes': 20, 'n_estimators': 10}],\n",
              " 'rank_test_score': array([ 1,  5,  2,  8,  9, 10,  6,  3,  4,  7], dtype=int32),\n",
              " 'split0_test_score': array([-41.11447816, -49.82671175, -42.03420725, -55.0131435 ,\n",
              "        -61.1698191 , -74.28587611, -49.57498625, -44.31896132,\n",
              "        -47.39339785, -49.83494843]),\n",
              " 'split1_test_score': array([-39.80448682, -49.08443928, -40.95449434, -55.13954541,\n",
              "        -61.70385224, -73.03091157, -49.33137217, -43.25091417,\n",
              "        -45.68031986, -49.80779722]),\n",
              " 'split2_test_score': array([-39.37379325, -48.36344782, -39.82652992, -54.56744274,\n",
              "        -61.07170698, -72.82042207, -48.77071497, -42.70082509,\n",
              "        -47.77273718, -48.84116067]),\n",
              " 'split3_test_score': array([-41.51722824, -50.45201418, -42.58922074, -55.93778465,\n",
              "        -63.33657304, -74.66844433, -50.78926596, -45.09262359,\n",
              "        -46.94759202, -51.32069753]),\n",
              " 'split4_test_score': array([-40.62637382, -49.78335727, -41.72326137, -55.75654992,\n",
              "        -61.62227571, -74.72857244, -50.00759288, -43.91853773,\n",
              "        -44.95169104, -50.54382859]),\n",
              " 'std_fit_time': array([2.50249877, 0.18477372, 0.2339242 , 3.2162828 , 0.07194172,\n",
              "        0.03993203, 0.71760163, 1.0246553 , 0.01102078, 0.06234204]),\n",
              " 'std_score_time': array([0.05964048, 0.0094529 , 0.01172822, 0.04359246, 0.00376408,\n",
              "        0.00394998, 0.00481004, 0.0070224 , 0.00090907, 0.00538576]),\n",
              " 'std_test_score': array([0.79744307, 0.71523208, 0.95833021, 0.50168045, 0.81579301,\n",
              "        0.81810858, 0.67765233, 0.83042631, 1.06540293, 0.82738177])}"
            ]
          },
          "metadata": {},
          "execution_count": 59
        }
      ]
    },
    {
      "cell_type": "code",
      "source": [
        "columns = [f'param_{each}' for each in param_distributions.keys()]\n",
        "columns += ['mean_test_error','std_test_error']\n",
        "cv_results = pd.DataFrame(search_cv.cv_results_)\n",
        "cv_results['mean_test_error']=-cv_results['mean_test_score']\n",
        "cv_results['std_test_error'] = cv_results['std_test_score']\n",
        "\n",
        "cv_results[columns].sort_values(by='mean_test_error')"
      ],
      "metadata": {
        "colab": {
          "base_uri": "https://localhost:8080/",
          "height": 363
        },
        "id": "62nX88Ypl3T1",
        "outputId": "9e5bbe73-bfd5-4f2c-bb1c-686226a7a884"
      },
      "execution_count": 62,
      "outputs": [
        {
          "output_type": "execute_result",
          "data": {
            "text/plain": [
              "  param_n_estimators param_max_leaf_nodes  mean_test_error  std_test_error\n",
              "0                500                  100        40.487272        0.797443\n",
              "2                 10                  100        41.425543        0.958330\n",
              "7                100                   50        43.856372        0.830426\n",
              "8                  1                  100        46.549148        1.065403\n",
              "1                100                   20        49.501994        0.715232\n",
              "6                 50                   20        49.694786        0.677652\n",
              "9                 10                   20        50.069686        0.827382\n",
              "3                500                   10        55.282893        0.501680\n",
              "4                  5                    5        61.780845        0.815793\n",
              "5                  5                    2        73.906845        0.818109"
            ],
            "text/html": [
              "\n",
              "  <div id=\"df-bd1d5a7e-e680-4edf-bfb3-d4939abb86b6\">\n",
              "    <div class=\"colab-df-container\">\n",
              "      <div>\n",
              "<style scoped>\n",
              "    .dataframe tbody tr th:only-of-type {\n",
              "        vertical-align: middle;\n",
              "    }\n",
              "\n",
              "    .dataframe tbody tr th {\n",
              "        vertical-align: top;\n",
              "    }\n",
              "\n",
              "    .dataframe thead th {\n",
              "        text-align: right;\n",
              "    }\n",
              "</style>\n",
              "<table border=\"1\" class=\"dataframe\">\n",
              "  <thead>\n",
              "    <tr style=\"text-align: right;\">\n",
              "      <th></th>\n",
              "      <th>param_n_estimators</th>\n",
              "      <th>param_max_leaf_nodes</th>\n",
              "      <th>mean_test_error</th>\n",
              "      <th>std_test_error</th>\n",
              "    </tr>\n",
              "  </thead>\n",
              "  <tbody>\n",
              "    <tr>\n",
              "      <th>0</th>\n",
              "      <td>500</td>\n",
              "      <td>100</td>\n",
              "      <td>40.487272</td>\n",
              "      <td>0.797443</td>\n",
              "    </tr>\n",
              "    <tr>\n",
              "      <th>2</th>\n",
              "      <td>10</td>\n",
              "      <td>100</td>\n",
              "      <td>41.425543</td>\n",
              "      <td>0.958330</td>\n",
              "    </tr>\n",
              "    <tr>\n",
              "      <th>7</th>\n",
              "      <td>100</td>\n",
              "      <td>50</td>\n",
              "      <td>43.856372</td>\n",
              "      <td>0.830426</td>\n",
              "    </tr>\n",
              "    <tr>\n",
              "      <th>8</th>\n",
              "      <td>1</td>\n",
              "      <td>100</td>\n",
              "      <td>46.549148</td>\n",
              "      <td>1.065403</td>\n",
              "    </tr>\n",
              "    <tr>\n",
              "      <th>1</th>\n",
              "      <td>100</td>\n",
              "      <td>20</td>\n",
              "      <td>49.501994</td>\n",
              "      <td>0.715232</td>\n",
              "    </tr>\n",
              "    <tr>\n",
              "      <th>6</th>\n",
              "      <td>50</td>\n",
              "      <td>20</td>\n",
              "      <td>49.694786</td>\n",
              "      <td>0.677652</td>\n",
              "    </tr>\n",
              "    <tr>\n",
              "      <th>9</th>\n",
              "      <td>10</td>\n",
              "      <td>20</td>\n",
              "      <td>50.069686</td>\n",
              "      <td>0.827382</td>\n",
              "    </tr>\n",
              "    <tr>\n",
              "      <th>3</th>\n",
              "      <td>500</td>\n",
              "      <td>10</td>\n",
              "      <td>55.282893</td>\n",
              "      <td>0.501680</td>\n",
              "    </tr>\n",
              "    <tr>\n",
              "      <th>4</th>\n",
              "      <td>5</td>\n",
              "      <td>5</td>\n",
              "      <td>61.780845</td>\n",
              "      <td>0.815793</td>\n",
              "    </tr>\n",
              "    <tr>\n",
              "      <th>5</th>\n",
              "      <td>5</td>\n",
              "      <td>2</td>\n",
              "      <td>73.906845</td>\n",
              "      <td>0.818109</td>\n",
              "    </tr>\n",
              "  </tbody>\n",
              "</table>\n",
              "</div>\n",
              "      <button class=\"colab-df-convert\" onclick=\"convertToInteractive('df-bd1d5a7e-e680-4edf-bfb3-d4939abb86b6')\"\n",
              "              title=\"Convert this dataframe to an interactive table.\"\n",
              "              style=\"display:none;\">\n",
              "        \n",
              "  <svg xmlns=\"http://www.w3.org/2000/svg\" height=\"24px\"viewBox=\"0 0 24 24\"\n",
              "       width=\"24px\">\n",
              "    <path d=\"M0 0h24v24H0V0z\" fill=\"none\"/>\n",
              "    <path d=\"M18.56 5.44l.94 2.06.94-2.06 2.06-.94-2.06-.94-.94-2.06-.94 2.06-2.06.94zm-11 1L8.5 8.5l.94-2.06 2.06-.94-2.06-.94L8.5 2.5l-.94 2.06-2.06.94zm10 10l.94 2.06.94-2.06 2.06-.94-2.06-.94-.94-2.06-.94 2.06-2.06.94z\"/><path d=\"M17.41 7.96l-1.37-1.37c-.4-.4-.92-.59-1.43-.59-.52 0-1.04.2-1.43.59L10.3 9.45l-7.72 7.72c-.78.78-.78 2.05 0 2.83L4 21.41c.39.39.9.59 1.41.59.51 0 1.02-.2 1.41-.59l7.78-7.78 2.81-2.81c.8-.78.8-2.07 0-2.86zM5.41 20L4 18.59l7.72-7.72 1.47 1.35L5.41 20z\"/>\n",
              "  </svg>\n",
              "      </button>\n",
              "      \n",
              "  <style>\n",
              "    .colab-df-container {\n",
              "      display:flex;\n",
              "      flex-wrap:wrap;\n",
              "      gap: 12px;\n",
              "    }\n",
              "\n",
              "    .colab-df-convert {\n",
              "      background-color: #E8F0FE;\n",
              "      border: none;\n",
              "      border-radius: 50%;\n",
              "      cursor: pointer;\n",
              "      display: none;\n",
              "      fill: #1967D2;\n",
              "      height: 32px;\n",
              "      padding: 0 0 0 0;\n",
              "      width: 32px;\n",
              "    }\n",
              "\n",
              "    .colab-df-convert:hover {\n",
              "      background-color: #E2EBFA;\n",
              "      box-shadow: 0px 1px 2px rgba(60, 64, 67, 0.3), 0px 1px 3px 1px rgba(60, 64, 67, 0.15);\n",
              "      fill: #174EA6;\n",
              "    }\n",
              "\n",
              "    [theme=dark] .colab-df-convert {\n",
              "      background-color: #3B4455;\n",
              "      fill: #D2E3FC;\n",
              "    }\n",
              "\n",
              "    [theme=dark] .colab-df-convert:hover {\n",
              "      background-color: #434B5C;\n",
              "      box-shadow: 0px 1px 3px 1px rgba(0, 0, 0, 0.15);\n",
              "      filter: drop-shadow(0px 1px 2px rgba(0, 0, 0, 0.3));\n",
              "      fill: #FFFFFF;\n",
              "    }\n",
              "  </style>\n",
              "\n",
              "      <script>\n",
              "        const buttonEl =\n",
              "          document.querySelector('#df-bd1d5a7e-e680-4edf-bfb3-d4939abb86b6 button.colab-df-convert');\n",
              "        buttonEl.style.display =\n",
              "          google.colab.kernel.accessAllowed ? 'block' : 'none';\n",
              "\n",
              "        async function convertToInteractive(key) {\n",
              "          const element = document.querySelector('#df-bd1d5a7e-e680-4edf-bfb3-d4939abb86b6');\n",
              "          const dataTable =\n",
              "            await google.colab.kernel.invokeFunction('convertToInteractive',\n",
              "                                                     [key], {});\n",
              "          if (!dataTable) return;\n",
              "\n",
              "          const docLinkHtml = 'Like what you see? Visit the ' +\n",
              "            '<a target=\"_blank\" href=https://colab.research.google.com/notebooks/data_table.ipynb>data table notebook</a>'\n",
              "            + ' to learn more about interactive tables.';\n",
              "          element.innerHTML = '';\n",
              "          dataTable['output_type'] = 'display_data';\n",
              "          await google.colab.output.renderOutput(dataTable, element);\n",
              "          const docLink = document.createElement('div');\n",
              "          docLink.innerHTML = docLinkHtml;\n",
              "          element.appendChild(docLink);\n",
              "        }\n",
              "      </script>\n",
              "    </div>\n",
              "  </div>\n",
              "  "
            ]
          },
          "metadata": {},
          "execution_count": 62
        }
      ]
    },
    {
      "cell_type": "code",
      "source": [
        "error = -1 * search_cv.score(X_test,y_test)\n",
        "print(f'On an average, Random Forest Classifier makes an error of {error:.3f}k $ on the test dataset.')"
      ],
      "metadata": {
        "colab": {
          "base_uri": "https://localhost:8080/"
        },
        "id": "PFoegtxUnRMS",
        "outputId": "0c48d1a0-6f09-4a72-e9c5-ce222a00d170"
      },
      "execution_count": 66,
      "outputs": [
        {
          "output_type": "stream",
          "name": "stdout",
          "text": [
            "On an average, Random Forest Classifier makes an error of 39.331k $ on the test dataset.\n"
          ]
        }
      ]
    }
  ]
}