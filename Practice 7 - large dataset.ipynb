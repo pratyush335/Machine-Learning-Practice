{
  "nbformat": 4,
  "nbformat_minor": 0,
  "metadata": {
    "colab": {
      "name": "Practice 7 - large dataset.ipynb",
      "provenance": [],
      "authorship_tag": "ABX9TyPj0nmysWErR2oc6otzlyc9"
    },
    "kernelspec": {
      "name": "python3",
      "display_name": "Python 3"
    },
    "language_info": {
      "name": "python"
    }
  },
  "cells": [
    {
      "cell_type": "code",
      "execution_count": 1,
      "metadata": {
        "id": "ttHx8KLJhtfT"
      },
      "outputs": [],
      "source": [
        "import numpy as np\n",
        "import pandas as pd\n",
        "import matplotlib.pyplot as plt"
      ]
    },
    {
      "cell_type": "code",
      "source": [
        "df = pd.read_csv('data.csv')"
      ],
      "metadata": {
        "id": "LXuMuaJrh46J"
      },
      "execution_count": 7,
      "outputs": []
    },
    {
      "cell_type": "code",
      "source": [
        "df.head()"
      ],
      "metadata": {
        "colab": {
          "base_uri": "https://localhost:8080/",
          "height": 206
        },
        "id": "KG2VGGcqjXlt",
        "outputId": "a618a823-a158-4ebb-fb9c-4e79f548a46c"
      },
      "execution_count": 8,
      "outputs": [
        {
          "output_type": "execute_result",
          "data": {
            "text/plain": [
              "   Feature-1  Feature-2  Feature-3  Feature-4  Feature-5  Feature-6  \\\n",
              "0     -1.580     1.0500      1.060     -0.440      0.451    -0.0348   \n",
              "1     -0.832    -0.8660     -1.340      0.138      1.180     0.7330   \n",
              "2     -0.237     2.0900     -3.930      0.296      0.352    -0.5010   \n",
              "3     -1.170    -1.1300     -1.090      1.120      0.312     0.1830   \n",
              "4      0.260    -0.0273      0.925     -1.150     -1.390     0.0251   \n",
              "\n",
              "   Feature-7  Feature-8  Feature-9  Feature-10  Target  \n",
              "0      0.643     0.2650      0.268      -0.851    84.7  \n",
              "1     -1.410     0.1350     -0.088      -1.550  -211.0  \n",
              "2      0.961    -0.0287      1.820       0.938   -96.9  \n",
              "3      0.448    -0.8190     -1.010      -1.080  -152.0  \n",
              "4      0.627     0.0950     -0.280      -0.848   -57.7  "
            ],
            "text/html": [
              "\n",
              "  <div id=\"df-f2adbd8d-b15d-4100-a2e0-aac3ee04cac7\">\n",
              "    <div class=\"colab-df-container\">\n",
              "      <div>\n",
              "<style scoped>\n",
              "    .dataframe tbody tr th:only-of-type {\n",
              "        vertical-align: middle;\n",
              "    }\n",
              "\n",
              "    .dataframe tbody tr th {\n",
              "        vertical-align: top;\n",
              "    }\n",
              "\n",
              "    .dataframe thead th {\n",
              "        text-align: right;\n",
              "    }\n",
              "</style>\n",
              "<table border=\"1\" class=\"dataframe\">\n",
              "  <thead>\n",
              "    <tr style=\"text-align: right;\">\n",
              "      <th></th>\n",
              "      <th>Feature-1</th>\n",
              "      <th>Feature-2</th>\n",
              "      <th>Feature-3</th>\n",
              "      <th>Feature-4</th>\n",
              "      <th>Feature-5</th>\n",
              "      <th>Feature-6</th>\n",
              "      <th>Feature-7</th>\n",
              "      <th>Feature-8</th>\n",
              "      <th>Feature-9</th>\n",
              "      <th>Feature-10</th>\n",
              "      <th>Target</th>\n",
              "    </tr>\n",
              "  </thead>\n",
              "  <tbody>\n",
              "    <tr>\n",
              "      <th>0</th>\n",
              "      <td>-1.580</td>\n",
              "      <td>1.0500</td>\n",
              "      <td>1.060</td>\n",
              "      <td>-0.440</td>\n",
              "      <td>0.451</td>\n",
              "      <td>-0.0348</td>\n",
              "      <td>0.643</td>\n",
              "      <td>0.2650</td>\n",
              "      <td>0.268</td>\n",
              "      <td>-0.851</td>\n",
              "      <td>84.7</td>\n",
              "    </tr>\n",
              "    <tr>\n",
              "      <th>1</th>\n",
              "      <td>-0.832</td>\n",
              "      <td>-0.8660</td>\n",
              "      <td>-1.340</td>\n",
              "      <td>0.138</td>\n",
              "      <td>1.180</td>\n",
              "      <td>0.7330</td>\n",
              "      <td>-1.410</td>\n",
              "      <td>0.1350</td>\n",
              "      <td>-0.088</td>\n",
              "      <td>-1.550</td>\n",
              "      <td>-211.0</td>\n",
              "    </tr>\n",
              "    <tr>\n",
              "      <th>2</th>\n",
              "      <td>-0.237</td>\n",
              "      <td>2.0900</td>\n",
              "      <td>-3.930</td>\n",
              "      <td>0.296</td>\n",
              "      <td>0.352</td>\n",
              "      <td>-0.5010</td>\n",
              "      <td>0.961</td>\n",
              "      <td>-0.0287</td>\n",
              "      <td>1.820</td>\n",
              "      <td>0.938</td>\n",
              "      <td>-96.9</td>\n",
              "    </tr>\n",
              "    <tr>\n",
              "      <th>3</th>\n",
              "      <td>-1.170</td>\n",
              "      <td>-1.1300</td>\n",
              "      <td>-1.090</td>\n",
              "      <td>1.120</td>\n",
              "      <td>0.312</td>\n",
              "      <td>0.1830</td>\n",
              "      <td>0.448</td>\n",
              "      <td>-0.8190</td>\n",
              "      <td>-1.010</td>\n",
              "      <td>-1.080</td>\n",
              "      <td>-152.0</td>\n",
              "    </tr>\n",
              "    <tr>\n",
              "      <th>4</th>\n",
              "      <td>0.260</td>\n",
              "      <td>-0.0273</td>\n",
              "      <td>0.925</td>\n",
              "      <td>-1.150</td>\n",
              "      <td>-1.390</td>\n",
              "      <td>0.0251</td>\n",
              "      <td>0.627</td>\n",
              "      <td>0.0950</td>\n",
              "      <td>-0.280</td>\n",
              "      <td>-0.848</td>\n",
              "      <td>-57.7</td>\n",
              "    </tr>\n",
              "  </tbody>\n",
              "</table>\n",
              "</div>\n",
              "      <button class=\"colab-df-convert\" onclick=\"convertToInteractive('df-f2adbd8d-b15d-4100-a2e0-aac3ee04cac7')\"\n",
              "              title=\"Convert this dataframe to an interactive table.\"\n",
              "              style=\"display:none;\">\n",
              "        \n",
              "  <svg xmlns=\"http://www.w3.org/2000/svg\" height=\"24px\"viewBox=\"0 0 24 24\"\n",
              "       width=\"24px\">\n",
              "    <path d=\"M0 0h24v24H0V0z\" fill=\"none\"/>\n",
              "    <path d=\"M18.56 5.44l.94 2.06.94-2.06 2.06-.94-2.06-.94-.94-2.06-.94 2.06-2.06.94zm-11 1L8.5 8.5l.94-2.06 2.06-.94-2.06-.94L8.5 2.5l-.94 2.06-2.06.94zm10 10l.94 2.06.94-2.06 2.06-.94-2.06-.94-.94-2.06-.94 2.06-2.06.94z\"/><path d=\"M17.41 7.96l-1.37-1.37c-.4-.4-.92-.59-1.43-.59-.52 0-1.04.2-1.43.59L10.3 9.45l-7.72 7.72c-.78.78-.78 2.05 0 2.83L4 21.41c.39.39.9.59 1.41.59.51 0 1.02-.2 1.41-.59l7.78-7.78 2.81-2.81c.8-.78.8-2.07 0-2.86zM5.41 20L4 18.59l7.72-7.72 1.47 1.35L5.41 20z\"/>\n",
              "  </svg>\n",
              "      </button>\n",
              "      \n",
              "  <style>\n",
              "    .colab-df-container {\n",
              "      display:flex;\n",
              "      flex-wrap:wrap;\n",
              "      gap: 12px;\n",
              "    }\n",
              "\n",
              "    .colab-df-convert {\n",
              "      background-color: #E8F0FE;\n",
              "      border: none;\n",
              "      border-radius: 50%;\n",
              "      cursor: pointer;\n",
              "      display: none;\n",
              "      fill: #1967D2;\n",
              "      height: 32px;\n",
              "      padding: 0 0 0 0;\n",
              "      width: 32px;\n",
              "    }\n",
              "\n",
              "    .colab-df-convert:hover {\n",
              "      background-color: #E2EBFA;\n",
              "      box-shadow: 0px 1px 2px rgba(60, 64, 67, 0.3), 0px 1px 3px 1px rgba(60, 64, 67, 0.15);\n",
              "      fill: #174EA6;\n",
              "    }\n",
              "\n",
              "    [theme=dark] .colab-df-convert {\n",
              "      background-color: #3B4455;\n",
              "      fill: #D2E3FC;\n",
              "    }\n",
              "\n",
              "    [theme=dark] .colab-df-convert:hover {\n",
              "      background-color: #434B5C;\n",
              "      box-shadow: 0px 1px 3px 1px rgba(0, 0, 0, 0.15);\n",
              "      filter: drop-shadow(0px 1px 2px rgba(0, 0, 0, 0.3));\n",
              "      fill: #FFFFFF;\n",
              "    }\n",
              "  </style>\n",
              "\n",
              "      <script>\n",
              "        const buttonEl =\n",
              "          document.querySelector('#df-f2adbd8d-b15d-4100-a2e0-aac3ee04cac7 button.colab-df-convert');\n",
              "        buttonEl.style.display =\n",
              "          google.colab.kernel.accessAllowed ? 'block' : 'none';\n",
              "\n",
              "        async function convertToInteractive(key) {\n",
              "          const element = document.querySelector('#df-f2adbd8d-b15d-4100-a2e0-aac3ee04cac7');\n",
              "          const dataTable =\n",
              "            await google.colab.kernel.invokeFunction('convertToInteractive',\n",
              "                                                     [key], {});\n",
              "          if (!dataTable) return;\n",
              "\n",
              "          const docLinkHtml = 'Like what you see? Visit the ' +\n",
              "            '<a target=\"_blank\" href=https://colab.research.google.com/notebooks/data_table.ipynb>data table notebook</a>'\n",
              "            + ' to learn more about interactive tables.';\n",
              "          element.innerHTML = '';\n",
              "          dataTable['output_type'] = 'display_data';\n",
              "          await google.colab.output.renderOutput(dataTable, element);\n",
              "          const docLink = document.createElement('div');\n",
              "          docLink.innerHTML = docLinkHtml;\n",
              "          element.appendChild(docLink);\n",
              "        }\n",
              "      </script>\n",
              "    </div>\n",
              "  </div>\n",
              "  "
            ]
          },
          "metadata": {},
          "execution_count": 8
        }
      ]
    },
    {
      "cell_type": "code",
      "source": [
        "y = df.pop('Target')\n",
        "X = df"
      ],
      "metadata": {
        "id": "XuCiLxTJjbKC"
      },
      "execution_count": 9,
      "outputs": []
    },
    {
      "cell_type": "code",
      "source": [
        "X.head()"
      ],
      "metadata": {
        "colab": {
          "base_uri": "https://localhost:8080/",
          "height": 206
        },
        "id": "meOBZlkTjj3s",
        "outputId": "a4bb5730-6872-428e-dad9-a9939817486a"
      },
      "execution_count": 10,
      "outputs": [
        {
          "output_type": "execute_result",
          "data": {
            "text/plain": [
              "   Feature-1  Feature-2  Feature-3  Feature-4  Feature-5  Feature-6  \\\n",
              "0     -1.580     1.0500      1.060     -0.440      0.451    -0.0348   \n",
              "1     -0.832    -0.8660     -1.340      0.138      1.180     0.7330   \n",
              "2     -0.237     2.0900     -3.930      0.296      0.352    -0.5010   \n",
              "3     -1.170    -1.1300     -1.090      1.120      0.312     0.1830   \n",
              "4      0.260    -0.0273      0.925     -1.150     -1.390     0.0251   \n",
              "\n",
              "   Feature-7  Feature-8  Feature-9  Feature-10  \n",
              "0      0.643     0.2650      0.268      -0.851  \n",
              "1     -1.410     0.1350     -0.088      -1.550  \n",
              "2      0.961    -0.0287      1.820       0.938  \n",
              "3      0.448    -0.8190     -1.010      -1.080  \n",
              "4      0.627     0.0950     -0.280      -0.848  "
            ],
            "text/html": [
              "\n",
              "  <div id=\"df-fe36d19a-eb1e-4eec-a11a-ad945f039215\">\n",
              "    <div class=\"colab-df-container\">\n",
              "      <div>\n",
              "<style scoped>\n",
              "    .dataframe tbody tr th:only-of-type {\n",
              "        vertical-align: middle;\n",
              "    }\n",
              "\n",
              "    .dataframe tbody tr th {\n",
              "        vertical-align: top;\n",
              "    }\n",
              "\n",
              "    .dataframe thead th {\n",
              "        text-align: right;\n",
              "    }\n",
              "</style>\n",
              "<table border=\"1\" class=\"dataframe\">\n",
              "  <thead>\n",
              "    <tr style=\"text-align: right;\">\n",
              "      <th></th>\n",
              "      <th>Feature-1</th>\n",
              "      <th>Feature-2</th>\n",
              "      <th>Feature-3</th>\n",
              "      <th>Feature-4</th>\n",
              "      <th>Feature-5</th>\n",
              "      <th>Feature-6</th>\n",
              "      <th>Feature-7</th>\n",
              "      <th>Feature-8</th>\n",
              "      <th>Feature-9</th>\n",
              "      <th>Feature-10</th>\n",
              "    </tr>\n",
              "  </thead>\n",
              "  <tbody>\n",
              "    <tr>\n",
              "      <th>0</th>\n",
              "      <td>-1.580</td>\n",
              "      <td>1.0500</td>\n",
              "      <td>1.060</td>\n",
              "      <td>-0.440</td>\n",
              "      <td>0.451</td>\n",
              "      <td>-0.0348</td>\n",
              "      <td>0.643</td>\n",
              "      <td>0.2650</td>\n",
              "      <td>0.268</td>\n",
              "      <td>-0.851</td>\n",
              "    </tr>\n",
              "    <tr>\n",
              "      <th>1</th>\n",
              "      <td>-0.832</td>\n",
              "      <td>-0.8660</td>\n",
              "      <td>-1.340</td>\n",
              "      <td>0.138</td>\n",
              "      <td>1.180</td>\n",
              "      <td>0.7330</td>\n",
              "      <td>-1.410</td>\n",
              "      <td>0.1350</td>\n",
              "      <td>-0.088</td>\n",
              "      <td>-1.550</td>\n",
              "    </tr>\n",
              "    <tr>\n",
              "      <th>2</th>\n",
              "      <td>-0.237</td>\n",
              "      <td>2.0900</td>\n",
              "      <td>-3.930</td>\n",
              "      <td>0.296</td>\n",
              "      <td>0.352</td>\n",
              "      <td>-0.5010</td>\n",
              "      <td>0.961</td>\n",
              "      <td>-0.0287</td>\n",
              "      <td>1.820</td>\n",
              "      <td>0.938</td>\n",
              "    </tr>\n",
              "    <tr>\n",
              "      <th>3</th>\n",
              "      <td>-1.170</td>\n",
              "      <td>-1.1300</td>\n",
              "      <td>-1.090</td>\n",
              "      <td>1.120</td>\n",
              "      <td>0.312</td>\n",
              "      <td>0.1830</td>\n",
              "      <td>0.448</td>\n",
              "      <td>-0.8190</td>\n",
              "      <td>-1.010</td>\n",
              "      <td>-1.080</td>\n",
              "    </tr>\n",
              "    <tr>\n",
              "      <th>4</th>\n",
              "      <td>0.260</td>\n",
              "      <td>-0.0273</td>\n",
              "      <td>0.925</td>\n",
              "      <td>-1.150</td>\n",
              "      <td>-1.390</td>\n",
              "      <td>0.0251</td>\n",
              "      <td>0.627</td>\n",
              "      <td>0.0950</td>\n",
              "      <td>-0.280</td>\n",
              "      <td>-0.848</td>\n",
              "    </tr>\n",
              "  </tbody>\n",
              "</table>\n",
              "</div>\n",
              "      <button class=\"colab-df-convert\" onclick=\"convertToInteractive('df-fe36d19a-eb1e-4eec-a11a-ad945f039215')\"\n",
              "              title=\"Convert this dataframe to an interactive table.\"\n",
              "              style=\"display:none;\">\n",
              "        \n",
              "  <svg xmlns=\"http://www.w3.org/2000/svg\" height=\"24px\"viewBox=\"0 0 24 24\"\n",
              "       width=\"24px\">\n",
              "    <path d=\"M0 0h24v24H0V0z\" fill=\"none\"/>\n",
              "    <path d=\"M18.56 5.44l.94 2.06.94-2.06 2.06-.94-2.06-.94-.94-2.06-.94 2.06-2.06.94zm-11 1L8.5 8.5l.94-2.06 2.06-.94-2.06-.94L8.5 2.5l-.94 2.06-2.06.94zm10 10l.94 2.06.94-2.06 2.06-.94-2.06-.94-.94-2.06-.94 2.06-2.06.94z\"/><path d=\"M17.41 7.96l-1.37-1.37c-.4-.4-.92-.59-1.43-.59-.52 0-1.04.2-1.43.59L10.3 9.45l-7.72 7.72c-.78.78-.78 2.05 0 2.83L4 21.41c.39.39.9.59 1.41.59.51 0 1.02-.2 1.41-.59l7.78-7.78 2.81-2.81c.8-.78.8-2.07 0-2.86zM5.41 20L4 18.59l7.72-7.72 1.47 1.35L5.41 20z\"/>\n",
              "  </svg>\n",
              "      </button>\n",
              "      \n",
              "  <style>\n",
              "    .colab-df-container {\n",
              "      display:flex;\n",
              "      flex-wrap:wrap;\n",
              "      gap: 12px;\n",
              "    }\n",
              "\n",
              "    .colab-df-convert {\n",
              "      background-color: #E8F0FE;\n",
              "      border: none;\n",
              "      border-radius: 50%;\n",
              "      cursor: pointer;\n",
              "      display: none;\n",
              "      fill: #1967D2;\n",
              "      height: 32px;\n",
              "      padding: 0 0 0 0;\n",
              "      width: 32px;\n",
              "    }\n",
              "\n",
              "    .colab-df-convert:hover {\n",
              "      background-color: #E2EBFA;\n",
              "      box-shadow: 0px 1px 2px rgba(60, 64, 67, 0.3), 0px 1px 3px 1px rgba(60, 64, 67, 0.15);\n",
              "      fill: #174EA6;\n",
              "    }\n",
              "\n",
              "    [theme=dark] .colab-df-convert {\n",
              "      background-color: #3B4455;\n",
              "      fill: #D2E3FC;\n",
              "    }\n",
              "\n",
              "    [theme=dark] .colab-df-convert:hover {\n",
              "      background-color: #434B5C;\n",
              "      box-shadow: 0px 1px 3px 1px rgba(0, 0, 0, 0.15);\n",
              "      filter: drop-shadow(0px 1px 2px rgba(0, 0, 0, 0.3));\n",
              "      fill: #FFFFFF;\n",
              "    }\n",
              "  </style>\n",
              "\n",
              "      <script>\n",
              "        const buttonEl =\n",
              "          document.querySelector('#df-fe36d19a-eb1e-4eec-a11a-ad945f039215 button.colab-df-convert');\n",
              "        buttonEl.style.display =\n",
              "          google.colab.kernel.accessAllowed ? 'block' : 'none';\n",
              "\n",
              "        async function convertToInteractive(key) {\n",
              "          const element = document.querySelector('#df-fe36d19a-eb1e-4eec-a11a-ad945f039215');\n",
              "          const dataTable =\n",
              "            await google.colab.kernel.invokeFunction('convertToInteractive',\n",
              "                                                     [key], {});\n",
              "          if (!dataTable) return;\n",
              "\n",
              "          const docLinkHtml = 'Like what you see? Visit the ' +\n",
              "            '<a target=\"_blank\" href=https://colab.research.google.com/notebooks/data_table.ipynb>data table notebook</a>'\n",
              "            + ' to learn more about interactive tables.';\n",
              "          element.innerHTML = '';\n",
              "          dataTable['output_type'] = 'display_data';\n",
              "          await google.colab.output.renderOutput(dataTable, element);\n",
              "          const docLink = document.createElement('div');\n",
              "          docLink.innerHTML = docLinkHtml;\n",
              "          element.appendChild(docLink);\n",
              "        }\n",
              "      </script>\n",
              "    </div>\n",
              "  </div>\n",
              "  "
            ]
          },
          "metadata": {},
          "execution_count": 10
        }
      ]
    },
    {
      "cell_type": "code",
      "source": [
        "X.shape,y.shape"
      ],
      "metadata": {
        "colab": {
          "base_uri": "https://localhost:8080/"
        },
        "id": "LISifF4MkvEK",
        "outputId": "66dcab28-f238-4da1-9013-cac4fa807f66"
      },
      "execution_count": 16,
      "outputs": [
        {
          "output_type": "execute_result",
          "data": {
            "text/plain": [
              "((90000, 10), (90000,))"
            ]
          },
          "metadata": {},
          "execution_count": 16
        }
      ]
    },
    {
      "cell_type": "code",
      "source": [
        "X_array = X.to_numpy()\n",
        "y_array = y.to_numpy()"
      ],
      "metadata": {
        "id": "Njq_on5tjl_a"
      },
      "execution_count": 12,
      "outputs": []
    },
    {
      "cell_type": "code",
      "source": [
        "X_ = X_array.reshape(-1,90,10)\n",
        "y_ = y_array.reshape(-1,90,1)"
      ],
      "metadata": {
        "id": "buvXo9vvlvFh"
      },
      "execution_count": 27,
      "outputs": []
    },
    {
      "cell_type": "code",
      "source": [
        "X_.shape,y_.shape"
      ],
      "metadata": {
        "colab": {
          "base_uri": "https://localhost:8080/"
        },
        "id": "w6QBKyWkp4Rq",
        "outputId": "34ce775c-4be8-4079-83da-8247e1e8fc22"
      },
      "execution_count": 28,
      "outputs": [
        {
          "output_type": "execute_result",
          "data": {
            "text/plain": [
              "((1000, 90, 10), (1000, 90, 1))"
            ]
          },
          "metadata": {},
          "execution_count": 28
        }
      ]
    },
    {
      "cell_type": "code",
      "source": [
        "from sklearn.model_selection import train_test_split\n",
        "\n",
        "X_train,X_test,y_train,y_test = train_test_split(X_,y_,test_size=0.3,random_state=10)"
      ],
      "metadata": {
        "id": "ZaR-amlyjvNp"
      },
      "execution_count": 21,
      "outputs": []
    },
    {
      "cell_type": "code",
      "source": [
        "X_train.shape,y_train.shape,X_test.shape,y_test.shape"
      ],
      "metadata": {
        "colab": {
          "base_uri": "https://localhost:8080/"
        },
        "id": "MXx7xaroq9wY",
        "outputId": "0eca7a49-1be3-40a3-ebfa-ca6aca9ddc9b"
      },
      "execution_count": 32,
      "outputs": [
        {
          "output_type": "execute_result",
          "data": {
            "text/plain": [
              "((700, 90, 10), (700, 90, 1), (300, 90, 10), (300, 90, 1))"
            ]
          },
          "metadata": {},
          "execution_count": 32
        }
      ]
    },
    {
      "cell_type": "code",
      "source": [
        "from sklearn.linear_model import SGDRegressor\n",
        "\n",
        "regressor = SGDRegressor(random_state=10)"
      ],
      "metadata": {
        "id": "wJPNwfr3kQfw"
      },
      "execution_count": 29,
      "outputs": []
    },
    {
      "cell_type": "code",
      "source": [
        "#selecting data in batches\n",
        "for i in range(X_train.shape[0]):\n",
        "  X_batch, y_batch = X_train[i],y_train[i]\n",
        "  #partially fitting data in batches\n",
        "  regressor.partial_fit(X_batch,y_batch)"
      ],
      "metadata": {
        "id": "V1VuRI4Dn5w8"
      },
      "execution_count": null,
      "outputs": []
    },
    {
      "cell_type": "code",
      "source": [
        "regressor.intercept_"
      ],
      "metadata": {
        "colab": {
          "base_uri": "https://localhost:8080/"
        },
        "id": "2DdxX8ssoIJT",
        "outputId": "ade0df02-e3a4-4854-c789-66923f079ec0"
      },
      "execution_count": 31,
      "outputs": [
        {
          "output_type": "execute_result",
          "data": {
            "text/plain": [
              "array([-0.01306907])"
            ]
          },
          "metadata": {},
          "execution_count": 31
        }
      ]
    },
    {
      "cell_type": "code",
      "source": [
        "regressor.coef_"
      ],
      "metadata": {
        "colab": {
          "base_uri": "https://localhost:8080/"
        },
        "id": "zeIUkQ3Sq4qV",
        "outputId": "8eeb9dc3-3b9c-4fd9-9696-86b376cb595e"
      },
      "execution_count": 35,
      "outputs": [
        {
          "output_type": "execute_result",
          "data": {
            "text/plain": [
              "array([51.3105364 , 22.28887652, 81.2555404 , 53.20103481, 76.45558585,\n",
              "       71.4819568 , 93.45919069, 51.93738032, 30.03948184, 40.9838626 ])"
            ]
          },
          "metadata": {},
          "execution_count": 35
        }
      ]
    },
    {
      "cell_type": "code",
      "source": [
        "from sklearn.metrics import r2_score\n",
        "\n",
        "y_preds = []\n",
        "for i in range(X_test.shape[0]):\n",
        "  y_pred = regressor.predict(X_test[i])\n",
        "  y_preds.append(y_pred)"
      ],
      "metadata": {
        "id": "YZaDy9-ltAVk"
      },
      "execution_count": 38,
      "outputs": []
    },
    {
      "cell_type": "code",
      "source": [
        "np.asarray(y_preds).shape, y_test.shape"
      ],
      "metadata": {
        "colab": {
          "base_uri": "https://localhost:8080/"
        },
        "id": "-AmhTGlWvRxx",
        "outputId": "aaa67b46-aad9-4af2-cee6-33beacc1e2b6"
      },
      "execution_count": 44,
      "outputs": [
        {
          "output_type": "execute_result",
          "data": {
            "text/plain": [
              "((300, 90), (300, 90, 1))"
            ]
          },
          "metadata": {},
          "execution_count": 44
        }
      ]
    },
    {
      "cell_type": "code",
      "source": [
        "y_test_1 = y_test.reshape(-1)\n",
        "y_pred_1 = np.asarray(y_preds).reshape(-1)"
      ],
      "metadata": {
        "id": "-ocYdMbevnCT"
      },
      "execution_count": 53,
      "outputs": []
    },
    {
      "cell_type": "code",
      "source": [
        "#r2score\n",
        "r2 = r2_score(y_test_1,y_pred_1)\n",
        "r2"
      ],
      "metadata": {
        "colab": {
          "base_uri": "https://localhost:8080/"
        },
        "id": "Uy9ETY8BtQ_x",
        "outputId": "f96256fd-07d3-46f4-d409-e817a9087de0"
      },
      "execution_count": 55,
      "outputs": [
        {
          "output_type": "execute_result",
          "data": {
            "text/plain": [
              "0.9999917482397119"
            ]
          },
          "metadata": {},
          "execution_count": 55
        }
      ]
    },
    {
      "cell_type": "code",
      "source": [
        "regressor.coef_"
      ],
      "metadata": {
        "colab": {
          "base_uri": "https://localhost:8080/"
        },
        "id": "UyJuRHKpxfsx",
        "outputId": "26c9a14b-1363-42e6-8cb8-3bdb2337270a"
      },
      "execution_count": 57,
      "outputs": [
        {
          "output_type": "execute_result",
          "data": {
            "text/plain": [
              "array([51.3105364 , 22.28887652, 81.2555404 , 53.20103481, 76.45558585,\n",
              "       71.4819568 , 93.45919069, 51.93738032, 30.03948184, 40.9838626 ])"
            ]
          },
          "metadata": {},
          "execution_count": 57
        }
      ]
    },
    {
      "cell_type": "code",
      "source": [
        "from sklearn.datasets import load_iris"
      ],
      "metadata": {
        "id": "PfBVT4Q7xtPc"
      },
      "execution_count": 59,
      "outputs": []
    },
    {
      "cell_type": "code",
      "source": [
        "X,y = load_iris(return_X_y=True)"
      ],
      "metadata": {
        "id": "W8wYhtcTxyko"
      },
      "execution_count": 72,
      "outputs": []
    },
    {
      "cell_type": "code",
      "source": [
        "from sklearn.preprocessing import Normalizer\n",
        "from sklearn.neighbors import KNeighborsClassifier\n",
        "from sklearn.pipeline import Pipeline"
      ],
      "metadata": {
        "id": "Of5n9RRbzdvQ"
      },
      "execution_count": 73,
      "outputs": []
    },
    {
      "cell_type": "code",
      "source": [
        "X_train, X_test, y_train,y_test = train_test_split(X,y,test_size=0.2, random_state=10)"
      ],
      "metadata": {
        "id": "Ii-6oakjzQpz"
      },
      "execution_count": 74,
      "outputs": []
    },
    {
      "cell_type": "code",
      "source": [
        "scaler = Normalizer()\n",
        "scaler.fit(X_train)"
      ],
      "metadata": {
        "colab": {
          "base_uri": "https://localhost:8080/"
        },
        "id": "7PKPPBVo1uaN",
        "outputId": "d06c8b8c-662a-4b84-b91a-5cc149a30c0e"
      },
      "execution_count": 79,
      "outputs": [
        {
          "output_type": "execute_result",
          "data": {
            "text/plain": [
              "Normalizer()"
            ]
          },
          "metadata": {},
          "execution_count": 79
        }
      ]
    },
    {
      "cell_type": "code",
      "source": [
        "X_train_trans =  scaler.transform(X_train)\n",
        "X_test_trans = scaler.transform(X_test)"
      ],
      "metadata": {
        "id": "kCmdaQOw2KeU"
      },
      "execution_count": 80,
      "outputs": []
    },
    {
      "cell_type": "code",
      "source": [
        "from sklearn.metrics import accuracy_score\n",
        "\n",
        "for i in range (2,5):\n",
        "   knn = KNeighborsClassifier(i)\n",
        "   knn.fit(X_train_trans,y_train)\n",
        "   y_pred = knn.predict(X_test_trans)\n",
        "   print(f'For k={i}, accuracy is {(accuracy_score(y_test,y_pred)):.3f}')"
      ],
      "metadata": {
        "colab": {
          "base_uri": "https://localhost:8080/"
        },
        "id": "RD21079w2VV9",
        "outputId": "b8d716da-f0a2-4778-eafe-add6ea5f917c"
      },
      "execution_count": 82,
      "outputs": [
        {
          "output_type": "stream",
          "name": "stdout",
          "text": [
            "For k=2, accuracy is 0.967\n",
            "For k=3, accuracy is 0.967\n",
            "For k=4, accuracy is 0.967\n"
          ]
        }
      ]
    },
    {
      "cell_type": "code",
      "source": [
        "# weighted f1 score \n",
        "from sklearn.metrics import f1_score\n",
        "\n",
        "knn2 = KNeighborsClassifier(3)\n",
        "knn2.fit(X_train_trans,y_train)\n",
        "y_pred2 = knn2.predict(X_test_trans)\n",
        "f1=f1_score(y_test,y_pred2, average='weighted')\n",
        "print(f'weighted f1 score for k=3 is {f1:.3f}')"
      ],
      "metadata": {
        "colab": {
          "base_uri": "https://localhost:8080/"
        },
        "id": "UAAz8DFS23Lk",
        "outputId": "6d028f57-2fd1-40b3-e7f5-87bd62627a38"
      },
      "execution_count": 98,
      "outputs": [
        {
          "output_type": "stream",
          "name": "stdout",
          "text": [
            "weighted f1 score for k=3 is 0.967\n"
          ]
        }
      ]
    }
  ]
}