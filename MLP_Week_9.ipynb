{
  "nbformat": 4,
  "nbformat_minor": 0,
  "metadata": {
    "colab": {
      "name": "MLP Week 9.ipynb",
      "provenance": [],
      "authorship_tag": "ABX9TyO/kBkaQHIPU/8qAVqXfmS8"
    },
    "kernelspec": {
      "name": "python3",
      "display_name": "Python 3"
    },
    "language_info": {
      "name": "python"
    }
  },
  "cells": [
    {
      "cell_type": "markdown",
      "source": [
        "# Decision Tree Regressor with Diabetes Dataset"
      ],
      "metadata": {
        "id": "JHaAqw-1yJEL"
      }
    },
    {
      "cell_type": "code",
      "execution_count": null,
      "metadata": {
        "id": "grDGUryoxpfy"
      },
      "outputs": [],
      "source": [
        "from sklearn.datasets import load_diabetes"
      ]
    },
    {
      "cell_type": "code",
      "source": [
        "from sklearn.datasets import load_diabetes\n",
        "\n",
        "import pandas as pd\n",
        "import numpy as np\n",
        "import matplotlib.pyplot as plt\n",
        "from sklearn.metrics import mean_squared_error, mean_absolute_error, mean_absolute_percentage_error, r2_score\n",
        "from sklearn.datasets import load_wine\n",
        "from sklearn.model_selection import train_test_split\n",
        "from sklearn.tree import DecisionTreeRegressor\n",
        "from sklearn import tree"
      ],
      "metadata": {
        "id": "1GqunOUSxvWC"
      },
      "execution_count": null,
      "outputs": []
    },
    {
      "cell_type": "code",
      "source": [
        "features, labels = load_diabetes(return_X_y=True, as_frame=True)\n",
        "\n",
        "X_train, X_test, y_train, y_test = train_test_split(features, labels, test_size=0.3, random_state=1)"
      ],
      "metadata": {
        "id": "r-pxAJ_bx02v"
      },
      "execution_count": null,
      "outputs": []
    },
    {
      "cell_type": "code",
      "source": [
        "from sklearn.model_selection import GridSearchCV\n",
        "\n",
        "criterion = ['squared_error', 'friedman_mse', 'absolute_error', 'poisson']\n",
        "splitter = ['random', 'best']\n",
        "max_features = ['auto','sqrt', 'log2']\n",
        "ccp_alpha = [0.001,0.01,0.02,0.05]\n",
        "\n",
        "param_grid = {'criterion':criterion, 'splitter': splitter, 'max_features':max_features, 'ccp_alpha':ccp_alpha} \n",
        "dt_reg2 = DecisionTreeRegressor(max_depth =4,\n",
        "                               random_state=1)\n",
        "clf = GridSearchCV(dt_reg2, param_grid=param_grid, cv=4, return_train_score=True)\n",
        "clf.fit(X_train, y_train)"
      ],
      "metadata": {
        "colab": {
          "base_uri": "https://localhost:8080/"
        },
        "id": "zaDVGMMcx2lU",
        "outputId": "7c0f20c4-0dd2-4666-f1f8-a1d6446de2bf"
      },
      "execution_count": null,
      "outputs": [
        {
          "output_type": "execute_result",
          "data": {
            "text/plain": [
              "GridSearchCV(cv=4, estimator=DecisionTreeRegressor(max_depth=4, random_state=1),\n",
              "             param_grid={'ccp_alpha': [0.001, 0.01, 0.02, 0.05],\n",
              "                         'criterion': ['squared_error', 'friedman_mse',\n",
              "                                       'absolute_error', 'poisson'],\n",
              "                         'max_features': ['auto', 'sqrt', 'log2'],\n",
              "                         'splitter': ['random', 'best']},\n",
              "             return_train_score=True)"
            ]
          },
          "metadata": {},
          "execution_count": 4
        }
      ]
    },
    {
      "cell_type": "code",
      "source": [
        "clf.best_params_"
      ],
      "metadata": {
        "colab": {
          "base_uri": "https://localhost:8080/"
        },
        "id": "eZH6KSj6x6ms",
        "outputId": "5d4507bc-affd-4075-d99e-50520a156c53"
      },
      "execution_count": null,
      "outputs": [
        {
          "output_type": "execute_result",
          "data": {
            "text/plain": [
              "{'ccp_alpha': 0.02,\n",
              " 'criterion': 'absolute_error',\n",
              " 'max_features': 'auto',\n",
              " 'splitter': 'best'}"
            ]
          },
          "metadata": {},
          "execution_count": 5
        }
      ]
    },
    {
      "cell_type": "code",
      "source": [
        "clf.score(X_test,y_test)"
      ],
      "metadata": {
        "colab": {
          "base_uri": "https://localhost:8080/"
        },
        "id": "SBAG0CErx9Ot",
        "outputId": "b6d28362-8d31-496c-b772-e96827fb7692"
      },
      "execution_count": null,
      "outputs": [
        {
          "output_type": "execute_result",
          "data": {
            "text/plain": [
              "0.10873445074064803"
            ]
          },
          "metadata": {},
          "execution_count": 8
        }
      ]
    },
    {
      "cell_type": "code",
      "source": [
        ""
      ],
      "metadata": {
        "id": "25kXRy2rypsQ"
      },
      "execution_count": null,
      "outputs": []
    }
  ]
}